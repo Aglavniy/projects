{
 "cells": [
  {
   "cell_type": "code",
   "execution_count": 1,
   "id": "2850e33c-c5df-4640-9ef3-bf58cd911afe",
   "metadata": {},
   "outputs": [],
   "source": [
    "import pandas as pd\n",
    "import numpy as np\n",
    "\n",
    "from bs4 import BeautifulSoup\n",
    "import requests\n",
    "\n",
    "import matplotlib.pyplot as plt"
   ]
  },
  {
   "cell_type": "markdown",
   "id": "83ed81a7-079c-49d8-bc3d-70d85b446476",
   "metadata": {
    "jp-MarkdownHeadingCollapsed": true
   },
   "source": [
    "### 1 задача"
   ]
  },
  {
   "cell_type": "code",
   "execution_count": 2,
   "id": "b498859a-cbb8-4ce4-ad75-18e99714fd68",
   "metadata": {},
   "outputs": [
    {
     "name": "stdout",
     "output_type": "stream",
     "text": [
      "Код сервера:  200\n",
      "Курс доллара сегодня: 92.7519\n"
     ]
    }
   ],
   "source": [
    "url = 'https://cbr.ru/'\n",
    "response = requests.get(url)\n",
    "\n",
    "#проверка статуса\n",
    "if response.status_code == 200:\n",
    "\n",
    "    #получение ссылки на валюты\n",
    "    tree = BeautifulSoup(response.content, 'html.parser')\n",
    "    #поиск инфы на сайте цб\n",
    "    ex=tree.find_all('div', {'class': 'col-md-2 col-xs-7 _right'})\n",
    "    \n",
    "    #ссылка на текущую дату\n",
    "    date_all = ex[0].a['href']\n",
    "    \n",
    "    #поллучение списка всех валют\n",
    "    response_date = requests.get(url+date_all)\n",
    "    tree_all = BeautifulSoup(response_date.content, 'html.parser')\n",
    "    table_course = tree_all.find_all('table',{'class':'data'})\n",
    "    \n",
    "    #находим значение доллара на текущий день\n",
    "    for i in table_course[0].find_all('tr')[1:]:\n",
    "        if i.td.text == '840':\n",
    "            usd = i.find_all('td')[-1].text\n",
    "            usd = float(usd.replace(',','.'))\n",
    "    print('Код сервера: ',response.status_code )\n",
    "    \n",
    "else:\n",
    "    print('сервер выдал ошибку: ', response.status_code)\n",
    "    usd=93\n",
    "\n",
    "print('Курс доллара сегодня:', usd)"
   ]
  },
  {
   "cell_type": "code",
   "execution_count": 3,
   "id": "b6b4143e-b207-425a-8cfe-18bfa76ffbaa",
   "metadata": {},
   "outputs": [],
   "source": [
    "df = pd.DataFrame({'goods':np.arange(0,100,1), 'price_usd':np.arange(10,1001,10)})"
   ]
  },
  {
   "cell_type": "code",
   "execution_count": 4,
   "id": "3a8d535b-106e-471f-a8f7-e1c866699c86",
   "metadata": {},
   "outputs": [],
   "source": [
    "df['accessories'] = df['goods'].apply(lambda x: 'accessories_' + str(x))"
   ]
  },
  {
   "cell_type": "code",
   "execution_count": 5,
   "id": "6b932679-d2f5-42cf-b601-91ac2b1913c4",
   "metadata": {},
   "outputs": [],
   "source": [
    "df =df.drop('goods', axis=1)[['accessories','price_usd']]"
   ]
  },
  {
   "cell_type": "code",
   "execution_count": 6,
   "id": "5217cc42-aa3d-44b2-8e58-8c07707f832b",
   "metadata": {},
   "outputs": [],
   "source": [
    "df['price_rub'] = df['price_usd']*usd"
   ]
  },
  {
   "cell_type": "code",
   "execution_count": 7,
   "id": "bb64fe62-058c-404b-888d-e14b79fac80d",
   "metadata": {},
   "outputs": [
    {
     "data": {
      "text/html": [
       "<div>\n",
       "<style scoped>\n",
       "    .dataframe tbody tr th:only-of-type {\n",
       "        vertical-align: middle;\n",
       "    }\n",
       "\n",
       "    .dataframe tbody tr th {\n",
       "        vertical-align: top;\n",
       "    }\n",
       "\n",
       "    .dataframe thead th {\n",
       "        text-align: right;\n",
       "    }\n",
       "</style>\n",
       "<table border=\"1\" class=\"dataframe\">\n",
       "  <thead>\n",
       "    <tr style=\"text-align: right;\">\n",
       "      <th></th>\n",
       "      <th>accessories</th>\n",
       "      <th>price_usd</th>\n",
       "      <th>price_rub</th>\n",
       "    </tr>\n",
       "  </thead>\n",
       "  <tbody>\n",
       "    <tr>\n",
       "      <th>0</th>\n",
       "      <td>accessories_0</td>\n",
       "      <td>10</td>\n",
       "      <td>927.519</td>\n",
       "    </tr>\n",
       "    <tr>\n",
       "      <th>1</th>\n",
       "      <td>accessories_1</td>\n",
       "      <td>20</td>\n",
       "      <td>1855.038</td>\n",
       "    </tr>\n",
       "    <tr>\n",
       "      <th>2</th>\n",
       "      <td>accessories_2</td>\n",
       "      <td>30</td>\n",
       "      <td>2782.557</td>\n",
       "    </tr>\n",
       "    <tr>\n",
       "      <th>3</th>\n",
       "      <td>accessories_3</td>\n",
       "      <td>40</td>\n",
       "      <td>3710.076</td>\n",
       "    </tr>\n",
       "    <tr>\n",
       "      <th>4</th>\n",
       "      <td>accessories_4</td>\n",
       "      <td>50</td>\n",
       "      <td>4637.595</td>\n",
       "    </tr>\n",
       "    <tr>\n",
       "      <th>...</th>\n",
       "      <td>...</td>\n",
       "      <td>...</td>\n",
       "      <td>...</td>\n",
       "    </tr>\n",
       "    <tr>\n",
       "      <th>95</th>\n",
       "      <td>accessories_95</td>\n",
       "      <td>960</td>\n",
       "      <td>89041.824</td>\n",
       "    </tr>\n",
       "    <tr>\n",
       "      <th>96</th>\n",
       "      <td>accessories_96</td>\n",
       "      <td>970</td>\n",
       "      <td>89969.343</td>\n",
       "    </tr>\n",
       "    <tr>\n",
       "      <th>97</th>\n",
       "      <td>accessories_97</td>\n",
       "      <td>980</td>\n",
       "      <td>90896.862</td>\n",
       "    </tr>\n",
       "    <tr>\n",
       "      <th>98</th>\n",
       "      <td>accessories_98</td>\n",
       "      <td>990</td>\n",
       "      <td>91824.381</td>\n",
       "    </tr>\n",
       "    <tr>\n",
       "      <th>99</th>\n",
       "      <td>accessories_99</td>\n",
       "      <td>1000</td>\n",
       "      <td>92751.900</td>\n",
       "    </tr>\n",
       "  </tbody>\n",
       "</table>\n",
       "<p>100 rows × 3 columns</p>\n",
       "</div>"
      ],
      "text/plain": [
       "       accessories  price_usd  price_rub\n",
       "0    accessories_0         10    927.519\n",
       "1    accessories_1         20   1855.038\n",
       "2    accessories_2         30   2782.557\n",
       "3    accessories_3         40   3710.076\n",
       "4    accessories_4         50   4637.595\n",
       "..             ...        ...        ...\n",
       "95  accessories_95        960  89041.824\n",
       "96  accessories_96        970  89969.343\n",
       "97  accessories_97        980  90896.862\n",
       "98  accessories_98        990  91824.381\n",
       "99  accessories_99       1000  92751.900\n",
       "\n",
       "[100 rows x 3 columns]"
      ]
     },
     "execution_count": 7,
     "metadata": {},
     "output_type": "execute_result"
    }
   ],
   "source": [
    "df\n"
   ]
  },
  {
   "cell_type": "code",
   "execution_count": 8,
   "id": "596658ca-8036-42a2-9012-8427adc9bccd",
   "metadata": {},
   "outputs": [],
   "source": [
    "#функция для распредления скидки\n",
    "def end_price(x):\n",
    "    if x >=50000:\n",
    "        return x*0.8\n",
    "    if x >=10000:\n",
    "        return x*0.9\n",
    "    if x >=5000:\n",
    "        return x*0.95\n",
    "    if x >=1000:\n",
    "        return x*0.98\n",
    "    return x"
   ]
  },
  {
   "cell_type": "code",
   "execution_count": 9,
   "id": "94dc5635-062a-43b6-90c9-499b2246d008",
   "metadata": {},
   "outputs": [],
   "source": [
    "df['price_w_discount'] = df['price_rub'].apply(end_price)"
   ]
  },
  {
   "cell_type": "code",
   "execution_count": 10,
   "id": "d88bac0b-1236-4019-b85a-07004e64d3a4",
   "metadata": {},
   "outputs": [
    {
     "data": {
      "text/html": [
       "<div>\n",
       "<style scoped>\n",
       "    .dataframe tbody tr th:only-of-type {\n",
       "        vertical-align: middle;\n",
       "    }\n",
       "\n",
       "    .dataframe tbody tr th {\n",
       "        vertical-align: top;\n",
       "    }\n",
       "\n",
       "    .dataframe thead th {\n",
       "        text-align: right;\n",
       "    }\n",
       "</style>\n",
       "<table border=\"1\" class=\"dataframe\">\n",
       "  <thead>\n",
       "    <tr style=\"text-align: right;\">\n",
       "      <th></th>\n",
       "      <th>accessories</th>\n",
       "      <th>price_usd</th>\n",
       "      <th>price_rub</th>\n",
       "      <th>price_w_discount</th>\n",
       "    </tr>\n",
       "  </thead>\n",
       "  <tbody>\n",
       "    <tr>\n",
       "      <th>0</th>\n",
       "      <td>accessories_0</td>\n",
       "      <td>10</td>\n",
       "      <td>927.519</td>\n",
       "      <td>927.51900</td>\n",
       "    </tr>\n",
       "    <tr>\n",
       "      <th>1</th>\n",
       "      <td>accessories_1</td>\n",
       "      <td>20</td>\n",
       "      <td>1855.038</td>\n",
       "      <td>1817.93724</td>\n",
       "    </tr>\n",
       "    <tr>\n",
       "      <th>2</th>\n",
       "      <td>accessories_2</td>\n",
       "      <td>30</td>\n",
       "      <td>2782.557</td>\n",
       "      <td>2726.90586</td>\n",
       "    </tr>\n",
       "    <tr>\n",
       "      <th>3</th>\n",
       "      <td>accessories_3</td>\n",
       "      <td>40</td>\n",
       "      <td>3710.076</td>\n",
       "      <td>3635.87448</td>\n",
       "    </tr>\n",
       "    <tr>\n",
       "      <th>4</th>\n",
       "      <td>accessories_4</td>\n",
       "      <td>50</td>\n",
       "      <td>4637.595</td>\n",
       "      <td>4544.84310</td>\n",
       "    </tr>\n",
       "    <tr>\n",
       "      <th>...</th>\n",
       "      <td>...</td>\n",
       "      <td>...</td>\n",
       "      <td>...</td>\n",
       "      <td>...</td>\n",
       "    </tr>\n",
       "    <tr>\n",
       "      <th>95</th>\n",
       "      <td>accessories_95</td>\n",
       "      <td>960</td>\n",
       "      <td>89041.824</td>\n",
       "      <td>71233.45920</td>\n",
       "    </tr>\n",
       "    <tr>\n",
       "      <th>96</th>\n",
       "      <td>accessories_96</td>\n",
       "      <td>970</td>\n",
       "      <td>89969.343</td>\n",
       "      <td>71975.47440</td>\n",
       "    </tr>\n",
       "    <tr>\n",
       "      <th>97</th>\n",
       "      <td>accessories_97</td>\n",
       "      <td>980</td>\n",
       "      <td>90896.862</td>\n",
       "      <td>72717.48960</td>\n",
       "    </tr>\n",
       "    <tr>\n",
       "      <th>98</th>\n",
       "      <td>accessories_98</td>\n",
       "      <td>990</td>\n",
       "      <td>91824.381</td>\n",
       "      <td>73459.50480</td>\n",
       "    </tr>\n",
       "    <tr>\n",
       "      <th>99</th>\n",
       "      <td>accessories_99</td>\n",
       "      <td>1000</td>\n",
       "      <td>92751.900</td>\n",
       "      <td>74201.52000</td>\n",
       "    </tr>\n",
       "  </tbody>\n",
       "</table>\n",
       "<p>100 rows × 4 columns</p>\n",
       "</div>"
      ],
      "text/plain": [
       "       accessories  price_usd  price_rub  price_w_discount\n",
       "0    accessories_0         10    927.519         927.51900\n",
       "1    accessories_1         20   1855.038        1817.93724\n",
       "2    accessories_2         30   2782.557        2726.90586\n",
       "3    accessories_3         40   3710.076        3635.87448\n",
       "4    accessories_4         50   4637.595        4544.84310\n",
       "..             ...        ...        ...               ...\n",
       "95  accessories_95        960  89041.824       71233.45920\n",
       "96  accessories_96        970  89969.343       71975.47440\n",
       "97  accessories_97        980  90896.862       72717.48960\n",
       "98  accessories_98        990  91824.381       73459.50480\n",
       "99  accessories_99       1000  92751.900       74201.52000\n",
       "\n",
       "[100 rows x 4 columns]"
      ]
     },
     "execution_count": 10,
     "metadata": {},
     "output_type": "execute_result"
    }
   ],
   "source": [
    "df"
   ]
  },
  {
   "cell_type": "markdown",
   "id": "f670028d-f48f-4c8d-aa5a-467f6ec74742",
   "metadata": {
    "jp-MarkdownHeadingCollapsed": true
   },
   "source": [
    "### 2 задача"
   ]
  },
  {
   "cell_type": "code",
   "execution_count": 11,
   "id": "ad7800e2-4d73-44cc-b14e-9ca5af2abeeb",
   "metadata": {},
   "outputs": [],
   "source": [
    "# в человеках\n",
    "grandma = 40\n",
    "\n",
    "#в секундах\n",
    "mean_service = 60\n",
    "\n",
    "# время первой баб. в секундах\n",
    "first_grandma = 9*60 + 15\n",
    "\n",
    "#шаг времени следующе баб.\n",
    "step = 10"
   ]
  },
  {
   "cell_type": "code",
   "execution_count": 12,
   "id": "341cba30-c4a3-43ff-9d73-47ec22a71a9c",
   "metadata": {
    "scrolled": true
   },
   "outputs": [],
   "source": [
    "df_2 = pd.DataFrame({'grandma':np.arange(1,41,1), 'time':np.full(40, np.arange(first_grandma,0,-step)[:40])})"
   ]
  },
  {
   "cell_type": "code",
   "execution_count": 13,
   "id": "18319d14-0923-4dcb-8697-26f00d522874",
   "metadata": {},
   "outputs": [
    {
     "data": {
      "text/html": [
       "<div>\n",
       "<style scoped>\n",
       "    .dataframe tbody tr th:only-of-type {\n",
       "        vertical-align: middle;\n",
       "    }\n",
       "\n",
       "    .dataframe tbody tr th {\n",
       "        vertical-align: top;\n",
       "    }\n",
       "\n",
       "    .dataframe thead th {\n",
       "        text-align: right;\n",
       "    }\n",
       "</style>\n",
       "<table border=\"1\" class=\"dataframe\">\n",
       "  <thead>\n",
       "    <tr style=\"text-align: right;\">\n",
       "      <th></th>\n",
       "      <th>grandma</th>\n",
       "      <th>time</th>\n",
       "    </tr>\n",
       "  </thead>\n",
       "  <tbody>\n",
       "    <tr>\n",
       "      <th>0</th>\n",
       "      <td>1</td>\n",
       "      <td>555</td>\n",
       "    </tr>\n",
       "    <tr>\n",
       "      <th>1</th>\n",
       "      <td>2</td>\n",
       "      <td>545</td>\n",
       "    </tr>\n",
       "    <tr>\n",
       "      <th>2</th>\n",
       "      <td>3</td>\n",
       "      <td>535</td>\n",
       "    </tr>\n",
       "    <tr>\n",
       "      <th>3</th>\n",
       "      <td>4</td>\n",
       "      <td>525</td>\n",
       "    </tr>\n",
       "    <tr>\n",
       "      <th>4</th>\n",
       "      <td>5</td>\n",
       "      <td>515</td>\n",
       "    </tr>\n",
       "  </tbody>\n",
       "</table>\n",
       "</div>"
      ],
      "text/plain": [
       "   grandma  time\n",
       "0        1   555\n",
       "1        2   545\n",
       "2        3   535\n",
       "3        4   525\n",
       "4        5   515"
      ]
     },
     "execution_count": 13,
     "metadata": {},
     "output_type": "execute_result"
    }
   ],
   "source": [
    "df_2.head()"
   ]
  },
  {
   "cell_type": "code",
   "execution_count": 14,
   "id": "beec0b62-029d-4a0e-b254-be1f6c76ac82",
   "metadata": {},
   "outputs": [
    {
     "data": {
      "image/png": "[encoded data removed]",
      "text/plain": [
       "<Figure size 1200x700 with 1 Axes>"
      ]
     },
     "metadata": {},
     "output_type": "display_data"
    }
   ],
   "source": [
    "fig = plt.figure()\n",
    "\n",
    "fig.set_size_inches(12, 7)\n",
    "\n",
    "plt.bar(df_2['grandma'], df_2['time'], color='green')\n",
    "\n",
    "\n",
    "plt.title('Время обслуживания клиента')\n",
    "plt.yticks(np.arange(0, 565, step=20))\n",
    "plt.xticks(np.arange(0, 41, step=1))\n",
    "plt.xlabel('порядковый номер бабушки')\n",
    "plt.ylabel('время в секундах')\n",
    "plt.show()"
   ]
  },
  {
   "cell_type": "code",
   "execution_count": 15,
   "id": "c5788142-9927-47b4-a97b-9c9c42f5d062",
   "metadata": {},
   "outputs": [
    {
     "name": "stdout",
     "output_type": "stream",
     "text": [
      "Кассир обслуживала 4.0 часа\n"
     ]
    }
   ],
   "source": [
    "time_total = sum(df_2['time'])/60/60\n",
    "print(f'Кассир обслуживала {time_total} часа')"
   ]
  },
  {
   "cell_type": "markdown",
   "id": "60b26e4b-3fba-4a5f-88f1-96812b2e630b",
   "metadata": {
    "jp-MarkdownHeadingCollapsed": true
   },
   "source": [
    "### 3 задача"
   ]
  },
  {
   "cell_type": "markdown",
   "id": "0317b5b6-0a49-4cc9-93e8-8877fff14b7f",
   "metadata": {},
   "source": [
    "На заводе \"Прогресс\" каждому сотруднику зарплату за месяц выдают дважды: сначала часть оклада в виде аванса, а по истечении месяца - остальную часть оклада. \n",
    "При этом при окончательном расчете удерживают также подоходный и пенсионный налоги и профсоюзный взнос. \n",
    "Цель исследования: \n",
    " По известному окладу одного сотрудника произвести расчет выплаты зарплаты в конце месяца, если известно:\n",
    " - аванс составляет 40% от оклада;\n",
    " - подоходный налог составляет 13% от величины  оклад минус пенсионный налог.\n",
    " - профсоюзный взнос и пенсионный налог составляют по 1% от оклада."
   ]
  },
  {
   "cell_type": "markdown",
   "id": "f13d48df-3e2c-42e3-bde2-96d6a18288e0",
   "metadata": {},
   "source": [
    "создадим пример таблицы"
   ]
  },
  {
   "cell_type": "code",
   "execution_count": 16,
   "id": "f993d882-9f96-4e2a-8b0e-c73ed08087eb",
   "metadata": {},
   "outputs": [],
   "source": [
    "df_3 = pd.DataFrame({'number_employee':np.arange(1,41,1), 'salary':np.full(40, np.arange(50000,150000,2500)[:40])})"
   ]
  },
  {
   "cell_type": "code",
   "execution_count": 17,
   "id": "e045b20b-ef25-49aa-abe3-6abd2e57480b",
   "metadata": {},
   "outputs": [],
   "source": [
    "# рассчитаем аванс\n",
    "df_3['prepayment'] = df_3['salary']*0.4\n",
    "# рассчитаем величину оклада после налогоблажения сначала считаем оклад минус проф взнос и пенс налог - вместе 2%,\n",
    "#затем подоходный налог от суммы, которая получилась.\n",
    "df_3['salary_after_tax'] = (df_3['salary']*0.98)*0.87\n",
    "\n",
    "#  посчитаем итоговую зарплату в конце мсеяца\n",
    "df_3['salary_end_month'] = df_3['salary_after_tax'] - df_3['prepayment']"
   ]
  },
  {
   "cell_type": "markdown",
   "id": "c42c8a19-245a-484a-a4b1-bc147b7ca194",
   "metadata": {},
   "source": [
    "salary_end_month показывает сумму оклада в конце мсеяца для каждого сотрудника."
   ]
  },
  {
   "cell_type": "code",
   "execution_count": 18,
   "id": "e90d10de-4210-460a-a749-bc8372e1196c",
   "metadata": {},
   "outputs": [
    {
     "data": {
      "text/html": [
       "<div>\n",
       "<style scoped>\n",
       "    .dataframe tbody tr th:only-of-type {\n",
       "        vertical-align: middle;\n",
       "    }\n",
       "\n",
       "    .dataframe tbody tr th {\n",
       "        vertical-align: top;\n",
       "    }\n",
       "\n",
       "    .dataframe thead th {\n",
       "        text-align: right;\n",
       "    }\n",
       "</style>\n",
       "<table border=\"1\" class=\"dataframe\">\n",
       "  <thead>\n",
       "    <tr style=\"text-align: right;\">\n",
       "      <th></th>\n",
       "      <th>number_employee</th>\n",
       "      <th>salary</th>\n",
       "      <th>prepayment</th>\n",
       "      <th>salary_after_tax</th>\n",
       "      <th>salary_end_month</th>\n",
       "    </tr>\n",
       "  </thead>\n",
       "  <tbody>\n",
       "    <tr>\n",
       "      <th>0</th>\n",
       "      <td>1</td>\n",
       "      <td>50000</td>\n",
       "      <td>20000.0</td>\n",
       "      <td>42630.0</td>\n",
       "      <td>22630.0</td>\n",
       "    </tr>\n",
       "    <tr>\n",
       "      <th>1</th>\n",
       "      <td>2</td>\n",
       "      <td>52500</td>\n",
       "      <td>21000.0</td>\n",
       "      <td>44761.5</td>\n",
       "      <td>23761.5</td>\n",
       "    </tr>\n",
       "    <tr>\n",
       "      <th>2</th>\n",
       "      <td>3</td>\n",
       "      <td>55000</td>\n",
       "      <td>22000.0</td>\n",
       "      <td>46893.0</td>\n",
       "      <td>24893.0</td>\n",
       "    </tr>\n",
       "    <tr>\n",
       "      <th>3</th>\n",
       "      <td>4</td>\n",
       "      <td>57500</td>\n",
       "      <td>23000.0</td>\n",
       "      <td>49024.5</td>\n",
       "      <td>26024.5</td>\n",
       "    </tr>\n",
       "    <tr>\n",
       "      <th>4</th>\n",
       "      <td>5</td>\n",
       "      <td>60000</td>\n",
       "      <td>24000.0</td>\n",
       "      <td>51156.0</td>\n",
       "      <td>27156.0</td>\n",
       "    </tr>\n",
       "  </tbody>\n",
       "</table>\n",
       "</div>"
      ],
      "text/plain": [
       "   number_employee  salary  prepayment  salary_after_tax  salary_end_month\n",
       "0                1   50000     20000.0           42630.0           22630.0\n",
       "1                2   52500     21000.0           44761.5           23761.5\n",
       "2                3   55000     22000.0           46893.0           24893.0\n",
       "3                4   57500     23000.0           49024.5           26024.5\n",
       "4                5   60000     24000.0           51156.0           27156.0"
      ]
     },
     "execution_count": 18,
     "metadata": {},
     "output_type": "execute_result"
    }
   ],
   "source": [
    "df_3.head()"
   ]
  },
  {
   "cell_type": "markdown",
   "id": "59f0aee3-b6b3-416d-a36a-91ff2b9de31d",
   "metadata": {
    "jp-MarkdownHeadingCollapsed": true
   },
   "source": [
    "### 4 задача"
   ]
  },
  {
   "cell_type": "markdown",
   "id": "76c2d25c-1d97-4b8c-b830-fd27a81baab0",
   "metadata": {},
   "source": [
    "Спланируйте расходы на бензин для ежедневных поездок из п. Половинка в г. Урай на автомобиле. Если известно:\n",
    " - расстояние м/д населёнными пунктами в км. (30 км. в одну сторону)\n",
    " - расход бензина (8 литров на 100 км.) \n",
    " - количество поездок в месяц разное (т.к. разное количество рабочих дней.)\n",
    " - цена 1 литра бензина ( n рублей за литр.)\n",
    " - ежемесячный прогнозируемый рост цены на бензин - k% в месяц\n",
    " Рассчитайте ежемесячный   и годовой расход на бензин. Постройте график изменения цены бензина и график ежемесячных расходов."
   ]
  },
  {
   "cell_type": "code",
   "execution_count": 19,
   "id": "29d79282-d226-4bbc-bbcb-1c02921185a5",
   "metadata": {
    "scrolled": true
   },
   "outputs": [
    {
     "name": "stdout",
     "output_type": "stream",
     "text": [
      "Requirement already satisfied: holidays in /opt/miniconda3/lib/python3.11/site-packages (0.43)\n",
      "Requirement already satisfied: python-dateutil in /opt/miniconda3/lib/python3.11/site-packages (from holidays) (2.8.2)\n",
      "Requirement already satisfied: six>=1.5 in /opt/miniconda3/lib/python3.11/site-packages (from python-dateutil->holidays) (1.16.0)\n",
      "\n",
      "\u001b[1m[\u001b[0m\u001b[34;49mnotice\u001b[0m\u001b[1;39;49m]\u001b[0m\u001b[39;49m A new release of pip is available: \u001b[0m\u001b[31;49m23.3.1\u001b[0m\u001b[39;49m -> \u001b[0m\u001b[32;49m24.0\u001b[0m\n",
      "\u001b[1m[\u001b[0m\u001b[34;49mnotice\u001b[0m\u001b[1;39;49m]\u001b[0m\u001b[39;49m To update, run: \u001b[0m\u001b[32;49mpip install --upgrade pip\u001b[0m\n",
      "Note: you may need to restart the kernel to use updated packages.\n"
     ]
    }
   ],
   "source": [
    "pip install holidays "
   ]
  },
  {
   "cell_type": "code",
   "execution_count": 20,
   "id": "256ab865-bc33-482a-be67-af318df389ec",
   "metadata": {},
   "outputs": [],
   "source": [
    "import datetime\n",
    "import calendar\n",
    "import holidays"
   ]
  },
  {
   "cell_type": "code",
   "execution_count": 21,
   "id": "221a11e6-8ae0-4029-a991-8496f5e07122",
   "metadata": {},
   "outputs": [],
   "source": [
    "# праздники и выходные\n",
    "no_work_days = []"
   ]
  },
  {
   "cell_type": "code",
   "execution_count": 22,
   "id": "6f666971-f953-4521-b422-6b79366bcb30",
   "metadata": {},
   "outputs": [],
   "source": [
    "df_4 = pd.DataFrame({'date':pd.date_range(start='21/02/2024', end='21/02/2025')})"
   ]
  },
  {
   "cell_type": "code",
   "execution_count": 23,
   "id": "53384a20-fb41-42cf-9280-7f1713548759",
   "metadata": {},
   "outputs": [
    {
     "data": {
      "text/html": [
       "<div>\n",
       "<style scoped>\n",
       "    .dataframe tbody tr th:only-of-type {\n",
       "        vertical-align: middle;\n",
       "    }\n",
       "\n",
       "    .dataframe tbody tr th {\n",
       "        vertical-align: top;\n",
       "    }\n",
       "\n",
       "    .dataframe thead th {\n",
       "        text-align: right;\n",
       "    }\n",
       "</style>\n",
       "<table border=\"1\" class=\"dataframe\">\n",
       "  <thead>\n",
       "    <tr style=\"text-align: right;\">\n",
       "      <th></th>\n",
       "      <th>date</th>\n",
       "    </tr>\n",
       "  </thead>\n",
       "  <tbody>\n",
       "    <tr>\n",
       "      <th>0</th>\n",
       "      <td>2024-02-21</td>\n",
       "    </tr>\n",
       "    <tr>\n",
       "      <th>1</th>\n",
       "      <td>2024-02-22</td>\n",
       "    </tr>\n",
       "    <tr>\n",
       "      <th>2</th>\n",
       "      <td>2024-02-23</td>\n",
       "    </tr>\n",
       "    <tr>\n",
       "      <th>3</th>\n",
       "      <td>2024-02-24</td>\n",
       "    </tr>\n",
       "    <tr>\n",
       "      <th>4</th>\n",
       "      <td>2024-02-25</td>\n",
       "    </tr>\n",
       "  </tbody>\n",
       "</table>\n",
       "</div>"
      ],
      "text/plain": [
       "        date\n",
       "0 2024-02-21\n",
       "1 2024-02-22\n",
       "2 2024-02-23\n",
       "3 2024-02-24\n",
       "4 2024-02-25"
      ]
     },
     "execution_count": 23,
     "metadata": {},
     "output_type": "execute_result"
    }
   ],
   "source": [
    "df_4.head()"
   ]
  },
  {
   "cell_type": "code",
   "execution_count": 24,
   "id": "635921ad-f4f6-478e-922d-7409752dd10e",
   "metadata": {},
   "outputs": [],
   "source": [
    "#добавим праздники\n",
    "for year in [2024,2025]:\n",
    "    for p in holidays.RU(years = year).items(): \n",
    "        no_work_days.append(p[0])\n",
    "#преобразуем тип даты\n",
    "no_work_days=pd.to_datetime(no_work_days)"
   ]
  },
  {
   "cell_type": "code",
   "execution_count": 25,
   "id": "cbe2f0dc-a126-4a4a-8416-909a86199df9",
   "metadata": {},
   "outputs": [],
   "source": [
    "def work_days(x):\n",
    "    ###возвращает 1, если день рабочий , 0 если выходной\n",
    "    if (calendar.weekday(x.year,x.month,x.day) == 5) or\\\n",
    "        (calendar.weekday(x.year,x.month,x.day) == 6):\n",
    "        return 0\n",
    "    if x in no_work_days:\n",
    "        return 0\n",
    "    return 1"
   ]
  },
  {
   "cell_type": "code",
   "execution_count": 26,
   "id": "970474e6-f846-4e0b-b76c-eaf9e7114a0f",
   "metadata": {},
   "outputs": [],
   "source": [
    "#добавим выходные\n",
    "df_4['work_day'] = df_4['date'].apply(work_days)"
   ]
  },
  {
   "cell_type": "code",
   "execution_count": 27,
   "id": "361c748d-2d48-4cde-9958-2ee6b477b73b",
   "metadata": {},
   "outputs": [],
   "source": [
    "df_4['month'] = df_4['date'].dt.month\n",
    "df_4['year'] = df_4['date'].dt.year"
   ]
  },
  {
   "cell_type": "code",
   "execution_count": 28,
   "id": "7edc7795-496d-4de9-99b5-8ecec8ede319",
   "metadata": {},
   "outputs": [],
   "source": [
    "def sum_of_expenses(df, n=50, k=2):\n",
    "    ### сумму за литр - n, k- процент роста\n",
    "\n",
    "    if df['work_day'] == 0:\n",
    "        return 0\n",
    "\n",
    "    #кол-во мсеяцев с 1 даты\n",
    "    count_m = (df['date'].year - df_4['date'][0].year)*12 + df['date'].month - df_4['date'][0].month\n",
    "    #нарастающая сумма в зав-ти от месяца\n",
    "    for i in range(count_m):\n",
    "        n=n*((k+100)/100)\n",
    "\n",
    "    return (30/(100/8))*n"
   ]
  },
  {
   "cell_type": "code",
   "execution_count": 29,
   "id": "670d94a8-d98c-498c-83e4-3c1e963c3551",
   "metadata": {},
   "outputs": [],
   "source": [
    "def gas_of_expenses(df, n=50, k=2):\n",
    "    ### сумму за литр - n, k- процент роста\n",
    "\n",
    "    #кол-во мсеяцев с 1 даты\n",
    "    count_m = (df['date'].year - df_4['date'][0].year)*12 + df['date'].month - df_4['date'][0].month\n",
    "    #нарастающая сумма в зав-ти от месяца\n",
    "    for i in range(count_m):\n",
    "        n=n*((k+100)/100)\n",
    "\n",
    "    return round(n,2)"
   ]
  },
  {
   "cell_type": "code",
   "execution_count": 30,
   "id": "77499d21-5cc6-4427-9e0a-12201433e723",
   "metadata": {},
   "outputs": [],
   "source": [
    "df_4['gas_1l_price'] = df_4.apply(gas_of_expenses, axis=1)"
   ]
  },
  {
   "cell_type": "code",
   "execution_count": 31,
   "id": "63a896ce-a311-4270-b31a-68bcc7b5a1a2",
   "metadata": {},
   "outputs": [
    {
     "data": {
      "text/html": [
       "<div>\n",
       "<style scoped>\n",
       "    .dataframe tbody tr th:only-of-type {\n",
       "        vertical-align: middle;\n",
       "    }\n",
       "\n",
       "    .dataframe tbody tr th {\n",
       "        vertical-align: top;\n",
       "    }\n",
       "\n",
       "    .dataframe thead th {\n",
       "        text-align: right;\n",
       "    }\n",
       "</style>\n",
       "<table border=\"1\" class=\"dataframe\">\n",
       "  <thead>\n",
       "    <tr style=\"text-align: right;\">\n",
       "      <th></th>\n",
       "      <th>date</th>\n",
       "      <th>work_day</th>\n",
       "      <th>month</th>\n",
       "      <th>year</th>\n",
       "      <th>gas_1l_price</th>\n",
       "    </tr>\n",
       "  </thead>\n",
       "  <tbody>\n",
       "    <tr>\n",
       "      <th>0</th>\n",
       "      <td>2024-02-21</td>\n",
       "      <td>1</td>\n",
       "      <td>2</td>\n",
       "      <td>2024</td>\n",
       "      <td>50.0</td>\n",
       "    </tr>\n",
       "    <tr>\n",
       "      <th>1</th>\n",
       "      <td>2024-02-22</td>\n",
       "      <td>1</td>\n",
       "      <td>2</td>\n",
       "      <td>2024</td>\n",
       "      <td>50.0</td>\n",
       "    </tr>\n",
       "    <tr>\n",
       "      <th>2</th>\n",
       "      <td>2024-02-23</td>\n",
       "      <td>0</td>\n",
       "      <td>2</td>\n",
       "      <td>2024</td>\n",
       "      <td>50.0</td>\n",
       "    </tr>\n",
       "    <tr>\n",
       "      <th>3</th>\n",
       "      <td>2024-02-24</td>\n",
       "      <td>0</td>\n",
       "      <td>2</td>\n",
       "      <td>2024</td>\n",
       "      <td>50.0</td>\n",
       "    </tr>\n",
       "    <tr>\n",
       "      <th>4</th>\n",
       "      <td>2024-02-25</td>\n",
       "      <td>0</td>\n",
       "      <td>2</td>\n",
       "      <td>2024</td>\n",
       "      <td>50.0</td>\n",
       "    </tr>\n",
       "  </tbody>\n",
       "</table>\n",
       "</div>"
      ],
      "text/plain": [
       "        date  work_day  month  year  gas_1l_price\n",
       "0 2024-02-21         1      2  2024          50.0\n",
       "1 2024-02-22         1      2  2024          50.0\n",
       "2 2024-02-23         0      2  2024          50.0\n",
       "3 2024-02-24         0      2  2024          50.0\n",
       "4 2024-02-25         0      2  2024          50.0"
      ]
     },
     "execution_count": 31,
     "metadata": {},
     "output_type": "execute_result"
    }
   ],
   "source": [
    "df_4.head()"
   ]
  },
  {
   "cell_type": "code",
   "execution_count": 32,
   "id": "1aa8c724-8336-49dd-afae-cd9a331bc344",
   "metadata": {},
   "outputs": [],
   "source": [
    "df_4['expenses'] = df_4.apply(sum_of_expenses, axis=1)"
   ]
  },
  {
   "cell_type": "code",
   "execution_count": 33,
   "id": "06c49fa6-5801-4334-946f-0d15c1eb0cf8",
   "metadata": {},
   "outputs": [],
   "source": [
    "df_4['expenses'] = round(df_4['expenses'],2)"
   ]
  },
  {
   "cell_type": "code",
   "execution_count": 34,
   "id": "691134e2-ebea-431f-93da-29b5c92d6604",
   "metadata": {},
   "outputs": [
    {
     "data": {
      "text/html": [
       "<div>\n",
       "<style scoped>\n",
       "    .dataframe tbody tr th:only-of-type {\n",
       "        vertical-align: middle;\n",
       "    }\n",
       "\n",
       "    .dataframe tbody tr th {\n",
       "        vertical-align: top;\n",
       "    }\n",
       "\n",
       "    .dataframe thead th {\n",
       "        text-align: right;\n",
       "    }\n",
       "</style>\n",
       "<table border=\"1\" class=\"dataframe\">\n",
       "  <thead>\n",
       "    <tr style=\"text-align: right;\">\n",
       "      <th></th>\n",
       "      <th>date</th>\n",
       "      <th>work_day</th>\n",
       "      <th>month</th>\n",
       "      <th>year</th>\n",
       "      <th>gas_1l_price</th>\n",
       "      <th>expenses</th>\n",
       "    </tr>\n",
       "  </thead>\n",
       "  <tbody>\n",
       "    <tr>\n",
       "      <th>362</th>\n",
       "      <td>2025-02-17</td>\n",
       "      <td>1</td>\n",
       "      <td>2</td>\n",
       "      <td>2025</td>\n",
       "      <td>63.41</td>\n",
       "      <td>152.19</td>\n",
       "    </tr>\n",
       "    <tr>\n",
       "      <th>363</th>\n",
       "      <td>2025-02-18</td>\n",
       "      <td>1</td>\n",
       "      <td>2</td>\n",
       "      <td>2025</td>\n",
       "      <td>63.41</td>\n",
       "      <td>152.19</td>\n",
       "    </tr>\n",
       "    <tr>\n",
       "      <th>364</th>\n",
       "      <td>2025-02-19</td>\n",
       "      <td>1</td>\n",
       "      <td>2</td>\n",
       "      <td>2025</td>\n",
       "      <td>63.41</td>\n",
       "      <td>152.19</td>\n",
       "    </tr>\n",
       "    <tr>\n",
       "      <th>365</th>\n",
       "      <td>2025-02-20</td>\n",
       "      <td>1</td>\n",
       "      <td>2</td>\n",
       "      <td>2025</td>\n",
       "      <td>63.41</td>\n",
       "      <td>152.19</td>\n",
       "    </tr>\n",
       "    <tr>\n",
       "      <th>366</th>\n",
       "      <td>2025-02-21</td>\n",
       "      <td>1</td>\n",
       "      <td>2</td>\n",
       "      <td>2025</td>\n",
       "      <td>63.41</td>\n",
       "      <td>152.19</td>\n",
       "    </tr>\n",
       "  </tbody>\n",
       "</table>\n",
       "</div>"
      ],
      "text/plain": [
       "          date  work_day  month  year  gas_1l_price  expenses\n",
       "362 2025-02-17         1      2  2025         63.41    152.19\n",
       "363 2025-02-18         1      2  2025         63.41    152.19\n",
       "364 2025-02-19         1      2  2025         63.41    152.19\n",
       "365 2025-02-20         1      2  2025         63.41    152.19\n",
       "366 2025-02-21         1      2  2025         63.41    152.19"
      ]
     },
     "execution_count": 34,
     "metadata": {},
     "output_type": "execute_result"
    }
   ],
   "source": [
    "df_4.tail()"
   ]
  },
  {
   "cell_type": "code",
   "execution_count": 35,
   "id": "97e91417-e9f3-4062-864f-95c8fa28405d",
   "metadata": {},
   "outputs": [],
   "source": [
    "# сделаем агрегированную таблицу по общей сумме по мсеяцам и годам\n",
    "example = df_4.pivot_table(columns='month', index = 'year', values='expenses', aggfunc='sum').fillna(0)\n",
    "example['total_by_year'] = example.sum(axis=1)"
   ]
  },
  {
   "cell_type": "code",
   "execution_count": 36,
   "id": "ffbb5192-18ca-4f81-bad7-299567888090",
   "metadata": {},
   "outputs": [
    {
     "data": {
      "text/html": [
       "<div>\n",
       "<style scoped>\n",
       "    .dataframe tbody tr th:only-of-type {\n",
       "        vertical-align: middle;\n",
       "    }\n",
       "\n",
       "    .dataframe tbody tr th {\n",
       "        vertical-align: top;\n",
       "    }\n",
       "\n",
       "    .dataframe thead th {\n",
       "        text-align: right;\n",
       "    }\n",
       "</style>\n",
       "<table border=\"1\" class=\"dataframe\">\n",
       "  <thead>\n",
       "    <tr style=\"text-align: right;\">\n",
       "      <th>month</th>\n",
       "      <th>1</th>\n",
       "      <th>2</th>\n",
       "      <th>3</th>\n",
       "      <th>4</th>\n",
       "      <th>5</th>\n",
       "      <th>6</th>\n",
       "      <th>7</th>\n",
       "      <th>8</th>\n",
       "      <th>9</th>\n",
       "      <th>10</th>\n",
       "      <th>11</th>\n",
       "      <th>12</th>\n",
       "      <th>total_by_year</th>\n",
       "    </tr>\n",
       "    <tr>\n",
       "      <th>year</th>\n",
       "      <th></th>\n",
       "      <th></th>\n",
       "      <th></th>\n",
       "      <th></th>\n",
       "      <th></th>\n",
       "      <th></th>\n",
       "      <th></th>\n",
       "      <th></th>\n",
       "      <th></th>\n",
       "      <th></th>\n",
       "      <th></th>\n",
       "      <th></th>\n",
       "      <th></th>\n",
       "    </tr>\n",
       "  </thead>\n",
       "  <tbody>\n",
       "    <tr>\n",
       "      <th>2024</th>\n",
       "      <td>0.0</td>\n",
       "      <td>720.00</td>\n",
       "      <td>2448.0</td>\n",
       "      <td>2746.7</td>\n",
       "      <td>2674.14</td>\n",
       "      <td>2467.91</td>\n",
       "      <td>3047.27</td>\n",
       "      <td>2973.08</td>\n",
       "      <td>2894.64</td>\n",
       "      <td>3233.8</td>\n",
       "      <td>2868.2</td>\n",
       "      <td>3218.16</td>\n",
       "      <td>29291.90</td>\n",
       "    </tr>\n",
       "    <tr>\n",
       "      <th>2025</th>\n",
       "      <td>2536.4</td>\n",
       "      <td>2282.85</td>\n",
       "      <td>0.0</td>\n",
       "      <td>0.0</td>\n",
       "      <td>0.00</td>\n",
       "      <td>0.00</td>\n",
       "      <td>0.00</td>\n",
       "      <td>0.00</td>\n",
       "      <td>0.00</td>\n",
       "      <td>0.0</td>\n",
       "      <td>0.0</td>\n",
       "      <td>0.00</td>\n",
       "      <td>4819.25</td>\n",
       "    </tr>\n",
       "  </tbody>\n",
       "</table>\n",
       "</div>"
      ],
      "text/plain": [
       "month       1        2       3       4        5        6        7        8  \\\n",
       "year                                                                         \n",
       "2024      0.0   720.00  2448.0  2746.7  2674.14  2467.91  3047.27  2973.08   \n",
       "2025   2536.4  2282.85     0.0     0.0     0.00     0.00     0.00     0.00   \n",
       "\n",
       "month        9      10      11       12  total_by_year  \n",
       "year                                                    \n",
       "2024   2894.64  3233.8  2868.2  3218.16       29291.90  \n",
       "2025      0.00     0.0     0.0     0.00        4819.25  "
      ]
     },
     "execution_count": 36,
     "metadata": {},
     "output_type": "execute_result"
    }
   ],
   "source": [
    "example"
   ]
  },
  {
   "cell_type": "code",
   "execution_count": 37,
   "id": "91982bba-15c3-433b-be7c-954ab3c5e792",
   "metadata": {},
   "outputs": [
    {
     "data": {
      "image/png": "[encoded data removed]",
      "text/plain": [
       "<Figure size 1400x700 with 1 Axes>"
      ]
     },
     "metadata": {},
     "output_type": "display_data"
    }
   ],
   "source": [
    "fig = plt.figure()\n",
    "\n",
    "fig.set_size_inches(14, 7)\n",
    "plt.plot(example.iloc[0,:12])\n",
    "\n",
    "plt.title('Месячные затраты на поездки в 2024')\n",
    "plt.ylim([-100, 2700])\n",
    "plt.xlim([0, 13])\n",
    "plt.yticks(np.arange(0, 3800, step=250))\n",
    "plt.xticks(np.arange(1, 13, step=1))\n",
    "plt.xlabel('Месяц')\n",
    "plt.ylabel('Сумма затрат')\n",
    "plt.scatter(example.iloc[0,:12].index,example.iloc[0,:12], c='red')\n",
    "\n",
    "for i, txt in enumerate(example.iloc[0,:12]):\n",
    "    plt.annotate(round(txt,2), ((example.iloc[0,:12].index[i])-0.4, example.iloc[0,:12][i+1]+190))\n",
    "\n",
    "plt.show()"
   ]
  },
  {
   "cell_type": "code",
   "execution_count": 38,
   "id": "f7d6c325-728d-4b42-b647-eae0fe24f327",
   "metadata": {},
   "outputs": [
    {
     "data": {
      "image/png": "[encoded data removed]",
      "text/plain": [
       "<Figure size 1200x700 with 1 Axes>"
      ]
     },
     "metadata": {},
     "output_type": "display_data"
    }
   ],
   "source": [
    "fig = plt.figure()\n",
    "\n",
    "fig.set_size_inches(12, 7)\n",
    "plt.plot(example.iloc[1,:12])\n",
    "\n",
    "plt.title('Месячные затраты на поездки в 2025')\n",
    "plt.ylim([-100, 2700])\n",
    "plt.xlim([0, 13])\n",
    "plt.yticks(np.arange(0, 3500, step=250))\n",
    "plt.xticks(np.arange(1, 13, step=1))\n",
    "plt.xlabel('Месяц')\n",
    "plt.ylabel('Сумма затрат')\n",
    "plt.scatter(example.iloc[1,:12].index,example.iloc[1,:12], c='red')\n",
    "\n",
    "for i, txt in enumerate(example.iloc[1,:12]):\n",
    "    plt.annotate(round(txt,2), ((example.iloc[1,:12].index[i]), example.iloc[1,:12][i+1]+50))\n",
    "\n",
    "plt.show()"
   ]
  },
  {
   "cell_type": "markdown",
   "id": "f11ba1c0-005b-49dc-961a-6ab28635f03b",
   "metadata": {},
   "source": [
    "Спланируйте расходы на бензин для ежедневных поездок из п. Половинка в г. Урай на автомобиле. Если известно:\n",
    " - расстояние м/д населёнными пунктами в км. (30 км. в одну сторону)\n",
    " - расход бензина (8 литров на 100 км.) \n",
    " - количество поездок в месяц разное (т.к. разное количество рабочих дней.)\n",
    " - цена 1 литра бензина ( n рублей за литр.)\n",
    " - ежемесячный прогнозируемый рост цены на бензин - k% в месяц\n",
    " Рассчитайте ежемесячный   и годовой расход на бензин. Постройте график изменения цены бензина и график ежемесячных расходов."
   ]
  },
  {
   "cell_type": "code",
   "execution_count": 39,
   "id": "aff09fe1-761b-4a90-b722-7d5e3eec38c7",
   "metadata": {},
   "outputs": [],
   "source": [
    "price_gas = df_4.pivot_table(columns='month', index = 'year', values='gas_1l_price', aggfunc='max').fillna(0)"
   ]
  },
  {
   "cell_type": "code",
   "execution_count": 40,
   "id": "5ce7d40b-466a-44d2-948a-5d70c431e3c1",
   "metadata": {},
   "outputs": [
    {
     "data": {
      "text/html": [
       "<div>\n",
       "<style scoped>\n",
       "    .dataframe tbody tr th:only-of-type {\n",
       "        vertical-align: middle;\n",
       "    }\n",
       "\n",
       "    .dataframe tbody tr th {\n",
       "        vertical-align: top;\n",
       "    }\n",
       "\n",
       "    .dataframe thead th {\n",
       "        text-align: right;\n",
       "    }\n",
       "</style>\n",
       "<table border=\"1\" class=\"dataframe\">\n",
       "  <thead>\n",
       "    <tr style=\"text-align: right;\">\n",
       "      <th>month</th>\n",
       "      <th>1</th>\n",
       "      <th>2</th>\n",
       "      <th>3</th>\n",
       "      <th>4</th>\n",
       "      <th>5</th>\n",
       "      <th>6</th>\n",
       "      <th>7</th>\n",
       "      <th>8</th>\n",
       "      <th>9</th>\n",
       "      <th>10</th>\n",
       "      <th>11</th>\n",
       "      <th>12</th>\n",
       "    </tr>\n",
       "    <tr>\n",
       "      <th>year</th>\n",
       "      <th></th>\n",
       "      <th></th>\n",
       "      <th></th>\n",
       "      <th></th>\n",
       "      <th></th>\n",
       "      <th></th>\n",
       "      <th></th>\n",
       "      <th></th>\n",
       "      <th></th>\n",
       "      <th></th>\n",
       "      <th></th>\n",
       "      <th></th>\n",
       "    </tr>\n",
       "  </thead>\n",
       "  <tbody>\n",
       "    <tr>\n",
       "      <th>2024</th>\n",
       "      <td>0.00</td>\n",
       "      <td>50.00</td>\n",
       "      <td>51.0</td>\n",
       "      <td>52.02</td>\n",
       "      <td>53.06</td>\n",
       "      <td>54.12</td>\n",
       "      <td>55.2</td>\n",
       "      <td>56.31</td>\n",
       "      <td>57.43</td>\n",
       "      <td>58.58</td>\n",
       "      <td>59.75</td>\n",
       "      <td>60.95</td>\n",
       "    </tr>\n",
       "    <tr>\n",
       "      <th>2025</th>\n",
       "      <td>62.17</td>\n",
       "      <td>63.41</td>\n",
       "      <td>0.0</td>\n",
       "      <td>0.00</td>\n",
       "      <td>0.00</td>\n",
       "      <td>0.00</td>\n",
       "      <td>0.0</td>\n",
       "      <td>0.00</td>\n",
       "      <td>0.00</td>\n",
       "      <td>0.00</td>\n",
       "      <td>0.00</td>\n",
       "      <td>0.00</td>\n",
       "    </tr>\n",
       "  </tbody>\n",
       "</table>\n",
       "</div>"
      ],
      "text/plain": [
       "month     1      2     3      4      5      6     7      8      9      10  \\\n",
       "year                                                                        \n",
       "2024    0.00  50.00  51.0  52.02  53.06  54.12  55.2  56.31  57.43  58.58   \n",
       "2025   62.17  63.41   0.0   0.00   0.00   0.00   0.0   0.00   0.00   0.00   \n",
       "\n",
       "month     11     12  \n",
       "year                 \n",
       "2024   59.75  60.95  \n",
       "2025    0.00   0.00  "
      ]
     },
     "execution_count": 40,
     "metadata": {},
     "output_type": "execute_result"
    }
   ],
   "source": [
    "price_gas"
   ]
  },
  {
   "cell_type": "code",
   "execution_count": 41,
   "id": "53d62ea4-6e2b-44f7-8769-54f9e3869a0b",
   "metadata": {},
   "outputs": [
    {
     "data": {
      "image/png": "[encoded data removed]",
      "text/plain": [
       "<Figure size 1400x700 with 1 Axes>"
      ]
     },
     "metadata": {},
     "output_type": "display_data"
    }
   ],
   "source": [
    "fig = plt.figure()\n",
    "\n",
    "fig.set_size_inches(14, 7)\n",
    "plt.plot(price_gas.iloc[0,:])\n",
    "\n",
    "plt.title('Месячные цены на бензин в 2024')\n",
    "plt.ylim([-3, 72])\n",
    "plt.xlim([0, 13])\n",
    "plt.yticks(np.arange(0, 72, step=5))\n",
    "plt.xticks(np.arange(1, 13, step=1))\n",
    "plt.xlabel('Месяц')\n",
    "plt.ylabel('Цена за литр')\n",
    "plt.scatter(price_gas.iloc[0,:].index,price_gas.iloc[0,:], c='green')\n",
    "\n",
    "for i, txt in enumerate(price_gas.iloc[0,:12]):\n",
    "    plt.annotate(round(txt,2), ((price_gas.iloc[0,:].index[i])+0.1, price_gas.iloc[0,:][i+1]+1))\n",
    "\n",
    "plt.show()"
   ]
  },
  {
   "cell_type": "code",
   "execution_count": 42,
   "id": "93af193a-d61c-4798-9cd4-a243d99e48ce",
   "metadata": {},
   "outputs": [
    {
     "data": {
      "image/png": "[encoded data removed]",
      "text/plain": [
       "<Figure size 1400x700 with 1 Axes>"
      ]
     },
     "metadata": {},
     "output_type": "display_data"
    }
   ],
   "source": [
    "fig = plt.figure()\n",
    "\n",
    "fig.set_size_inches(14, 7)\n",
    "plt.plot(price_gas.iloc[1,:])\n",
    "\n",
    "plt.title('Месячные цены на бензин в 2025')\n",
    "plt.ylim([-3, 72])\n",
    "plt.yticks(np.arange(0, 72, step=5))\n",
    "plt.xticks(np.arange(1, 13, step=1))\n",
    "plt.xlabel('Месяц')\n",
    "plt.ylabel('Цена за литр')\n",
    "plt.scatter(price_gas.iloc[1,:].index,price_gas.iloc[1,:], c='green')\n",
    "\n",
    "for i, txt in enumerate(price_gas.iloc[1,:12]):\n",
    "    plt.annotate(round(txt,2), ((price_gas.iloc[1,:].index[i]), price_gas.iloc[1,:][i+1]+1))\n",
    "\n",
    "plt.show()"
   ]
  },
  {
   "cell_type": "markdown",
   "id": "c63855cd-484d-4d7b-8ead-fbab8668d55e",
   "metadata": {
    "jp-MarkdownHeadingCollapsed": true
   },
   "source": [
    "### задача 5"
   ]
  },
  {
   "cell_type": "markdown",
   "id": "47b9a77a-98e8-4d27-9cd8-025a24e57fa4",
   "metadata": {},
   "source": [
    "Представьте, что вы директор ресторана. Общий месячный фонд заработной платы - 10000$. На совете акционеров было установлено, что:\n",
    "\n",
    " - официант получает в 1,5 раза больше мойщика посуды;\n",
    " - повар - в 3 раза больше мойщика посуды;\n",
    " - шеф-повар - на 30$ больше повара;\n",
    " - завхоз - на 40$ больше официанта;\n",
    " - метрдотель - в 4 раза больше мойщика посуды;\n",
    " - управляющий - на 20$ больше метрдотеля.\n",
    " Вы должны составить штатное расписание, т.е. определить, сколько сотрудников, на каких должностях и с каким окладом нужно принять на работу."
   ]
  },
  {
   "cell_type": "code",
   "execution_count": 43,
   "id": "cb91ef35-bb66-448f-bfa5-a3ff475751fc",
   "metadata": {},
   "outputs": [],
   "source": [
    "total = 10000\n",
    "\n",
    "dishwasher = 1\n",
    "\n",
    "waiter = 1.5*dishwasher\n",
    "\n",
    "cook = 3*dishwasher\n",
    "\n",
    "#шеф\n",
    "chef = cook+30\n",
    "\n",
    "#завхоз\n",
    "sup_manager = waiter+40\n",
    "\n",
    "#метрдотель\n",
    "headwaiter = 4*dishwasher\n",
    "\n",
    "#управляющий\n",
    "head_manager = headwaiter+20"
   ]
  },
  {
   "cell_type": "markdown",
   "id": "89b62b1b-1893-4499-a7ea-132ed419e8d0",
   "metadata": {},
   "source": [
    "* В ресторане 1 управляющий, 1 шеф, 1 завхоз, 1 метрдотель\n",
    "* Следовательно у них наибольшая зп и отвественность, а также их всех по одному.\n",
    "* Других должностей может быть больше, мы не знаем сколько, протестируем\n",
    "* так как данных мало о размерах ретсорана и посещаемости нам приходится только гадать, но мы можем точно сказать, что минимум 2 официанта в смену, то есть в месяц 4. Так как полмесяца одни официанты , полмесяца другие.\n",
    "* минимум 2 повара в смену, то есть в мсеяц 4\n",
    "* минимум 1 мойщик посуды, то есть в месяц 2."
   ]
  },
  {
   "cell_type": "code",
   "execution_count": 44,
   "id": "237948c5-abb7-4c84-abe7-1455158d0713",
   "metadata": {},
   "outputs": [],
   "source": [
    "df_5 = pd.DataFrame({'salary_dishwasher':np.arange(1,400,0.5)})"
   ]
  },
  {
   "cell_type": "code",
   "execution_count": 45,
   "id": "7a9b0ac0-3e08-43e7-b2e4-ed7afadd9cf3",
   "metadata": {},
   "outputs": [],
   "source": [
    "# 2 посудомйщицы, 4 официанта , 4 повара\n",
    "df_5['salary_dishwasher'] = df_5['salary_dishwasher']\n",
    "df_5['salary_waiter'] = 1.5*df_5['salary_dishwasher']\n",
    "df_5['salary_cook'] = 3*df_5['salary_dishwasher']\n",
    "\n",
    "df_5['count_dishwasher'] = 2\n",
    "df_5['count_waiter'] = 4\n",
    "df_5['count_cook'] = 4\n",
    "\n",
    "df_5['total_dishwasher'] = df_5['salary_dishwasher']* df_5['count_dishwasher']\n",
    "df_5['total_waiter'] = df_5['salary_waiter']* df_5['count_waiter']\n",
    "df_5['total_cook'] = df_5['salary_cook']* df_5['count_cook']\n",
    "\n",
    "\n",
    "df_5['salary_chef'] = df_5['salary_cook'] + 30\n",
    "df_5['salary_sup_manager'] = df_5['salary_waiter'] + 40\n",
    "df_5['salary_headwaiter'] = 4*df_5['salary_dishwasher']\n",
    "df_5['salary_head_manager'] = df_5['salary_headwaiter']+20\n",
    "\n",
    "df_5['total'] = df_5.iloc[:,6:].sum(axis=1)"
   ]
  },
  {
   "cell_type": "code",
   "execution_count": 46,
   "id": "cd392d7b-28ee-43dd-ac05-dd81ba6a4e49",
   "metadata": {},
   "outputs": [
    {
     "data": {
      "text/html": [
       "<div>\n",
       "<style scoped>\n",
       "    .dataframe tbody tr th:only-of-type {\n",
       "        vertical-align: middle;\n",
       "    }\n",
       "\n",
       "    .dataframe tbody tr th {\n",
       "        vertical-align: top;\n",
       "    }\n",
       "\n",
       "    .dataframe thead th {\n",
       "        text-align: right;\n",
       "    }\n",
       "</style>\n",
       "<table border=\"1\" class=\"dataframe\">\n",
       "  <thead>\n",
       "    <tr style=\"text-align: right;\">\n",
       "      <th></th>\n",
       "      <th>salary_dishwasher</th>\n",
       "      <th>salary_waiter</th>\n",
       "      <th>salary_cook</th>\n",
       "      <th>count_dishwasher</th>\n",
       "      <th>count_waiter</th>\n",
       "      <th>count_cook</th>\n",
       "      <th>total_dishwasher</th>\n",
       "      <th>total_waiter</th>\n",
       "      <th>total_cook</th>\n",
       "      <th>salary_chef</th>\n",
       "      <th>salary_sup_manager</th>\n",
       "      <th>salary_headwaiter</th>\n",
       "      <th>salary_head_manager</th>\n",
       "      <th>total</th>\n",
       "    </tr>\n",
       "  </thead>\n",
       "  <tbody>\n",
       "    <tr>\n",
       "      <th>602</th>\n",
       "      <td>302.0</td>\n",
       "      <td>453.00</td>\n",
       "      <td>906.0</td>\n",
       "      <td>2</td>\n",
       "      <td>4</td>\n",
       "      <td>4</td>\n",
       "      <td>604.0</td>\n",
       "      <td>1812.0</td>\n",
       "      <td>3624.0</td>\n",
       "      <td>936.0</td>\n",
       "      <td>493.00</td>\n",
       "      <td>1208.0</td>\n",
       "      <td>1228.0</td>\n",
       "      <td>9905.00</td>\n",
       "    </tr>\n",
       "    <tr>\n",
       "      <th>603</th>\n",
       "      <td>302.5</td>\n",
       "      <td>453.75</td>\n",
       "      <td>907.5</td>\n",
       "      <td>2</td>\n",
       "      <td>4</td>\n",
       "      <td>4</td>\n",
       "      <td>605.0</td>\n",
       "      <td>1815.0</td>\n",
       "      <td>3630.0</td>\n",
       "      <td>937.5</td>\n",
       "      <td>493.75</td>\n",
       "      <td>1210.0</td>\n",
       "      <td>1230.0</td>\n",
       "      <td>9921.25</td>\n",
       "    </tr>\n",
       "    <tr>\n",
       "      <th>604</th>\n",
       "      <td>303.0</td>\n",
       "      <td>454.50</td>\n",
       "      <td>909.0</td>\n",
       "      <td>2</td>\n",
       "      <td>4</td>\n",
       "      <td>4</td>\n",
       "      <td>606.0</td>\n",
       "      <td>1818.0</td>\n",
       "      <td>3636.0</td>\n",
       "      <td>939.0</td>\n",
       "      <td>494.50</td>\n",
       "      <td>1212.0</td>\n",
       "      <td>1232.0</td>\n",
       "      <td>9937.50</td>\n",
       "    </tr>\n",
       "    <tr>\n",
       "      <th>605</th>\n",
       "      <td>303.5</td>\n",
       "      <td>455.25</td>\n",
       "      <td>910.5</td>\n",
       "      <td>2</td>\n",
       "      <td>4</td>\n",
       "      <td>4</td>\n",
       "      <td>607.0</td>\n",
       "      <td>1821.0</td>\n",
       "      <td>3642.0</td>\n",
       "      <td>940.5</td>\n",
       "      <td>495.25</td>\n",
       "      <td>1214.0</td>\n",
       "      <td>1234.0</td>\n",
       "      <td>9953.75</td>\n",
       "    </tr>\n",
       "    <tr>\n",
       "      <th>606</th>\n",
       "      <td>304.0</td>\n",
       "      <td>456.00</td>\n",
       "      <td>912.0</td>\n",
       "      <td>2</td>\n",
       "      <td>4</td>\n",
       "      <td>4</td>\n",
       "      <td>608.0</td>\n",
       "      <td>1824.0</td>\n",
       "      <td>3648.0</td>\n",
       "      <td>942.0</td>\n",
       "      <td>496.00</td>\n",
       "      <td>1216.0</td>\n",
       "      <td>1236.0</td>\n",
       "      <td>9970.00</td>\n",
       "    </tr>\n",
       "    <tr>\n",
       "      <th>607</th>\n",
       "      <td>304.5</td>\n",
       "      <td>456.75</td>\n",
       "      <td>913.5</td>\n",
       "      <td>2</td>\n",
       "      <td>4</td>\n",
       "      <td>4</td>\n",
       "      <td>609.0</td>\n",
       "      <td>1827.0</td>\n",
       "      <td>3654.0</td>\n",
       "      <td>943.5</td>\n",
       "      <td>496.75</td>\n",
       "      <td>1218.0</td>\n",
       "      <td>1238.0</td>\n",
       "      <td>9986.25</td>\n",
       "    </tr>\n",
       "  </tbody>\n",
       "</table>\n",
       "</div>"
      ],
      "text/plain": [
       "     salary_dishwasher  salary_waiter  salary_cook  count_dishwasher  \\\n",
       "602              302.0         453.00        906.0                 2   \n",
       "603              302.5         453.75        907.5                 2   \n",
       "604              303.0         454.50        909.0                 2   \n",
       "605              303.5         455.25        910.5                 2   \n",
       "606              304.0         456.00        912.0                 2   \n",
       "607              304.5         456.75        913.5                 2   \n",
       "\n",
       "     count_waiter  count_cook  total_dishwasher  total_waiter  total_cook  \\\n",
       "602             4           4             604.0        1812.0      3624.0   \n",
       "603             4           4             605.0        1815.0      3630.0   \n",
       "604             4           4             606.0        1818.0      3636.0   \n",
       "605             4           4             607.0        1821.0      3642.0   \n",
       "606             4           4             608.0        1824.0      3648.0   \n",
       "607             4           4             609.0        1827.0      3654.0   \n",
       "\n",
       "     salary_chef  salary_sup_manager  salary_headwaiter  salary_head_manager  \\\n",
       "602        936.0              493.00             1208.0               1228.0   \n",
       "603        937.5              493.75             1210.0               1230.0   \n",
       "604        939.0              494.50             1212.0               1232.0   \n",
       "605        940.5              495.25             1214.0               1234.0   \n",
       "606        942.0              496.00             1216.0               1236.0   \n",
       "607        943.5              496.75             1218.0               1238.0   \n",
       "\n",
       "       total  \n",
       "602  9905.00  \n",
       "603  9921.25  \n",
       "604  9937.50  \n",
       "605  9953.75  \n",
       "606  9970.00  \n",
       "607  9986.25  "
      ]
     },
     "execution_count": 46,
     "metadata": {},
     "output_type": "execute_result"
    }
   ],
   "source": [
    "df_5[(df_5['total'] <= 10000)& (df_5['total'] >= 9900)]"
   ]
  },
  {
   "cell_type": "markdown",
   "id": "80e3052c-d554-4d70-bc74-0cb98d50c7ab",
   "metadata": {},
   "source": [
    "* внизу вывел зарплаты на 1 человека по каждой должности и общую сумму затрат на фонд труда в месяц."
   ]
  },
  {
   "cell_type": "code",
   "execution_count": 47,
   "id": "940411de-7034-45e7-b3a1-21b8056ed11c",
   "metadata": {},
   "outputs": [
    {
     "data": {
      "text/plain": [
       "salary_dishwasher       304.50\n",
       "salary_waiter           456.75\n",
       "salary_cook             913.50\n",
       "total_dishwasher        609.00\n",
       "total_waiter           1827.00\n",
       "total_cook             3654.00\n",
       "salary_chef             943.50\n",
       "salary_sup_manager      496.75\n",
       "salary_headwaiter      1218.00\n",
       "salary_head_manager    1238.00\n",
       "total                  9986.25\n",
       "Name: 607, dtype: float64"
      ]
     },
     "execution_count": 47,
     "metadata": {},
     "output_type": "execute_result"
    }
   ],
   "source": [
    "df_5.drop(['count_dishwasher','count_waiter','count_cook'],axis=1).iloc[607]"
   ]
  },
  {
   "cell_type": "markdown",
   "id": "735757f4-813b-43ee-bf19-caac269dbdcc",
   "metadata": {},
   "source": [
    "### задача 9"
   ]
  },
  {
   "attachments": {
    "a0ace661-188e-4a99-9409-fd0b56da14c8.png": {
     "image/png": "[encoded data removed]"
    }
   },
   "cell_type": "markdown",
   "id": "366a1ca8-0bc5-491e-9bd1-fb9fd515318b",
   "metadata": {},
   "source": [
    "![image.png](attachment:a0ace661-188e-4a99-9409-fd0b56da14c8.png)о кредиту\t"
   ]
  },
  {
   "cell_type": "code",
   "execution_count": 48,
   "id": "5b3e32b9-95f8-4bde-95b0-dee5417127ef",
   "metadata": {},
   "outputs": [],
   "source": [
    "summa = 100000\n",
    "percent = 0.1\n",
    "month=24\n",
    "fee_month=0.02\n",
    "fee_first = 0.05"
   ]
  },
  {
   "cell_type": "code",
   "execution_count": 49,
   "id": "2ce0d17e-1f86-440f-9698-1895ad282ec4",
   "metadata": {},
   "outputs": [],
   "source": [
    "#ежемесячный платеж\n",
    "total_oplata = summa*(1+0.1*month/12)\n",
    "pay_per_month = total_oplata/month\n",
    "\n",
    "#ежемесячная комиссия от суммы выдачи\n",
    "pay_fee_month = summa*fee_month\n",
    "\n",
    "#разовая комиссия за выдачу\n",
    "first_fee = summa*fee_first\n",
    "\n",
    "#постоянные ежемесячные платежи\n",
    "payment = pay_per_month + pay_fee_month\n",
    "\n",
    "#платеж первого месяца\n",
    "payment_first = payment+ first_fee"
   ]
  },
  {
   "cell_type": "code",
   "execution_count": 50,
   "id": "3bda9ea8-75b0-45c4-9c3a-97ff865e2557",
   "metadata": {},
   "outputs": [],
   "source": [
    "df9 = pd.DataFrame({'month':np.arange(1,25), 'payments':payment})"
   ]
  },
  {
   "cell_type": "code",
   "execution_count": 51,
   "id": "50491767-4b9f-4ba6-af42-2eefb52f0981",
   "metadata": {},
   "outputs": [],
   "source": [
    "df9.iloc[0,1] = payment_first"
   ]
  },
  {
   "cell_type": "code",
   "execution_count": 52,
   "id": "26ad2ad5-9647-4893-a843-8338bb8940b3",
   "metadata": {
    "scrolled": true
   },
   "outputs": [
    {
     "data": {
      "text/html": [
       "<div>\n",
       "<style scoped>\n",
       "    .dataframe tbody tr th:only-of-type {\n",
       "        vertical-align: middle;\n",
       "    }\n",
       "\n",
       "    .dataframe tbody tr th {\n",
       "        vertical-align: top;\n",
       "    }\n",
       "\n",
       "    .dataframe thead th {\n",
       "        text-align: right;\n",
       "    }\n",
       "</style>\n",
       "<table border=\"1\" class=\"dataframe\">\n",
       "  <thead>\n",
       "    <tr style=\"text-align: right;\">\n",
       "      <th></th>\n",
       "      <th>month</th>\n",
       "      <th>payments</th>\n",
       "    </tr>\n",
       "  </thead>\n",
       "  <tbody>\n",
       "    <tr>\n",
       "      <th>0</th>\n",
       "      <td>1</td>\n",
       "      <td>12000.0</td>\n",
       "    </tr>\n",
       "    <tr>\n",
       "      <th>1</th>\n",
       "      <td>2</td>\n",
       "      <td>7000.0</td>\n",
       "    </tr>\n",
       "    <tr>\n",
       "      <th>2</th>\n",
       "      <td>3</td>\n",
       "      <td>7000.0</td>\n",
       "    </tr>\n",
       "    <tr>\n",
       "      <th>3</th>\n",
       "      <td>4</td>\n",
       "      <td>7000.0</td>\n",
       "    </tr>\n",
       "    <tr>\n",
       "      <th>4</th>\n",
       "      <td>5</td>\n",
       "      <td>7000.0</td>\n",
       "    </tr>\n",
       "    <tr>\n",
       "      <th>5</th>\n",
       "      <td>6</td>\n",
       "      <td>7000.0</td>\n",
       "    </tr>\n",
       "    <tr>\n",
       "      <th>6</th>\n",
       "      <td>7</td>\n",
       "      <td>7000.0</td>\n",
       "    </tr>\n",
       "    <tr>\n",
       "      <th>7</th>\n",
       "      <td>8</td>\n",
       "      <td>7000.0</td>\n",
       "    </tr>\n",
       "    <tr>\n",
       "      <th>8</th>\n",
       "      <td>9</td>\n",
       "      <td>7000.0</td>\n",
       "    </tr>\n",
       "    <tr>\n",
       "      <th>9</th>\n",
       "      <td>10</td>\n",
       "      <td>7000.0</td>\n",
       "    </tr>\n",
       "    <tr>\n",
       "      <th>10</th>\n",
       "      <td>11</td>\n",
       "      <td>7000.0</td>\n",
       "    </tr>\n",
       "    <tr>\n",
       "      <th>11</th>\n",
       "      <td>12</td>\n",
       "      <td>7000.0</td>\n",
       "    </tr>\n",
       "    <tr>\n",
       "      <th>12</th>\n",
       "      <td>13</td>\n",
       "      <td>7000.0</td>\n",
       "    </tr>\n",
       "    <tr>\n",
       "      <th>13</th>\n",
       "      <td>14</td>\n",
       "      <td>7000.0</td>\n",
       "    </tr>\n",
       "    <tr>\n",
       "      <th>14</th>\n",
       "      <td>15</td>\n",
       "      <td>7000.0</td>\n",
       "    </tr>\n",
       "    <tr>\n",
       "      <th>15</th>\n",
       "      <td>16</td>\n",
       "      <td>7000.0</td>\n",
       "    </tr>\n",
       "    <tr>\n",
       "      <th>16</th>\n",
       "      <td>17</td>\n",
       "      <td>7000.0</td>\n",
       "    </tr>\n",
       "    <tr>\n",
       "      <th>17</th>\n",
       "      <td>18</td>\n",
       "      <td>7000.0</td>\n",
       "    </tr>\n",
       "    <tr>\n",
       "      <th>18</th>\n",
       "      <td>19</td>\n",
       "      <td>7000.0</td>\n",
       "    </tr>\n",
       "    <tr>\n",
       "      <th>19</th>\n",
       "      <td>20</td>\n",
       "      <td>7000.0</td>\n",
       "    </tr>\n",
       "    <tr>\n",
       "      <th>20</th>\n",
       "      <td>21</td>\n",
       "      <td>7000.0</td>\n",
       "    </tr>\n",
       "    <tr>\n",
       "      <th>21</th>\n",
       "      <td>22</td>\n",
       "      <td>7000.0</td>\n",
       "    </tr>\n",
       "    <tr>\n",
       "      <th>22</th>\n",
       "      <td>23</td>\n",
       "      <td>7000.0</td>\n",
       "    </tr>\n",
       "    <tr>\n",
       "      <th>23</th>\n",
       "      <td>24</td>\n",
       "      <td>7000.0</td>\n",
       "    </tr>\n",
       "  </tbody>\n",
       "</table>\n",
       "</div>"
      ],
      "text/plain": [
       "    month  payments\n",
       "0       1   12000.0\n",
       "1       2    7000.0\n",
       "2       3    7000.0\n",
       "3       4    7000.0\n",
       "4       5    7000.0\n",
       "5       6    7000.0\n",
       "6       7    7000.0\n",
       "7       8    7000.0\n",
       "8       9    7000.0\n",
       "9      10    7000.0\n",
       "10     11    7000.0\n",
       "11     12    7000.0\n",
       "12     13    7000.0\n",
       "13     14    7000.0\n",
       "14     15    7000.0\n",
       "15     16    7000.0\n",
       "16     17    7000.0\n",
       "17     18    7000.0\n",
       "18     19    7000.0\n",
       "19     20    7000.0\n",
       "20     21    7000.0\n",
       "21     22    7000.0\n",
       "22     23    7000.0\n",
       "23     24    7000.0"
      ]
     },
     "execution_count": 52,
     "metadata": {},
     "output_type": "execute_result"
    }
   ],
   "source": [
    "df9"
   ]
  },
  {
   "cell_type": "code",
   "execution_count": 53,
   "id": "7e4f16ae-6e63-4c0a-8ff9-bcf8acb0a6d9",
   "metadata": {},
   "outputs": [
    {
     "data": {
      "image/png": "[encoded data removed]",
      "text/plain": [
       "<Figure size 1200x700 with 1 Axes>"
      ]
     },
     "metadata": {},
     "output_type": "display_data"
    }
   ],
   "source": [
    "fig = plt.figure()\n",
    "\n",
    "fig.set_size_inches(12, 7)\n",
    "\n",
    "plt.bar(df9['month'],df9['payments'], color='green')\n",
    "\n",
    "\n",
    "plt.title('Ежемесячные платежи')\n",
    "plt.xticks(np.arange(1, 25, step=1))\n",
    "plt.xlabel('месяц')\n",
    "plt.ylabel('сумма')\n",
    "plt.show()"
   ]
  },
  {
   "cell_type": "code",
   "execution_count": 54,
   "id": "14601327-5f47-441a-9af8-fee848c239a4",
   "metadata": {},
   "outputs": [],
   "source": [
    "total_pay = df9['payments'].sum()"
   ]
  },
  {
   "cell_type": "code",
   "execution_count": 55,
   "id": "c9b696af-7bae-4315-af5d-e89fe71562ca",
   "metadata": {},
   "outputs": [
    {
     "data": {
      "text/plain": [
       "'Общая ставка по кредиту: 173000.0 рублей'"
      ]
     },
     "execution_count": 55,
     "metadata": {},
     "output_type": "execute_result"
    }
   ],
   "source": [
    "f'Общая ставка по кредиту: {total_pay} рублей'"
   ]
  },
  {
   "cell_type": "markdown",
   "id": "fb72dd20-8936-4fa8-95ba-3e5f2e503d50",
   "metadata": {},
   "source": [
    "### задача 10"
   ]
  },
  {
   "cell_type": "markdown",
   "id": "3a86f47d-def0-45b5-bddc-c100d42181b2",
   "metadata": {},
   "source": [
    "Необходимо привести столбец \"Компания\" к единому виду на русском языке. \t\t\t\n",
    "Далее необходимо найти среднее значение, медиану и моду по столбцу \"оборот за неделю\"\t\t\t\n",
    "Затем посчитать суммарный оборот по каждой компании в отдельности\t\t\t"
   ]
  },
  {
   "cell_type": "code",
   "execution_count": 56,
   "id": "0593e401-58dd-4fad-b404-b78f4a90764e",
   "metadata": {},
   "outputs": [],
   "source": [
    "import re"
   ]
  },
  {
   "cell_type": "code",
   "execution_count": 57,
   "id": "434ee846-fd94-4bc0-8335-63abc5a8136e",
   "metadata": {},
   "outputs": [],
   "source": [
    "#для этого задания нужно скопировать путь до файла , он есть в папке , в функцию read_excel\n",
    "df10 = pd.read_excel('/Users/andrejglavniy/Downloads/ubrir_Poluesov_Andrei/test_comp.xlsx')"
   ]
  },
  {
   "cell_type": "code",
   "execution_count": 58,
   "id": "d044e52e-0833-4e4f-ad24-813efc9e711b",
   "metadata": {},
   "outputs": [],
   "source": [
    "#приведем к нижнему регистру\n",
    "df10['Компания'] = df10['Компания'].str.lower()"
   ]
  },
  {
   "cell_type": "code",
   "execution_count": 59,
   "id": "e7317fea-1b85-4af0-a50d-a8f2558ef3b6",
   "metadata": {
    "scrolled": true
   },
   "outputs": [
    {
     "data": {
      "text/plain": [
       "Компания\n",
       "krasnoe&beloe           32\n",
       "mcdonalds               16\n",
       "ooo magnit na frunze    16\n",
       "macdonalds              16\n",
       "ooo magnit              16\n",
       "krasnoeibeloe           16\n",
       "magnit                  16\n",
       "metro fitnes            14\n",
       "metro                   14\n",
       "zao metro               14\n",
       "krasnoe&beloe 58         2\n",
       "metro 247                2\n",
       "metro 244                2\n",
       "krasnoe&beloe 53         2\n",
       "metro 245                2\n",
       "metro 243                2\n",
       "krasnoe&beloe 54         2\n",
       "krasnoe&beloe 57         2\n",
       "metro 246                2\n",
       "metro 242                2\n",
       "krasnoe&beloe 59         2\n",
       "krasnoe&beloe 56         2\n",
       "krasnoe&beloe 55         2\n",
       "metro 248                1\n",
       "metro 241                1\n",
       "krasnoe&beloe 52         1\n",
       "krasnoe&beloe 60         1\n",
       "Name: count, dtype: int64"
      ]
     },
     "execution_count": 59,
     "metadata": {},
     "output_type": "execute_result"
    }
   ],
   "source": [
    "df10['Компания'].value_counts()"
   ]
  },
  {
   "cell_type": "code",
   "execution_count": 60,
   "id": "d8d4f858-db7f-4b23-ab56-467957622edd",
   "metadata": {},
   "outputs": [],
   "source": [
    "def regu(x):\n",
    "    if re.findall(r'krasnoe|belo',x):\n",
    "        return 'Красное и белое'\n",
    "    if re.findall(r'\\bmetro fit',x):\n",
    "        return 'Метро фитнесс'\n",
    "    if re.findall(r'fit',x):\n",
    "        return 'Метро фитнесс'\n",
    "    if re.findall(r'metro',x):\n",
    "        return 'Метро'\n",
    "    if re.findall(r'mcdona|macd',x):\n",
    "        return 'Вкусно и точка.'  \n",
    "    if re.findall(r'magn',x):\n",
    "        return 'Магнит' \n",
    "    return x"
   ]
  },
  {
   "cell_type": "code",
   "execution_count": 61,
   "id": "5aa0a164-5985-420a-8066-cfa22eb22e2c",
   "metadata": {},
   "outputs": [],
   "source": [
    "df10['Компания_2'] = df10['Компания'].apply(regu)"
   ]
  },
  {
   "cell_type": "code",
   "execution_count": 62,
   "id": "fd835f67-0663-43a1-9ffd-7c3660fadad1",
   "metadata": {},
   "outputs": [
    {
     "data": {
      "text/plain": [
       "Компания_2\n",
       "Красное и белое    64\n",
       "Магнит             48\n",
       "Метро              42\n",
       "Вкусно и точка.    32\n",
       "Метро фитнесс      14\n",
       "Name: count, dtype: int64"
      ]
     },
     "execution_count": 62,
     "metadata": {},
     "output_type": "execute_result"
    }
   ],
   "source": [
    "df10['Компания_2'].value_counts()"
   ]
  },
  {
   "cell_type": "code",
   "execution_count": 63,
   "id": "7879f522-a395-427e-b641-471efde10888",
   "metadata": {},
   "outputs": [
    {
     "name": "stdout",
     "output_type": "stream",
     "text": [
      "<class 'pandas.core.frame.DataFrame'>\n",
      "RangeIndex: 200 entries, 0 to 199\n",
      "Data columns (total 3 columns):\n",
      " #   Column              Non-Null Count  Dtype  \n",
      "---  ------              --------------  -----  \n",
      " 0   Компания            200 non-null    object \n",
      " 1    Оборот за неделю   200 non-null    float64\n",
      " 2   Компания_2          200 non-null    object \n",
      "dtypes: float64(1), object(2)\n",
      "memory usage: 4.8+ KB\n"
     ]
    }
   ],
   "source": [
    "df10.info()"
   ]
  },
  {
   "cell_type": "code",
   "execution_count": 64,
   "id": "6ea721de-a040-4bab-b649-f385ccc5e66e",
   "metadata": {},
   "outputs": [
    {
     "name": "stdout",
     "output_type": "stream",
     "text": [
      "среднее равно: 4913.809850000001\n"
     ]
    }
   ],
   "source": [
    "\n",
    "print('среднее равно:', df10[' Оборот за неделю '].mean())"
   ]
  },
  {
   "cell_type": "code",
   "execution_count": 65,
   "id": "99d1a34b-1f30-42fb-b09e-2d88e1c7af0a",
   "metadata": {},
   "outputs": [
    {
     "name": "stdout",
     "output_type": "stream",
     "text": [
      "медиана равна: 4922.635\n"
     ]
    }
   ],
   "source": [
    "print('медиана равна:', df10[' Оборот за неделю '].median())"
   ]
  },
  {
   "cell_type": "code",
   "execution_count": 66,
   "id": "37cce1ac-ad15-4f10-b0bd-ff8be13ea64c",
   "metadata": {},
   "outputs": [
    {
     "data": {
      "text/plain": [
       "0        75.24\n",
       "1       272.59\n",
       "2       327.70\n",
       "3       338.37\n",
       "4       456.66\n",
       "        ...   \n",
       "195    9803.35\n",
       "196    9834.94\n",
       "197    9844.83\n",
       "198    9957.96\n",
       "199    9985.04\n",
       "Name:  Оборот за неделю , Length: 200, dtype: float64"
      ]
     },
     "execution_count": 66,
     "metadata": {},
     "output_type": "execute_result"
    }
   ],
   "source": [
    "df10[' Оборот за неделю '].mode()"
   ]
  },
  {
   "cell_type": "markdown",
   "id": "6afe59b1-ee7a-4892-a4da-c3fef09fa5c6",
   "metadata": {},
   "source": [
    "* моды как таковой нет."
   ]
  },
  {
   "cell_type": "code",
   "execution_count": 67,
   "id": "e5c415a2-9ad4-4ed9-ad33-650fa4a06d99",
   "metadata": {},
   "outputs": [],
   "source": [
    "total_df = df10.groupby('Компания_2').agg({' Оборот за неделю ':'sum'})\\\n",
    ".rename(columns={' Оборот за неделю ':'суммарная выручка'})\\\n",
    ".sort_values('суммарная выручка', ascending=False)\n"
   ]
  },
  {
   "cell_type": "code",
   "execution_count": 68,
   "id": "00c80e7d-346a-4c24-956b-153ca0d2a775",
   "metadata": {},
   "outputs": [
    {
     "data": {
      "text/html": [
       "<div>\n",
       "<style scoped>\n",
       "    .dataframe tbody tr th:only-of-type {\n",
       "        vertical-align: middle;\n",
       "    }\n",
       "\n",
       "    .dataframe tbody tr th {\n",
       "        vertical-align: top;\n",
       "    }\n",
       "\n",
       "    .dataframe thead th {\n",
       "        text-align: right;\n",
       "    }\n",
       "</style>\n",
       "<table border=\"1\" class=\"dataframe\">\n",
       "  <thead>\n",
       "    <tr style=\"text-align: right;\">\n",
       "      <th></th>\n",
       "      <th>суммарная выручка</th>\n",
       "    </tr>\n",
       "    <tr>\n",
       "      <th>Компания_2</th>\n",
       "      <th></th>\n",
       "    </tr>\n",
       "  </thead>\n",
       "  <tbody>\n",
       "    <tr>\n",
       "      <th>Красное и белое</th>\n",
       "      <td>308735.89</td>\n",
       "    </tr>\n",
       "    <tr>\n",
       "      <th>Магнит</th>\n",
       "      <td>219337.58</td>\n",
       "    </tr>\n",
       "    <tr>\n",
       "      <th>Метро</th>\n",
       "      <td>218145.32</td>\n",
       "    </tr>\n",
       "    <tr>\n",
       "      <th>Вкусно и точка.</th>\n",
       "      <td>162764.23</td>\n",
       "    </tr>\n",
       "    <tr>\n",
       "      <th>Метро фитнесс</th>\n",
       "      <td>73778.95</td>\n",
       "    </tr>\n",
       "  </tbody>\n",
       "</table>\n",
       "</div>"
      ],
      "text/plain": [
       "                 суммарная выручка\n",
       "Компания_2                        \n",
       "Красное и белое          308735.89\n",
       "Магнит                   219337.58\n",
       "Метро                    218145.32\n",
       "Вкусно и точка.          162764.23\n",
       "Метро фитнесс             73778.95"
      ]
     },
     "execution_count": 68,
     "metadata": {},
     "output_type": "execute_result"
    }
   ],
   "source": [
    "total_df"
   ]
  },
  {
   "cell_type": "code",
   "execution_count": 69,
   "id": "86462d9f-b1da-4a48-849b-761586ff162e",
   "metadata": {},
   "outputs": [
    {
     "data": {
      "image/png": "[encoded data removed]",
      "text/plain": [
       "<Figure size 1200x700 with 1 Axes>"
      ]
     },
     "metadata": {},
     "output_type": "display_data"
    }
   ],
   "source": [
    "fig = plt.figure()\n",
    "\n",
    "fig.set_size_inches(12, 7)\n",
    "\n",
    "plt.bar(total_df.index,total_df['суммарная выручка'], color='green')\n",
    "\n",
    "\n",
    "plt.title('суммарная выручка')\n",
    "\n",
    "plt.xlabel('Компании')\n",
    "plt.ylabel('сумма')\n",
    "\n",
    "\n",
    "plt.show()\n",
    "plt.show()"
   ]
  },
  {
   "cell_type": "code",
   "execution_count": null,
   "id": "9c8079ca-914b-4855-87ee-bf5d3bb1365c",
   "metadata": {},
   "outputs": [],
   "source": []
  }
 ],
 "metadata": {
  "kernelspec": {
   "display_name": "Python 3 (ipykernel)",
   "language": "python",
   "name": "python3"
  },
  "language_info": {
   "codemirror_mode": {
    "name": "ipython",
    "version": 3
   },
   "file_extension": ".py",
   "mimetype": "text/x-python",
   "name": "python",
   "nbconvert_exporter": "python",
   "pygments_lexer": "ipython3",
   "version": "3.11.5"
  }
 },
 "nbformat": 4,
 "nbformat_minor": 5
}
