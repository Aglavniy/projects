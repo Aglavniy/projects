{
 "cells": [
  {
   "cell_type": "markdown",
   "id": "d9f2f357",
   "metadata": {},
   "source": [
    "#### 1. Требуется написать программу, которая будет рассчитывать одно из чисел для диапазона чисел от 1 до порогового значения (Числа Рамануджана, Постоянная Капрекара, число в задаче Иосифа Флавия). Вместе с рассчитанным числом вывести объяснение, что оно обозначает и кратко алгоритм расчета\n",
    "Если, например, для диапазона 1, 100000 Числа Рамануджана встречаются несколько раз, вывести все значения в списке\n",
    "\n",
    "Видео-объяснение с субтитрами для задачи Иосифа Флавия: https://drive.google.com/file/d/1hzmJ9bjjG5qZO7y8e8w1xlK_VfPoQV2C/view?usp=sharing"
   ]
  },
  {
   "cell_type": "code",
   "execution_count": 1,
   "id": "c4d08ca2",
   "metadata": {},
   "outputs": [
    {
     "name": "stdin",
     "output_type": "stream",
     "text": [
      "Выберите число, которое необходимо рассчитать:\n",
      "1. Постоянная Капрекара\n",
      "2. Числа Рамануджана\n",
      "3. Число в задаче Иосифа Флавия\n",
      " 3\n",
      "Выберите пороговое значение для расчета:  45\n"
     ]
    }
   ],
   "source": [
    "user_digit = int(input(\"Выберите число, которое необходимо рассчитать:\\n1. Постоянная Капрекара\\n2. Числа Рамануджана\\n3. Число в задаче Иосифа Флавия\\n\"))\n",
    "user_threshold = int(input(\"Выберите пороговое значение для расчета: \"))"
   ]
  },
  {
   "cell_type": "code",
   "execution_count": 5,
   "id": "a45a025d-382a-4969-875a-f622aacd9af9",
   "metadata": {},
   "outputs": [],
   "source": [
    "import math\n",
    "import numpy as np\n",
    "from datetime import datetime\n",
    "from datetime import date\n",
    "from datetime import timedelta\n",
    "import pandas as pd\n",
    "import re"
   ]
  },
  {
   "cell_type": "code",
   "execution_count": 3,
   "id": "eabf7917-3c4e-4d5c-9671-e9283a4ff250",
   "metadata": {},
   "outputs": [],
   "source": [
    "def kaperkar(user_threshold):\n",
    "    #проверка введенного значений\n",
    "    if (user_threshold<1000 or user_threshold>10000) or len(set(str(user_threshold))) !=4:\n",
    "        return print('Постоянная каперкара рассчитывается только для 4-х знаных чисел, c уникальными цифрами')\n",
    "    \n",
    "    count=0\n",
    "    while count!= 8:\n",
    "        #строка\n",
    "        s=''\n",
    "        for i in sorted(str(user_threshold),reverse=True):\n",
    "            s +=i\n",
    "        #dда числа\n",
    "        a= int(s)\n",
    "        b= int(s[::-1])\n",
    "        user_threshold = a-b\n",
    "        #подсчет кол-ва\n",
    "        count+=1\n",
    "        if user_threshold == 6174:\n",
    "            print('Постоянная каперкара рассчитывается только для 4-х знаных чисел, c уникальными цифрами.'\n",
    "                  'Расположить цифры сначала в порядке убывания, затем, переставив их в обратном порядке, '\n",
    "                  'образовать новое число. Вычесть новое число из старого. Повторяя этот процесс с получающимися '\n",
    "                  'разностями (не более чем за семь шагов) получим число 6174')\n",
    "            return 6174"
   ]
  },
  {
   "cell_type": "code",
   "execution_count": 4,
   "id": "458c8f43-640c-410e-bc11-83c44e5478bb",
   "metadata": {},
   "outputs": [
    {
     "name": "stdout",
     "output_type": "stream",
     "text": [
      "Постоянная каперкара рассчитывается только для 4-х знаных чисел, c уникальными цифрами.Расположить цифры сначала в порядке убывания, затем, переставив их в обратном порядке, образовать новое число. Вычесть новое число из старого. Повторяя этот процесс с получающимися разностями (не более чем за семь шагов) получим число 6174\n"
     ]
    },
    {
     "data": {
      "text/plain": [
       "6174"
      ]
     },
     "execution_count": 4,
     "metadata": {},
     "output_type": "execute_result"
    }
   ],
   "source": [
    "kaperkar(4321)"
   ]
  },
  {
   "cell_type": "code",
   "execution_count": 20,
   "id": "3219a046-74d1-40a4-9824-1e8c565ea2ba",
   "metadata": {},
   "outputs": [],
   "source": [
    "def for_ramunjan_check(number):\n",
    "    #плучение корня куба числа \n",
    "    sqrt_of_num = int(np.floor(np.cbrt(number)))\n",
    "    #создадим множество \n",
    "    znak =set()\n",
    "    for i in range(1,sqrt_of_num+1):\n",
    "        b= np.cbrt((number-(i**3)))\n",
    "        if b%1 == 0.0:\n",
    "            znak.update([int(b),i])\n",
    "     #       print(znak)\n",
    "    #print(len(znak))\n",
    "    if len(znak) == 4:\n",
    "        return number\n",
    "    return    "
   ]
  },
  {
   "cell_type": "code",
   "execution_count": 21,
   "id": "e8e4f716-4549-4524-aff7-a0a2de5ba181",
   "metadata": {},
   "outputs": [],
   "source": [
    "def ramunjan(number):\n",
    "    if number<1729:\n",
    "        return print('Число слишком маленькое , должно быть больше 1729')\n",
    "    spisok=[]\n",
    "    for i in range(1729, number+1):\n",
    "        if for_ramunjan_check(i):\n",
    "            spisok.append(i)\n",
    "    print('Сумма кубов, рассчитанная двумя различными методами')\n",
    "    return spisok"
   ]
  },
  {
   "cell_type": "code",
   "execution_count": 22,
   "id": "24f900cd-e723-4c68-9895-41cb887942f7",
   "metadata": {},
   "outputs": [
    {
     "name": "stdout",
     "output_type": "stream",
     "text": [
      "Сумма кубов, рассчитанная двумя различными методами\n"
     ]
    },
    {
     "data": {
      "text/plain": [
       "[1729, 4104, 13832, 20683, 32832, 39312, 40033, 46683, 64232, 65728]"
      ]
     },
     "execution_count": 22,
     "metadata": {},
     "output_type": "execute_result"
    }
   ],
   "source": [
    "ramunjan(100000)"
   ]
  },
  {
   "cell_type": "code",
   "execution_count": 8,
   "id": "9405b9b2-b644-49a8-9d5a-3c1499e500db",
   "metadata": {},
   "outputs": [],
   "source": [
    "def flava(number):\n",
    "    if number >= 2**8:\n",
    "        n=8\n",
    "    else:\n",
    "        n=0\n",
    "    for i in range(n,n+9):\n",
    "        if 2**i>number:\n",
    "            l=number-2**(i-1)\n",
    "            w=2*l+1\n",
    "            print('алгоритмическая задача для поиска выжившего среди всех уч-ов.'\n",
    "                  'Каждый убивает следующего за ним , до того пока не останется один.'\n",
    "                  'В нашем случае остался:')\n",
    "            return w\n",
    "            "
   ]
  },
  {
   "cell_type": "code",
   "execution_count": 9,
   "id": "f2194ad1-114f-4d2a-891b-38df3b8e1e81",
   "metadata": {},
   "outputs": [
    {
     "name": "stdout",
     "output_type": "stream",
     "text": [
      "алгоритмическая задача для поиска выжившего среди всех уч-ов.Каждый убивает следующего за ним , до того пока не останется один.В нашем случае остался:\n"
     ]
    },
    {
     "data": {
      "text/plain": [
       "255"
      ]
     },
     "execution_count": 9,
     "metadata": {},
     "output_type": "execute_result"
    }
   ],
   "source": [
    "flava(255)"
   ]
  },
  {
   "cell_type": "code",
   "execution_count": 10,
   "id": "81af3fa2-b977-41da-9f57-5e08d9fb21ff",
   "metadata": {},
   "outputs": [
    {
     "name": "stdout",
     "output_type": "stream",
     "text": [
      "алгоритмическая задача для поиска выжившего среди всех уч-ов.Каждый убивает следующего за ним , до того пока не останется один.В нашем случае остался:\n",
      "27\n"
     ]
    }
   ],
   "source": [
    "if user_digit == 1:\n",
    "    print(kaperkar(user_threshold))\n",
    "elif user_digit == 2:\n",
    "    print(ramunjan(user_threshold))\n",
    "else:\n",
    "    print(flava(user_threshold))"
   ]
  },
  {
   "cell_type": "markdown",
   "id": "88602113",
   "metadata": {},
   "source": [
    "#### 2. Написать функцию, которая будет принимать на вход 2 параметра - start_date и end_date, функция должна вернуть список дат от start до end по дням. Т.е. к примеру func('2023-12-31', '2024-01-02') должна вернуть: ['2023-12-31', '2024-01-01', '2024-01-02']. Обернуть это в pd Series. Не использовать pd.date_range"
   ]
  },
  {
   "cell_type": "code",
   "execution_count": 11,
   "id": "7ab4e752-d395-4fd8-b5ae-42d1e51d786f",
   "metadata": {},
   "outputs": [],
   "source": [
    "start_date = '2023-12-31'\n",
    "end_date = '2024-01-02'"
   ]
  },
  {
   "cell_type": "code",
   "execution_count": 12,
   "id": "041b5829-241b-4ba1-b319-c5d734c0f88a",
   "metadata": {},
   "outputs": [],
   "source": [
    "def spisok(first,second):\n",
    "    first_date = datetime.strptime(first, '%Y-%m-%d').date()\n",
    "    second_date = datetime.strptime(second, '%Y-%m-%d').date()\n",
    "\n",
    "    spisok = []\n",
    "    delta = second_date - first_date\n",
    "    for i in range(delta.days+1):\n",
    "        spisok.append(str(first_date + timedelta(days=i)))\n",
    "    return pd.Series(spisok)"
   ]
  },
  {
   "cell_type": "code",
   "execution_count": 13,
   "id": "d0be5579-d4bb-4f0f-ad29-f5a7a259055e",
   "metadata": {},
   "outputs": [],
   "source": [
    "a=spisok(start_date,end_date)"
   ]
  },
  {
   "cell_type": "code",
   "execution_count": 14,
   "id": "808f3c85-abbd-4752-9202-67e7ec42bc4d",
   "metadata": {},
   "outputs": [
    {
     "data": {
      "text/plain": [
       "0    2023-12-31\n",
       "1    2024-01-01\n",
       "2    2024-01-02\n",
       "dtype: object"
      ]
     },
     "execution_count": 14,
     "metadata": {},
     "output_type": "execute_result"
    }
   ],
   "source": [
    "a"
   ]
  },
  {
   "cell_type": "markdown",
   "id": "8ad64f45",
   "metadata": {},
   "source": [
    "#### 3. Требуется написать программу, которая с помощью генератора множеств, выбирает из списка name_files уникальные имена файлов c расширениями .png, .xls и .gif независимо от регистра имен и расширений. Имена файлов вывести вместе с расширением, для каждого расширения отедельная строка, в нижнем регистре, в алфавитном порядке через пробел.\n",
    "\n",
    "name_files = ['python.png', 'FOREST.png', 'Night.gif', 'qwerty.py', 'java.png', 'KEK.org', 'windows.pnp', 'pen.txt', 'phone.py', 'book.txT', 'board.pNg', 'keyBoard.jpg', 'Python.PNg', 'apple.jpeg', 'png.png', 'input.tXt', 'xls1.xls', 'split.pop', 'solution.Py', 'freepik.org', 'kotlin.ko', 'github.git', 'Pythonkek.gif', 'APPLE.phone', 'clIeNt.xls', 'daty.png', 'catS.gif', 'morNING.png', 'Moon.gif', 'pyth.py', 'PIP.png', 'LOL.gif', 'HW.py', 'MAC.png', 'BOOK.gif', 'GEL.py']"
   ]
  },
  {
   "cell_type": "code",
   "execution_count": 15,
   "id": "64f346fb-1dd8-41b4-9f53-33029767c41d",
   "metadata": {},
   "outputs": [],
   "source": [
    "name_files = ['python.png', 'FOREST.png', 'Night.gif', 'qwerty.py', 'java.png', 'KEK.org', 'windows.pnp', 'pen.txt', 'phone.py', 'book.txT', 'board.pNg', 'keyBoard.jpg', 'Python.PNg', 'apple.jpeg', 'png.png', 'input.tXt', 'xls1.xls', 'split.pop', 'solution.Py', 'freepik.org', 'kotlin.ko', 'github.git', 'Pythonkek.gif', 'APPLE.phone', 'clIeNt.xls', 'daty.png', 'catS.gif', 'morNING.png', 'Moon.gif', 'pyth.py', 'PIP.png', 'LOL.gif', 'HW.py', 'MAC.png', 'BOOK.gif', 'GEL.py']"
   ]
  },
  {
   "cell_type": "code",
   "execution_count": 16,
   "id": "fe297484-11d5-4e6f-9716-62ff37094abb",
   "metadata": {},
   "outputs": [],
   "source": [
    "end = sorted(set({i for i in [i.lower() for i in name_files] if re.fullmatch('.{0,}\\.[p,x,g][n,l,i][g,s,f]', i)}))"
   ]
  },
  {
   "cell_type": "code",
   "execution_count": 17,
   "id": "a5175110-58cb-473b-bdad-fd6ff7eeaf74",
   "metadata": {},
   "outputs": [
    {
     "name": "stdout",
     "output_type": "stream",
     "text": [
      "board.png png\n",
      "book.gif gif\n",
      "cats.gif gif\n",
      "client.xls xls\n",
      "daty.png png\n",
      "forest.png png\n",
      "java.png png\n",
      "lol.gif gif\n",
      "mac.png png\n",
      "moon.gif gif\n",
      "morning.png png\n",
      "night.gif gif\n",
      "pip.png png\n",
      "png.png png\n",
      "python.png png\n",
      "pythonkek.gif gif\n",
      "xls1.xls xls\n"
     ]
    }
   ],
   "source": [
    "for i in end:\n",
    "    print(i, i[-3:])"
   ]
  },
  {
   "cell_type": "code",
   "execution_count": 18,
   "id": "2651d41f-5f91-4312-9a02-71800ebc6702",
   "metadata": {},
   "outputs": [],
   "source": [
    "df= pd.DataFrame(end,columns=['text'])"
   ]
  },
  {
   "cell_type": "code",
   "execution_count": 19,
   "id": "ef297bf0-ec8e-42d7-97a6-3046f4eb1716",
   "metadata": {},
   "outputs": [],
   "source": [
    "df['расширение'] = df['text'].apply(lambda x: x[-3:])"
   ]
  },
  {
   "cell_type": "code",
   "execution_count": 20,
   "id": "0ab89acc-ee53-4e57-83d4-e7f7c5eb1720",
   "metadata": {},
   "outputs": [
    {
     "data": {
      "text/html": [
       "<div>\n",
       "<style scoped>\n",
       "    .dataframe tbody tr th:only-of-type {\n",
       "        vertical-align: middle;\n",
       "    }\n",
       "\n",
       "    .dataframe tbody tr th {\n",
       "        vertical-align: top;\n",
       "    }\n",
       "\n",
       "    .dataframe thead th {\n",
       "        text-align: right;\n",
       "    }\n",
       "</style>\n",
       "<table border=\"1\" class=\"dataframe\">\n",
       "  <thead>\n",
       "    <tr style=\"text-align: right;\">\n",
       "      <th></th>\n",
       "      <th>text</th>\n",
       "      <th>расширение</th>\n",
       "    </tr>\n",
       "  </thead>\n",
       "  <tbody>\n",
       "    <tr>\n",
       "      <th>0</th>\n",
       "      <td>board.png</td>\n",
       "      <td>png</td>\n",
       "    </tr>\n",
       "    <tr>\n",
       "      <th>1</th>\n",
       "      <td>book.gif</td>\n",
       "      <td>gif</td>\n",
       "    </tr>\n",
       "    <tr>\n",
       "      <th>2</th>\n",
       "      <td>cats.gif</td>\n",
       "      <td>gif</td>\n",
       "    </tr>\n",
       "    <tr>\n",
       "      <th>3</th>\n",
       "      <td>client.xls</td>\n",
       "      <td>xls</td>\n",
       "    </tr>\n",
       "    <tr>\n",
       "      <th>4</th>\n",
       "      <td>daty.png</td>\n",
       "      <td>png</td>\n",
       "    </tr>\n",
       "    <tr>\n",
       "      <th>5</th>\n",
       "      <td>forest.png</td>\n",
       "      <td>png</td>\n",
       "    </tr>\n",
       "    <tr>\n",
       "      <th>6</th>\n",
       "      <td>java.png</td>\n",
       "      <td>png</td>\n",
       "    </tr>\n",
       "    <tr>\n",
       "      <th>7</th>\n",
       "      <td>lol.gif</td>\n",
       "      <td>gif</td>\n",
       "    </tr>\n",
       "    <tr>\n",
       "      <th>8</th>\n",
       "      <td>mac.png</td>\n",
       "      <td>png</td>\n",
       "    </tr>\n",
       "    <tr>\n",
       "      <th>9</th>\n",
       "      <td>moon.gif</td>\n",
       "      <td>gif</td>\n",
       "    </tr>\n",
       "    <tr>\n",
       "      <th>10</th>\n",
       "      <td>morning.png</td>\n",
       "      <td>png</td>\n",
       "    </tr>\n",
       "    <tr>\n",
       "      <th>11</th>\n",
       "      <td>night.gif</td>\n",
       "      <td>gif</td>\n",
       "    </tr>\n",
       "    <tr>\n",
       "      <th>12</th>\n",
       "      <td>pip.png</td>\n",
       "      <td>png</td>\n",
       "    </tr>\n",
       "    <tr>\n",
       "      <th>13</th>\n",
       "      <td>png.png</td>\n",
       "      <td>png</td>\n",
       "    </tr>\n",
       "    <tr>\n",
       "      <th>14</th>\n",
       "      <td>python.png</td>\n",
       "      <td>png</td>\n",
       "    </tr>\n",
       "    <tr>\n",
       "      <th>15</th>\n",
       "      <td>pythonkek.gif</td>\n",
       "      <td>gif</td>\n",
       "    </tr>\n",
       "    <tr>\n",
       "      <th>16</th>\n",
       "      <td>xls1.xls</td>\n",
       "      <td>xls</td>\n",
       "    </tr>\n",
       "  </tbody>\n",
       "</table>\n",
       "</div>"
      ],
      "text/plain": [
       "             text расширение\n",
       "0       board.png        png\n",
       "1        book.gif        gif\n",
       "2        cats.gif        gif\n",
       "3      client.xls        xls\n",
       "4        daty.png        png\n",
       "5      forest.png        png\n",
       "6        java.png        png\n",
       "7         lol.gif        gif\n",
       "8         mac.png        png\n",
       "9        moon.gif        gif\n",
       "10    morning.png        png\n",
       "11      night.gif        gif\n",
       "12        pip.png        png\n",
       "13        png.png        png\n",
       "14     python.png        png\n",
       "15  pythonkek.gif        gif\n",
       "16       xls1.xls        xls"
      ]
     },
     "execution_count": 20,
     "metadata": {},
     "output_type": "execute_result"
    }
   ],
   "source": [
    "df"
   ]
  },
  {
   "cell_type": "markdown",
   "id": "8984bf39",
   "metadata": {},
   "source": [
    "#### 4. Напишите программу, которая находит все схожие слова для заданного слова. Слова называются схожими, если имеют одинаковое количество и расположение гласных букв. При этом сами гласные могут различаться. Слово задаем через input(), список, где нужно искать схожие слова 4_task_file.txt"
   ]
  },
  {
   "cell_type": "code",
   "execution_count": 21,
   "id": "e1aabfa9-2f3b-4e15-a6bc-efb446a31e17",
   "metadata": {},
   "outputs": [],
   "source": [
    "def find_keys(name):\n",
    "    #поиск гласных и нахождения их в слове\n",
    "    voca ={}\n",
    "    #для введенного значения поиск гласных\n",
    "    for num,letter in enumerate(name):\n",
    "        glasni = re.findall('[а, у, о, ы, и, э, я, ю, ё, е]',letter)\n",
    "        if glasni:\n",
    "            voca[num] = glasni[0]\n",
    "    return voca"
   ]
  },
  {
   "cell_type": "code",
   "execution_count": 22,
   "id": "10b98ac6-f22d-48ab-8faa-64e978bea62a",
   "metadata": {},
   "outputs": [],
   "source": [
    "def same_words(name,spisok):\n",
    "    #список похожих слов\n",
    "    same_words= []\n",
    "    #дял введенного значения\n",
    "    voca = find_keys(name)\n",
    "    #print(voca)\n",
    "\n",
    "    #для списка\n",
    "    for i in spisok:\n",
    "        voca2 = find_keys(i)\n",
    "        #print(voca2)\n",
    "        if (len(voca)  == len(voca2)) and voca2.keys() == voca.keys():\n",
    "            same_words.append(i)\n",
    "    return same_words"
   ]
  },
  {
   "cell_type": "code",
   "execution_count": 23,
   "id": "8fec0d9d-1e08-4639-96c7-ff9006181695",
   "metadata": {},
   "outputs": [
    {
     "name": "stdin",
     "output_type": "stream",
     "text": [
      " молок\n"
     ]
    }
   ],
   "source": [
    "#вводим слово\n",
    "name = str(input())"
   ]
  },
  {
   "cell_type": "code",
   "execution_count": 24,
   "id": "d94d84cc-1348-4b58-974b-156cfddd1dbe",
   "metadata": {},
   "outputs": [],
   "source": [
    "#spisok = ['молоко', 'парша','словарь','секс','фигура','далеко', 'девятый', 'десятый']"
   ]
  },
  {
   "cell_type": "code",
   "execution_count": 25,
   "id": "efdb094e-fcdf-48cc-85b1-f704fa8e26f0",
   "metadata": {},
   "outputs": [
    {
     "name": "stdout",
     "output_type": "stream",
     "text": [
      "['белый', 'будем', 'будет', 'будешь', 'буду', 'будут', 'была', 'были', 'было', 'вами', 'ваша', 'ваше', 'ваши', 'вечер', 'видел', 'видеть', 'вода', 'восемь', 'года', 'году', 'голос', 'город', 'давать', 'даже', 'даром', 'девять', 'делал', 'делать', 'дело', 'десять', 'думать', 'душа', 'жена', 'занят', 'затем', 'зато', 'зачем', 'какой', 'кого', 'кому', 'конец', 'куда', 'лежать', 'лицо', 'любить', 'люди', 'мало', 'меля', 'меня', 'мимо', 'мира', 'могу', 'могут', 'может', 'надо', 'назад', 'нами', 'народ', 'начать', 'наша', 'наше', 'наши', 'него', 'нему', 'нибудь', 'ниже', 'ними', 'новый', 'нога', 'перед', 'писать', 'пока', 'понять', 'пора', 'потом', 'пятый', 'рано', 'решить', 'рука', 'рядом', 'с кем', 'сама', 'сами', 'самим', 'самих', 'само', 'самой', 'самом', 'саму', 'самый', 'себе', 'себя', 'сидеть', 'сила', 'собой', 'таки', 'такой', 'тебе', 'тебя', 'теми', 'теперь', 'тобой', 'того', 'тоже', 'тому', 'туда', 'тысяч', 'хотеть', 'хотя', 'хочешь', 'чаще', 'чего', 'чему', 'через']\n"
     ]
    }
   ],
   "source": [
    "spisok=[]\n",
    "with open('/Users/andrejglavniy/Downloads/4_task_file.txt.txt') as file:\n",
    "    while line := file.readline():\n",
    "        spisok.append(line.rstrip())\n",
    "    print(same_words(name, spisok))"
   ]
  },
  {
   "cell_type": "markdown",
   "id": "b6291638",
   "metadata": {},
   "source": [
    "#### 5. Создайте класс Pasta (для определения типа пасты и добавки к ней), принимающий 2 аргумента при инициализации (). В этом классе реализуйте метод order_details(), выводящий на печать «Паста {ТИП} с {ДОБАВКА}» в случае наличия типа пасты и добавки, а иначе отобразится следующая фраза: «Простые макарошки»\n",
    "Пример вывода: Паста фетучини с лосось"
   ]
  },
  {
   "cell_type": "code",
   "execution_count": 26,
   "id": "461a14ac-ba86-492e-aeb3-0d76811a4c01",
   "metadata": {},
   "outputs": [],
   "source": [
    "class Pasta:\n",
    "    def __init__(self, a, b):\n",
    "        self.a=a\n",
    "        self.b=b\n",
    "\n",
    "    def order_details(self, availability=True):\n",
    "        if availability:\n",
    "            print(f'Паста {self.a} с {self.b}')\n",
    "        else:\n",
    "            print(f'Простые макарошки')"
   ]
  },
  {
   "cell_type": "code",
   "execution_count": 27,
   "id": "e587cd32-422e-449d-b433-dfb43e754d68",
   "metadata": {},
   "outputs": [],
   "source": [
    "a=Pasta('фетучини','лосось')"
   ]
  },
  {
   "cell_type": "code",
   "execution_count": 28,
   "id": "08746c25-7a36-46d1-b7d0-9168b8fd3742",
   "metadata": {},
   "outputs": [
    {
     "name": "stdout",
     "output_type": "stream",
     "text": [
      "Простые макарошки\n"
     ]
    }
   ],
   "source": [
    "a.order_details(availability=False)"
   ]
  },
  {
   "cell_type": "code",
   "execution_count": 29,
   "id": "07f4bca0-30d3-4f5f-a532-d80e26e5b324",
   "metadata": {},
   "outputs": [
    {
     "name": "stdout",
     "output_type": "stream",
     "text": [
      "Паста фетучини с лосось\n"
     ]
    }
   ],
   "source": [
    "a.order_details()"
   ]
  }
 ],
 "metadata": {
  "kernelspec": {
   "display_name": "Python 3 (ipykernel)",
   "language": "python",
   "name": "python3"
  },
  "language_info": {
   "codemirror_mode": {
    "name": "ipython",
    "version": 3
   },
   "file_extension": ".py",
   "mimetype": "text/x-python",
   "name": "python",
   "nbconvert_exporter": "python",
   "pygments_lexer": "ipython3",
   "version": "3.11.5"
  }
 },
 "nbformat": 4,
 "nbformat_minor": 5
}
