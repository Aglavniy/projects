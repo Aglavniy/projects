{
 "cells": [
  {
   "cell_type": "markdown",
   "id": "306e8bbd-56c9-4d80-8487-633aff65450e",
   "metadata": {},
   "source": [
    "# pyspark наработки"
   ]
  },
  {
   "cell_type": "code",
   "execution_count": 6,
   "id": "4c4ebc1d-2a64-47ef-8a33-5d9206027b64",
   "metadata": {},
   "outputs": [],
   "source": [
    "#Initializing PySpark\n",
    "from pyspark import SparkContext, SparkConf\n",
    "from pyspark.sql import SQLContext"
   ]
  },
  {
   "cell_type": "markdown",
   "id": "b95536cf-162e-4550-8078-3922b474f779",
   "metadata": {
    "jp-MarkdownHeadingCollapsed": true
   },
   "source": [
    "изначально нужен зачем-то \n"
   ]
  },
  {
   "cell_type": "code",
   "execution_count": 7,
   "id": "f1777b95-c3c2-44c6-9dff-6b8b34f72692",
   "metadata": {},
   "outputs": [
    {
     "name": "stderr",
     "output_type": "stream",
     "text": [
      "Setting default log level to \"WARN\".\n",
      "To adjust logging level use sc.setLogLevel(newLevel). For SparkR, use setLogLevel(newLevel).\n",
      "24/04/13 17:01:52 WARN NativeCodeLoader: Unable to load native-hadoop library for your platform... using builtin-java classes where applicable\n"
     ]
    }
   ],
   "source": [
    "#Spark Config\n",
    "\n",
    "conf = SparkConf().setAppName(\"sample_app\")\n",
    "\n",
    "sc = SparkContext(conf=conf)"
   ]
  },
  {
   "cell_type": "markdown",
   "id": "83d81474-c475-42e5-a830-45a4c76cc1bc",
   "metadata": {},
   "source": [
    "## sql context? "
   ]
  },
  {
   "cell_type": "markdown",
   "id": "99e94287-a35d-45a2-a1df-fc969916c177",
   "metadata": {},
   "source": [
    "загружает ДФ в формате таблице sql, добавляя Spark config."
   ]
  },
  {
   "cell_type": "code",
   "execution_count": 8,
   "id": "cfffba4a-38a7-4938-ad08-a6f16c7d8b3e",
   "metadata": {},
   "outputs": [
    {
     "name": "stderr",
     "output_type": "stream",
     "text": [
      "/opt/miniconda3/lib/python3.11/site-packages/pyspark/sql/context.py:113: FutureWarning: Deprecated in 3.0.0. Use SparkSession.builder.getOrCreate() instead.\n",
      "  warnings.warn(\n"
     ]
    }
   ],
   "source": [
    "sqlContext = SQLContext(sc)\n",
    "\n",
    "df = sqlContext.read.csv('transactions.csv',\n",
    "                         header=True)\n",
    "# header добавляет имена столбцов из ДФ 0 строки."
   ]
  },
  {
   "cell_type": "code",
   "execution_count": 9,
   "id": "05d0df81-c5f2-4818-bc0f-07ba2101ffeb",
   "metadata": {},
   "outputs": [
    {
     "name": "stdout",
     "output_type": "stream",
     "text": [
      "+-----------+------------+--------+-------+----------+-------+\n",
      "|customer_id| tr_datetime|mcc_code|tr_type|    amount|term_id|\n",
      "+-----------+------------+--------+-------+----------+-------+\n",
      "|   79780256| 37 13:36:14|    4814|   1030|  -3144.28|   NULL|\n",
      "|   79780256| 39 10:16:49|    4814|   1030|  -5614.79|   NULL|\n",
      "|   79780256| 44 09:41:33|    6011|   2010|-112295.79|   NULL|\n",
      "|   79780256| 44 09:42:44|    6011|   2010| -67377.47|   NULL|\n",
      "|   79780256| 51 08:53:56|    4814|   1030|  -1122.96|   NULL|\n",
      "|   79780256| 51 08:55:09|    4814|   1030|  -2245.92|   NULL|\n",
      "|   79780256| 58 11:18:31|    6011|   2010| -67377.47|   NULL|\n",
      "|   79780256| 59 12:29:60|    6011|   2010| -22459.16|   NULL|\n",
      "|   79780256| 62 15:44:60|    4814|   1030|  -3368.87|   NULL|\n",
      "|   79780256| 62 15:46:24|    4814|   1030|  -2245.92|   NULL|\n",
      "|   79780256| 65 06:20:50|    6011|   2010| -44918.32|   NULL|\n",
      "|   79780256| 71 11:18:04|    6011|   2010| -89836.63|   NULL|\n",
      "|   79780256| 78 10:38:15|    6011|   2010| -78607.05|   NULL|\n",
      "|   79780256| 81 12:27:22|    6011|   2010|-303198.63|   NULL|\n",
      "|   79780256| 89 02:34:24|    6011|   2010| -67377.47|   NULL|\n",
      "|   79780256| 89 05:11:41|    4814|   1030|  -5614.79|   NULL|\n",
      "|   79780256| 94 07:42:36|    4814|   1030|  -3368.87|   NULL|\n",
      "|   79780256| 98 02:36:08|    6011|   2010| -22459.16|   NULL|\n",
      "|   79780256|103 02:20:18|    6011|   2010| -26950.99|   NULL|\n",
      "|   79780256|104 13:01:44|    6011|   2010|-141492.69|   NULL|\n",
      "+-----------+------------+--------+-------+----------+-------+\n",
      "only showing top 20 rows\n",
      "\n"
     ]
    }
   ],
   "source": [
    "# Displays the content of the DataFrame to stdout\n",
    "df.show()"
   ]
  },
  {
   "cell_type": "markdown",
   "id": "14a891f6-c166-469e-9f6b-e70c8d689ddb",
   "metadata": {},
   "source": [
    "# ошибки и пути обхода"
   ]
  },
  {
   "cell_type": "markdown",
   "id": "27bbd52d-9b5b-4f4e-b88c-d3a346e93307",
   "metadata": {},
   "source": [
    "в случае runtime error нужно проверить version java в терминале, если пусто, то нужно скачать  java jdk 8 .\n"
   ]
  },
  {
   "cell_type": "code",
   "execution_count": null,
   "id": "bd8dd1c9-7b14-4225-a98e-ca29c9794e77",
   "metadata": {},
   "outputs": [],
   "source": []
  }
 ],
 "metadata": {
  "kernelspec": {
   "display_name": "Python 3 (ipykernel)",
   "language": "python",
   "name": "python3"
  },
  "language_info": {
   "codemirror_mode": {
    "name": "ipython",
    "version": 3
   },
   "file_extension": ".py",
   "mimetype": "text/x-python",
   "name": "python",
   "nbconvert_exporter": "python",
   "pygments_lexer": "ipython3",
   "version": "3.11.5"
  }
 },
 "nbformat": 4,
 "nbformat_minor": 5
}
