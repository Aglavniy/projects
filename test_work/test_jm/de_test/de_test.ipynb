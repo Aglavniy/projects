{
 "cells": [
  {
   "cell_type": "markdown",
   "metadata": {
    "id": "WRpOJ9-o-O0S"
   },
   "source": [
    "### Описание данных в файле transactions.csv\n",
    "\n",
    "* customer_id - идентификатор клиента\n",
    "* tr_datetime - день и время совершения транзакции (дни нумеруются с начала данных)\n",
    "* mcc_code - mcc-код транзакции\n",
    "* tr_type - тип транзакции\n",
    "* amount - сумма транзакции в условных единицах; со знаком \"+\" — начисление средств клиенту (приходная транзакция), \"-\" — списание средств (расходная транзакция)\n",
    "* term_id - идентификатор терминала"
   ]
  },
  {
   "cell_type": "markdown",
   "metadata": {
    "id": "Vs8Gqgob-TNa"
   },
   "source": [
    "### Описание задания\n",
    "\n",
    "Цель задания выполнить последовательно все упражнения. Будет оцениваться правильность кода, и конечный результат, т.е. после прогона всех ячеек должен получится преобразованный датасет в файле features.csv.\n",
    "\n",
    "Обратите внимание, что задания можно выполнить разными способами, конретное решение не навязывается, однако код должен быть по возможности хорошо читаемым и лаконичным."
   ]
  },
  {
   "cell_type": "markdown",
   "metadata": {},
   "source": [
    "**Хочу отметить**: я постараюсь сделать в двух вариантах в pandas и в spark."
   ]
  },
  {
   "cell_type": "markdown",
   "metadata": {},
   "source": [
    "**13.04** pandas done.\n",
    "\n",
    "**13.04** spark wait."
   ]
  },
  {
   "cell_type": "markdown",
   "metadata": {
    "id": "e0u6pPF10c-C"
   },
   "source": [
    "### 1. Создать sql context"
   ]
  },
  {
   "cell_type": "markdown",
   "metadata": {
    "colab": {
     "base_uri": "https://localhost:8080/"
    },
    "id": "c6T1j7sP0VQM",
    "outputId": "6e67d231-795a-49ba-d0f6-5ed3cf4852e5"
   },
   "source": [
    "https://spark.apache.org/docs/1.6.1/sql-programming-guide.html#starting-point-sqlcontext"
   ]
  },
  {
   "cell_type": "code",
   "execution_count": 1,
   "metadata": {
    "scrolled": true
   },
   "outputs": [],
   "source": [
    "#Initializing PySpark\n",
    "from pyspark import SparkContext, SparkConf\n",
    "from pyspark.sql import SQLContext"
   ]
  },
  {
   "cell_type": "code",
   "execution_count": null,
   "metadata": {
    "scrolled": true
   },
   "outputs": [
    {
     "name": "stderr",
     "output_type": "stream",
     "text": [
      "Setting default log level to \"WARN\".\n",
      "To adjust logging level use sc.setLogLevel(newLevel). For SparkR, use setLogLevel(newLevel).\n",
      "24/04/15 12:25:33 WARN NativeCodeLoader: Unable to load native-hadoop library for your platform... using builtin-java classes where applicable\n"
     ]
    }
   ],
   "source": [
    "#Spark Config\n",
    "conf = SparkConf().setAppName(\"sample_app\")\n",
    "sc = SparkContext(conf=conf)"
   ]
  },
  {
   "cell_type": "code",
   "execution_count": null,
   "metadata": {},
   "outputs": [],
   "source": [
    "sqlContext = SQLContext(sc)\n",
    "\n",
    "df = sqlContext.read.csv('transactions.csv',\n",
    "                         # header=True)\n",
    "\n",
    "# Displays the content of the DataFrame to stdout\n",
    "df.show()"
   ]
  },
  {
   "cell_type": "markdown",
   "metadata": {
    "id": "rTR0mno21eKI"
   },
   "source": [
    "### 2. Создать DataFrame из файла transactions.csv"
   ]
  },
  {
   "cell_type": "markdown",
   "metadata": {},
   "source": [
    "Хотя выше мы уже создали DF создадим его еще двумя способами: \n",
    "* через spark\n",
    "* через pandas"
   ]
  },
  {
   "cell_type": "code",
   "execution_count": null,
   "metadata": {},
   "outputs": [],
   "source": [
    "import pandas as pd\n",
    "from pyspark.sql.types import StructType, StructField, IntegerType, StringType\n",
    "from pyspark.sql import SparkSession"
   ]
  },
  {
   "cell_type": "markdown",
   "metadata": {},
   "source": [
    "у spark решил сделать еще одни способом "
   ]
  },
  {
   "cell_type": "code",
   "execution_count": null,
   "metadata": {},
   "outputs": [],
   "source": [
    "from pyspark.sql import SparkSession\n",
    "spark = SparkSession.builder.getOrCreate()\n",
    "\n",
    "# Создадим DF:\n",
    "example = spark.read.csv('transactions.csv', header=True)\n",
    "example.show()"
   ]
  },
  {
   "cell_type": "markdown",
   "metadata": {},
   "source": [
    "pandas ниже"
   ]
  },
  {
   "cell_type": "code",
   "execution_count": null,
   "metadata": {
    "id": "O6BhyLdB1HH2"
   },
   "outputs": [],
   "source": [
    "data = pd.read_csv('transactions.csv')"
   ]
  },
  {
   "cell_type": "code",
   "execution_count": null,
   "metadata": {},
   "outputs": [],
   "source": [
    "data.head()"
   ]
  },
  {
   "cell_type": "code",
   "execution_count": null,
   "metadata": {},
   "outputs": [],
   "source": [
    "data.info()"
   ]
  },
  {
   "cell_type": "markdown",
   "metadata": {
    "id": "_C8nftTA1vin"
   },
   "source": [
    "### 3. Напечатать схему"
   ]
  },
  {
   "cell_type": "code",
   "execution_count": null,
   "metadata": {},
   "outputs": [],
   "source": [
    "# df.printSchema()"
   ]
  },
  {
   "cell_type": "code",
   "execution_count": null,
   "metadata": {},
   "outputs": [],
   "source": [
    "data.info()"
   ]
  },
  {
   "cell_type": "markdown",
   "metadata": {},
   "source": [
    "у spark изначально не подгружаются типы, везде string. У pandas типы данных указаны, стоит изменить :\n",
    "* tr_datetime to datetime\n",
    "* customer_id - это не совсем числовое значение , это категориальное , так как мы не можем делать операции мат. с ним.\n",
    "* mcc_code, tr_type, term_id - тоже object.\n",
    "* c amount нормально"
   ]
  },
  {
   "cell_type": "markdown",
   "metadata": {},
   "source": [
    "для изменения в spark типов данных https://www.geeksforgeeks.org/update-pyspark-dataframe-metadata/"
   ]
  },
  {
   "cell_type": "markdown",
   "metadata": {
    "id": "C_Cq5ZoQ2wCy"
   },
   "source": [
    "### 4. Отобразить первые 20 строк DataFrame-а"
   ]
  },
  {
   "cell_type": "code",
   "execution_count": null,
   "metadata": {
    "id": "f9yvSJNA2t6B",
    "scrolled": true
   },
   "outputs": [],
   "source": [
    "data.head(20)"
   ]
  },
  {
   "cell_type": "code",
   "execution_count": null,
   "metadata": {},
   "outputs": [],
   "source": [
    "df.show(20)"
   ]
  },
  {
   "cell_type": "markdown",
   "metadata": {
    "id": "EqRdrwcD2zj-"
   },
   "source": [
    "### 5. Посчитать количество уникальных customer_id"
   ]
  },
  {
   "cell_type": "code",
   "execution_count": null,
   "metadata": {
    "id": "7wxulKRV25fA"
   },
   "outputs": [],
   "source": [
    "data['customer_id'].nunique()"
   ]
  },
  {
   "cell_type": "code",
   "execution_count": null,
   "metadata": {},
   "outputs": [],
   "source": [
    "df.select('customer_id').distinct().count()"
   ]
  },
  {
   "cell_type": "markdown",
   "metadata": {
    "id": "TE475gzL2z_S",
    "jp-MarkdownHeadingCollapsed": true
   },
   "source": [
    "### 6. Посчитать количество уникальных term_id"
   ]
  },
  {
   "cell_type": "code",
   "execution_count": null,
   "metadata": {
    "id": "QcQ2ElxE3GGw"
   },
   "outputs": [],
   "source": [
    "data['term_id'].nunique()"
   ]
  },
  {
   "cell_type": "markdown",
   "metadata": {
    "id": "sRcjytFZ20A0",
    "jp-MarkdownHeadingCollapsed": true
   },
   "source": [
    "### 7. Посчитать среднее количество транзакций на одного customer_id"
   ]
  },
  {
   "cell_type": "markdown",
   "metadata": {},
   "source": [
    "так как кол-во трнзакций целочисленное число, то нужно округлить"
   ]
  },
  {
   "cell_type": "code",
   "execution_count": null,
   "metadata": {},
   "outputs": [],
   "source": [
    "round(data.groupby(['customer_id']).agg({'tr_datetime':'count'}).mean().iloc[0])"
   ]
  },
  {
   "cell_type": "code",
   "execution_count": null,
   "metadata": {},
   "outputs": [],
   "source": [
    "total_count = int(len(data)/data['customer_id'].nunique())"
   ]
  },
  {
   "cell_type": "code",
   "execution_count": null,
   "metadata": {},
   "outputs": [],
   "source": [
    "print(f'Средняя кол-во транзакций на 1 пользователя: {total_count}')"
   ]
  },
  {
   "cell_type": "markdown",
   "metadata": {
    "id": "47tXFdVi3kIe"
   },
   "source": [
    "### 8. Посчитать среднюю сумму транзакций на одного customer_id"
   ]
  },
  {
   "cell_type": "markdown",
   "metadata": {
    "id": "IHLw1MiT3kIf"
   },
   "source": [
    "* исходя из условия, что '-' это списание средств, а '+' это начиление клиенту."
   ]
  },
  {
   "cell_type": "markdown",
   "metadata": {},
   "source": [
    "Если имелось ввиду всех транзакций (суммы их), то нам нужно взять модуль от суммы прихода и списания (сложить их) и поделить на кол-во id."
   ]
  },
  {
   "cell_type": "code",
   "execution_count": null,
   "metadata": {},
   "outputs": [],
   "source": [
    "mean_transaction = abs(data['amount'].sum())/data['customer_id'].nunique()\n",
    "print(f'Средняя сумма в уе на 1 пользователя: {mean_transaction}')"
   ]
  },
  {
   "cell_type": "markdown",
   "metadata": {
    "id": "to1wzrA_3kNX"
   },
   "source": [
    "### 9. Удалить столбец term_id"
   ]
  },
  {
   "cell_type": "code",
   "execution_count": null,
   "metadata": {
    "id": "y9DU6lPB3kNX"
   },
   "outputs": [],
   "source": [
    "data = data.drop('term_id', axis=1)"
   ]
  },
  {
   "cell_type": "code",
   "execution_count": null,
   "metadata": {},
   "outputs": [],
   "source": [
    "data"
   ]
  },
  {
   "cell_type": "markdown",
   "metadata": {
    "id": "4Zeyd6ff3l-G"
   },
   "source": [
    "### 10. Добавить столбец direction, который указывает \"направление\" транзакции, если в поле amount отрицательное значение то туда записать D, если положительное - C"
   ]
  },
  {
   "cell_type": "code",
   "execution_count": null,
   "metadata": {
    "id": "5-BMLhM93l-H"
   },
   "outputs": [],
   "source": [
    "data['direction'] = data['amount'].apply(lambda x: 'C' if x>0 else 'D') "
   ]
  },
  {
   "cell_type": "markdown",
   "metadata": {
    "id": "HVO6W-D_20Ed"
   },
   "source": [
    "### 11. Столбец amount преобразовать в абсолютное значение"
   ]
  },
  {
   "cell_type": "code",
   "execution_count": null,
   "metadata": {
    "id": "GMdu6hqf3cY0"
   },
   "outputs": [],
   "source": [
    "data['amount'] = abs(data['amount'])"
   ]
  },
  {
   "cell_type": "markdown",
   "metadata": {
    "id": "RshYbQoC20F0"
   },
   "source": [
    "### 12. Посчитать среднюю сумму транзакций на одного customer_id отдельно по каждому направлению"
   ]
  },
  {
   "cell_type": "code",
   "execution_count": null,
   "metadata": {
    "id": "DXK3TnIK3d8K"
   },
   "outputs": [],
   "source": [
    "data_direction = data.groupby(['direction'])\\\n",
    ".agg({'amount':'sum', \n",
    "      'customer_id':'nunique'})\n",
    "\n",
    "data_direction['mean'] = data_direction['amount']/data_direction['customer_id']"
   ]
  },
  {
   "cell_type": "code",
   "execution_count": null,
   "metadata": {},
   "outputs": [],
   "source": [
    "data_direction"
   ]
  },
  {
   "cell_type": "code",
   "execution_count": null,
   "metadata": {},
   "outputs": [],
   "source": [
    "data['customer_id'].nunique()"
   ]
  },
  {
   "cell_type": "code",
   "execution_count": null,
   "metadata": {},
   "outputs": [],
   "source": [
    "data_direction2 =pd.pivot_table(data, \n",
    "               index= 'direction', \n",
    "               values =['amount','customer_id'], \n",
    "               aggfunc={'amount':'sum', \n",
    "                        'customer_id':'nunique'})\n",
    "\n",
    "\n",
    "data_direction2['mean'] = data_direction2['amount']/data_direction2['customer_id']"
   ]
  },
  {
   "cell_type": "code",
   "execution_count": null,
   "metadata": {},
   "outputs": [],
   "source": [
    "c_dir = data_direction['mean'].loc['C']\n",
    "d_dir = data_direction['mean'].loc['D']"
   ]
  },
  {
   "cell_type": "code",
   "execution_count": null,
   "metadata": {},
   "outputs": [],
   "source": [
    "print(f\"\"\"Средняя сумма в уе на 1 пользователя в {data_direction.index[0]}: {c_dir}\n",
    "Средняя сумма в уе на 1 пользователя в {data_direction.index[1]}: {d_dir}\n",
    "\"\"\"\n",
    ")"
   ]
  },
  {
   "cell_type": "markdown",
   "metadata": {},
   "source": [
    "### 13, 14 задания удалил, были криво сформулированы"
   ]
  },
  {
   "cell_type": "markdown",
   "metadata": {},
   "source": [
    "ok."
   ]
  },
  {
   "cell_type": "markdown",
   "metadata": {
    "id": "8lJfcIuV3gls"
   },
   "source": [
    "### 15. Сделать pivot, в котором строки это customer_id, столбцы mcc-коды, в ячейках суммы по amount"
   ]
  },
  {
   "cell_type": "code",
   "execution_count": null,
   "metadata": {
    "id": "_vNvCAff3gls",
    "scrolled": true
   },
   "outputs": [],
   "source": [
    "data_mcc = data.pivot_table(index='customer_id', \n",
    "                 columns='mcc_code',\n",
    "                 values='amount', \n",
    "                 aggfunc='sum')\\\n",
    ".fillna(0)\n",
    "\n",
    "data_mcc"
   ]
  },
  {
   "cell_type": "code",
   "execution_count": null,
   "metadata": {},
   "outputs": [],
   "source": [
    "data_mcc.reset_index(inplace=True)"
   ]
  },
  {
   "cell_type": "code",
   "execution_count": null,
   "metadata": {},
   "outputs": [],
   "source": [
    "data_mcc"
   ]
  },
  {
   "cell_type": "markdown",
   "metadata": {
    "id": "n3kq5E8e3gqa"
   },
   "source": [
    "### 16. Сделать pivot, в котором строки это customer_id, столбцы mcc-коды, в ячейках средние и стандартные отклонения по amount\n",
    "т.е. на каждый mcc_code должно быть до 2-х столбцов со средним и стандартным отклонением"
   ]
  },
  {
   "cell_type": "code",
   "execution_count": null,
   "metadata": {
    "id": "WlKvaLPW3gqa",
    "scrolled": true
   },
   "outputs": [],
   "source": [
    "data_mcc_2 = data.pivot_table(index='customer_id', \n",
    "                 columns='mcc_code',\n",
    "                 values=['amount'], \n",
    "                 aggfunc=['mean','std'])\\\n",
    ".fillna(0)\n",
    "\n",
    "data_mcc_2"
   ]
  },
  {
   "cell_type": "code",
   "execution_count": null,
   "metadata": {},
   "outputs": [],
   "source": [
    "# Найдем значения, которые не были в стандартном отклонении\n",
    "set(data_mcc_2['mean'].columns) - set(data_mcc_2['std'].columns)"
   ]
  },
  {
   "cell_type": "code",
   "execution_count": null,
   "metadata": {},
   "outputs": [],
   "source": [
    "# '742_mcc_avg'\n",
    "data_mcc_2.columns = [f\"{i[2]}_mcc_{i[0]}\" for i in data_mcc_2.columns]\n",
    "data_mcc_2.reset_index(inplace=True)"
   ]
  },
  {
   "cell_type": "code",
   "execution_count": null,
   "metadata": {
    "scrolled": true
   },
   "outputs": [],
   "source": [
    "data_mcc_2"
   ]
  },
  {
   "cell_type": "markdown",
   "metadata": {},
   "source": [
    "Мне захотелось осортировать столбцы, но в то же время важно было оставить 1 столбцом customer_id, поэтому:"
   ]
  },
  {
   "cell_type": "code",
   "execution_count": null,
   "metadata": {
    "scrolled": true
   },
   "outputs": [],
   "source": [
    "mcc = pd.concat([data_mcc_2['customer_id'], \n",
    "           data_mcc_2.iloc[:,1:].reindex(sorted(data_mcc_2.iloc[:,1:].columns), axis=1)], \n",
    "          axis=1)\n",
    "mcc"
   ]
  },
  {
   "cell_type": "markdown",
   "metadata": {},
   "source": [
    "оказаось 361 столбцец, хотя ожидалосб 367. Посмотрим почему."
   ]
  },
  {
   "cell_type": "code",
   "execution_count": null,
   "metadata": {},
   "outputs": [],
   "source": [
    "data_mcc_2"
   ]
  },
  {
   "cell_type": "code",
   "execution_count": null,
   "metadata": {},
   "outputs": [],
   "source": [
    "# в 6 значениях mcc_code стандартное отлконение не выдает, \n",
    "# это по ходу из-за особенностей высчиления через pivot_table в pandas,а также, что у каждого из значений по 1 объекту\n",
    "# по сути должен быть 0, более вероятноиз-за формулы. в знаменателе n-1 чаще всего, хотя здеcь считается нормально.\n",
    "data[data['mcc_code'] == 6513].iloc[0]['amount'].std()"
   ]
  },
  {
   "cell_type": "code",
   "execution_count": null,
   "metadata": {},
   "outputs": [],
   "source": [
    "data[data['mcc_code'] == 6513]"
   ]
  },
  {
   "cell_type": "code",
   "execution_count": null,
   "metadata": {},
   "outputs": [],
   "source": [
    "import numpy as np"
   ]
  },
  {
   "cell_type": "code",
   "execution_count": null,
   "metadata": {},
   "outputs": [],
   "source": [
    "data[data['mcc_code'] == 6513].pivot_table(index='customer_id', \n",
    "                 columns='mcc_code',\n",
    "                 values=['amount'], \n",
    "                 aggfunc=['std'])\\\n",
    ".fillna(0)"
   ]
  },
  {
   "cell_type": "markdown",
   "metadata": {
    "id": "pwaeFqRZ51Fc",
    "jp-MarkdownHeadingCollapsed": true
   },
   "source": [
    "### 17. Сделать pivot, в котором строки это customer_id, столбцы типы транзакций, в ячейках средние и стандартные отклонения по amount, значения должны быть разделены по направлениям\n",
    "т.е. на каждый tr_type должно быть до 4-х столбцов со средним и стандартным отклонением по каждому направлению\n",
    "\n",
    "**Подсказка:** Можно сделать расчеты отдельно для каждого направления платежей, потом присоединить к заранее подготовленному списку уникальных customer_id. Так будет проще, наглядней и меньше вероятность сделать ошибку."
   ]
  },
  {
   "cell_type": "code",
   "execution_count": null,
   "metadata": {
    "id": "IDoehKHt51Fr",
    "scrolled": true
   },
   "outputs": [],
   "source": [
    "data_type = data.pivot_table(index='customer_id', \n",
    "                 columns=['tr_type','direction'],\n",
    "                 values=['amount'], \n",
    "                 aggfunc=['mean','std'])\\\n",
    ".fillna(0)\n",
    "\n",
    "data_type"
   ]
  },
  {
   "cell_type": "code",
   "execution_count": null,
   "metadata": {},
   "outputs": [],
   "source": [
    "# '1000_d_type_avg'\n",
    "data_type.columns = [f\"{i[2]}_{i[-1]}_{'type'}_{i[0]}\" for i in data_type.columns]\n",
    "data_type.reset_index(inplace=True)\n",
    "data_type"
   ]
  },
  {
   "cell_type": "code",
   "execution_count": null,
   "metadata": {},
   "outputs": [],
   "source": [
    "type = pd.concat([data_type['customer_id'], \n",
    "           data_type.iloc[:,1:].reindex(sorted(data_type.iloc[:,1:].columns), axis=1)], \n",
    "          axis=1)\n",
    "type"
   ]
  },
  {
   "cell_type": "markdown",
   "metadata": {
    "id": "BJCDXc4g51NJ",
    "jp-MarkdownHeadingCollapsed": true
   },
   "source": [
    "### 18. Извлечь часы из столбца tr_datetime и удалить столбец tr_datetime"
   ]
  },
  {
   "cell_type": "markdown",
   "metadata": {},
   "source": [
    "Есть несколько решений данной задачи:\n",
    "1) перевод в datetime и взять оттуда часы. Но выдает ошибку при переводе в pd.to_datetime 'DateParseError: second must be in 0..59: 59 12:29:60, at position 7' Это нужно доп. функцию писать, чтобы от 60 секунд избавиться.\n",
    "2) взять по индексу эл-ов через функцию :)"
   ]
  },
  {
   "cell_type": "code",
   "execution_count": null,
   "metadata": {},
   "outputs": [],
   "source": [
    "data['hours'] = data['tr_datetime'].apply(lambda x: x[-8:-6])"
   ]
  },
  {
   "cell_type": "code",
   "execution_count": null,
   "metadata": {},
   "outputs": [],
   "source": [
    "data['hours'] = data['hours'].astype('int')"
   ]
  },
  {
   "cell_type": "code",
   "execution_count": null,
   "metadata": {
    "scrolled": true
   },
   "outputs": [],
   "source": [
    "# проверим нет ли выбросов, как с секундами\n",
    "data['hours'].value_counts().sort_index()"
   ]
  },
  {
   "cell_type": "code",
   "execution_count": null,
   "metadata": {},
   "outputs": [],
   "source": [
    "data = data.drop('tr_datetime', axis=1)"
   ]
  },
  {
   "cell_type": "code",
   "execution_count": null,
   "metadata": {},
   "outputs": [],
   "source": [
    "data"
   ]
  },
  {
   "cell_type": "markdown",
   "metadata": {
    "id": "K0b4N2LN51UD"
   },
   "source": [
    "### 19. Сделать pivot, в котором строки это customer_id, столбцы часы, полученные на предыдущем этапе, в ячейках средние и стандартные отклонения по amount, значения должны быть разделены по направлениям\n",
    "\n",
    "**Подсказка:** Можно сделать расчеты отдельно для каждого направления платежей, потом присоединить к заранее подготовленному списку уникальных customer_id. Так будет проще, наглядней и меньше вероятность сделать ошибку."
   ]
  },
  {
   "cell_type": "code",
   "execution_count": null,
   "metadata": {},
   "outputs": [],
   "source": [
    "data"
   ]
  },
  {
   "cell_type": "code",
   "execution_count": null,
   "metadata": {
    "id": "b49N2l1h51UE",
    "scrolled": true
   },
   "outputs": [],
   "source": [
    "data_hours = data.pivot_table(index='customer_id', \n",
    "                 columns=['hours','direction'],\n",
    "                 values=['amount'], \n",
    "                 aggfunc=['mean','std'])\\\n",
    ".fillna(0)\n",
    "\n",
    "data_hours"
   ]
  },
  {
   "cell_type": "code",
   "execution_count": null,
   "metadata": {},
   "outputs": [],
   "source": [
    "# '0_hour_c_avg'\n",
    "data_hours.columns = [f\"{i[2]}_hour_{i[-1]}_{i[0]}\" for i in data_hours.columns]\n",
    "data_hours.reset_index(inplace=True)\n",
    "data_hours"
   ]
  },
  {
   "cell_type": "code",
   "execution_count": null,
   "metadata": {},
   "outputs": [],
   "source": [
    "hours = pd.concat([data_hours['customer_id'], \n",
    "           data_hours.iloc[:,1:].reindex(sorted(data_hours.iloc[:,1:].columns), axis=1)], \n",
    "          axis=1)\n",
    "hours"
   ]
  },
  {
   "cell_type": "markdown",
   "metadata": {
    "id": "kICrGZuX51Xr"
   },
   "source": [
    "### 20. Соединить полученный DataFrame с pivot-ом по mcc кодам и по часам\n",
    "\n",
    "**Примечание:** Суть тут в том, что мы по формируем набор данных, где для каждого customer_id мы имеем рассчитанные на основе транзакций признаки, такие как среднее арифметическое и стандартное отклонение сумм транзакций для каждого mcc кода, для каждого mcc с учетом направления транзакции, и для каждого часа в сутках без mcc кодов, но с учетом направления транзакции.\n",
    "\n",
    "**Подсказка:** Список полей результирующего набора данных(… - другие аналогичные поля):\n",
    "\n",
    "        ['customer_id',\n",
    "         '742_mcc_avg',\n",
    "         '742_mcc_std',\n",
    "         '1711_mcc_avg',\n",
    "         '1711_mcc_std',\n",
    "         '1731_mcc_avg',\n",
    "         '1731_mcc_std',\n",
    "         ...\n",
    "         ...\n",
    "         ...\n",
    "         '1010_c_type_avg',\n",
    "         '1010_c_type_std',\n",
    "         '1030_c_type_avg',\n",
    "         '1030_c_type_std',\n",
    "         '1100_c_type_avg',\n",
    "         ...\n",
    "         ...\n",
    "         '1000_d_type_avg',\n",
    "         '1000_d_type_std',\n",
    "         '1010_d_type_avg',\n",
    "         '1010_d_type_std',\n",
    "         '1030_d_type_avg',\n",
    "         ...\n",
    "         ...\n",
    "         '0_hour_c_avg',\n",
    "         '0_hour_c_std',\n",
    "         '1_hour_c_avg',\n",
    "         '1_hour_c_std',\n",
    "         '2_hour_c_avg',\n",
    "         '2_hour_c_std',\n",
    "         ...\n",
    "         ...\n",
    "         '23_hour_c_avg',\n",
    "         '23_hour_c_std',\n",
    "         '0_hour_d_avg',\n",
    "         '0_hour_d_std',\n",
    "         '1_hour_d_avg',\n",
    "         '1_hour_d_std',\n",
    "         ...\n",
    "         ...\n",
    "         '22_hour_d_avg',\n",
    "         '22_hour_d_std',\n",
    "         '23_hour_d_avg',\n",
    "         '23_hour_d_std’]"
   ]
  },
  {
   "cell_type": "markdown",
   "metadata": {
    "id": "CuOI8tOG51Xr"
   },
   "source": [
    "у нас получились таблицы :\n",
    "\n",
    "* hours\n",
    "* type\n",
    "* mcc"
   ]
  },
  {
   "cell_type": "code",
   "execution_count": null,
   "metadata": {},
   "outputs": [],
   "source": [
    "mcc.shape"
   ]
  },
  {
   "cell_type": "code",
   "execution_count": null,
   "metadata": {},
   "outputs": [],
   "source": [
    "type.shape"
   ]
  },
  {
   "cell_type": "code",
   "execution_count": null,
   "metadata": {},
   "outputs": [],
   "source": [
    "hours.shape"
   ]
  },
  {
   "cell_type": "code",
   "execution_count": null,
   "metadata": {},
   "outputs": [],
   "source": [
    "361+173+97 -2"
   ]
  },
  {
   "cell_type": "code",
   "execution_count": null,
   "metadata": {},
   "outputs": [],
   "source": [
    "# по дефолту оставляем inner\n",
    "answer = mcc.merge(type, on='customer_id')\\\n",
    ".merge(hours, on='customer_id')"
   ]
  },
  {
   "cell_type": "code",
   "execution_count": null,
   "metadata": {},
   "outputs": [],
   "source": [
    "answer"
   ]
  },
  {
   "cell_type": "code",
   "execution_count": null,
   "metadata": {},
   "outputs": [],
   "source": [
    "answer.shape"
   ]
  },
  {
   "cell_type": "markdown",
   "metadata": {
    "id": "VniBF5WP51b4"
   },
   "source": [
    "### 21. Какое кол-во столбцов получилось в итоговом DataFrame-е"
   ]
  },
  {
   "cell_type": "markdown",
   "metadata": {},
   "source": [
    "хочется отметить, что в связи с особенностью подсчета в pivot_table , у некоторых столбцов не считлаоьс std, у которых было всего одно знаечние по уникальному id и mcc. Так что по сути можно добавить, но там будут только 0 и много nan, которые заменим на 0. в 16 задание на примере показал."
   ]
  },
  {
   "cell_type": "code",
   "execution_count": null,
   "metadata": {
    "id": "m4J1tZYI51b5"
   },
   "outputs": [],
   "source": [
    "display(f'Кол-во столбцов, которое получилось в новом DF: {answer.shape[1]}')"
   ]
  },
  {
   "cell_type": "markdown",
   "metadata": {
    "id": "mNMqPILg51fO"
   },
   "source": [
    "### 22. Сохранить результирующий датасет в csv-файл features.csv"
   ]
  },
  {
   "cell_type": "code",
   "execution_count": 63,
   "metadata": {
    "id": "fsRXxzuvFcdP"
   },
   "outputs": [],
   "source": [
    "answer.to_csv('features.csv', index=False)"
   ]
  },
  {
   "cell_type": "code",
   "execution_count": 64,
   "metadata": {},
   "outputs": [
    {
     "name": "stdout",
     "output_type": "stream",
     "text": [
      "de_test.ipynb     features.csv      transactions.csv\n"
     ]
    }
   ],
   "source": [
    "ls"
   ]
  },
  {
   "cell_type": "code",
   "execution_count": null,
   "metadata": {},
   "outputs": [],
   "source": [
    "pd"
   ]
  }
 ],
 "metadata": {
  "colab": {
   "provenance": []
  },
  "kernelspec": {
   "display_name": "Python 3 (ipykernel)",
   "language": "python",
   "name": "python3"
  },
  "language_info": {
   "codemirror_mode": {
    "name": "ipython",
    "version": 3
   },
   "file_extension": ".py",
   "mimetype": "text/x-python",
   "name": "python",
   "nbconvert_exporter": "python",
   "pygments_lexer": "ipython3",
   "version": "3.11.5"
  }
 },
 "nbformat": 4,
 "nbformat_minor": 4
}
