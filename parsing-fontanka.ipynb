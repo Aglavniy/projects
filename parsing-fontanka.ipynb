{
 "cells": [
  {
   "cell_type": "code",
   "execution_count": 1,
   "id": "f10345f7",
   "metadata": {
    "execution": {
     "iopub.execute_input": "2024-01-13T11:22:49.542110Z",
     "iopub.status.busy": "2024-01-13T11:22:49.541140Z",
     "iopub.status.idle": "2024-01-13T11:22:50.155743Z",
     "shell.execute_reply": "2024-01-13T11:22:50.154690Z"
    },
    "papermill": {
     "duration": 0.622012,
     "end_time": "2024-01-13T11:22:50.158268",
     "exception": false,
     "start_time": "2024-01-13T11:22:49.536256",
     "status": "completed"
    },
    "tags": []
   },
   "outputs": [],
   "source": [
    "import re\n",
    "import time\n",
    "import datetime\n",
    "import pandas as pd\n",
    "import warnings\n",
    "from tqdm import tqdm\n",
    "from bs4 import BeautifulSoup\n",
    "from dataclasses import dataclass\n",
    "import requests\n",
    "warnings.filterwarnings(\"ignore\", category=FutureWarning)"
   ]
  },
  {
   "cell_type": "code",
   "execution_count": 2,
   "id": "d4b7a670",
   "metadata": {
    "_cell_guid": "b1076dfc-b9ad-4769-8c92-a6c4dae69d19",
    "_uuid": "8f2839f25d086af736a60e9eeb907d3b93b6e0e5",
    "execution": {
     "iopub.execute_input": "2024-01-13T11:22:50.168170Z",
     "iopub.status.busy": "2024-01-13T11:22:50.167480Z",
     "iopub.status.idle": "2024-01-13T11:22:50.172992Z",
     "shell.execute_reply": "2024-01-13T11:22:50.171769Z"
    },
    "papermill": {
     "duration": 0.012524,
     "end_time": "2024-01-13T11:22:50.175481",
     "exception": false,
     "start_time": "2024-01-13T11:22:50.162957",
     "status": "completed"
    },
    "tags": []
   },
   "outputs": [],
   "source": [
    "SLEEP = 2\n",
    "TOPICS = 'turizm'\n",
    "sort ='weight'\n",
    "date_from = '2000-01-01'\n",
    "date_to = '2024-01-04'\n",
    "offset = 1\n"
   ]
  },
  {
   "cell_type": "code",
   "execution_count": 3,
   "id": "bcc8df89",
   "metadata": {
    "execution": {
     "iopub.execute_input": "2024-01-13T11:22:50.182851Z",
     "iopub.status.busy": "2024-01-13T11:22:50.182119Z",
     "iopub.status.idle": "2024-01-13T11:22:50.188145Z",
     "shell.execute_reply": "2024-01-13T11:22:50.187016Z"
    },
    "papermill": {
     "duration": 0.011742,
     "end_time": "2024-01-13T11:22:50.190077",
     "exception": false,
     "start_time": "2024-01-13T11:22:50.178335",
     "status": "completed"
    },
    "tags": []
   },
   "outputs": [
    {
     "name": "stdout",
     "output_type": "stream",
     "text": [
      "param_dict: {'rubric': 'turizm', 'sort': 'weight', 'dateFrom': '2000-01-01', 'dateTo': '2024-01-04', 'offset': 1}\n"
     ]
    }
   ],
   "source": [
    "param_dict = {'rubric'     : TOPICS,\n",
    "              'sort'      : sort,\n",
    "              'dateFrom'  : date_from,\n",
    "              'dateTo'    : date_to,\n",
    "             'offset': offset}\n",
    "\n",
    "print(\"param_dict:\", param_dict)"
   ]
  },
  {
   "cell_type": "code",
   "execution_count": 4,
   "id": "a50d1d84",
   "metadata": {
    "execution": {
     "iopub.execute_input": "2024-01-13T11:22:50.197314Z",
     "iopub.status.busy": "2024-01-13T11:22:50.196949Z",
     "iopub.status.idle": "2024-01-13T11:22:50.208203Z",
     "shell.execute_reply": "2024-01-13T11:22:50.207335Z"
    },
    "papermill": {
     "duration": 0.017401,
     "end_time": "2024-01-13T11:22:50.210338",
     "exception": false,
     "start_time": "2024-01-13T11:22:50.192937",
     "status": "completed"
    },
    "tags": []
   },
   "outputs": [],
   "source": [
    "class fontanka_parser:\n",
    "\n",
    "    def __init__(self):\n",
    "        ...\n",
    "    \n",
    "    \n",
    "    def get_url(self, param_dict: dict) -> str:\n",
    "        url = 'https://www.fontanka.ru/cgi-bin/search.scgi?'\\\n",
    "        + 'rubric={}&'.format(param_dict['rubric'])\\\n",
    "        + 'sortt={}&'.format(param_dict['sort'])\\\n",
    "        + 'fdate={}&'.format(param_dict['dateFrom'])\\\n",
    "        + 'tdate={}&'.format(param_dict['dateTo'])\\\n",
    "        + 'offset={}&'.format(param_dict['offset'])\\\n",
    "        \n",
    "        \n",
    "        return url\n",
    "    \n",
    "    def append_info(self,param_dict,offset=1):\n",
    "        #offset - страница парсинга, сколько укажем столько и спарсится\n",
    "        global info\n",
    "        # получения ссылки\n",
    "        for off in tqdm(range(1,offset+1)):\n",
    "            # присваиваем смещение \n",
    "            param_dict['offset'] = off\n",
    "            url = self.get_url(param_dict)\n",
    "        \n",
    "            #получение эл-ов класса\n",
    "            response = requests.get(url)\n",
    "            print(response.status_code)\n",
    "            print(url)\n",
    "            tree = BeautifulSoup(response.content, 'html.parser')\n",
    "            ex=tree.find_all('div', {'class': 'IXagh'})\n",
    "            url_f_cont = 'https://www.fontanka.ru/'\n",
    "            \n",
    "            for i in tqdm(range(len(ex))):\n",
    "                \n",
    "                try:\n",
    "                    #time.sleep(SLEEP)\n",
    "                    #получения объекта i\n",
    "                    url_post=ex[i].a.get('href')\n",
    "                    if re.search(r'https://www.fontanka.ru',url_post):\n",
    "                        post = requests.get(url_post)\n",
    "                    else:\n",
    "                        post = requests.get(url_f_cont+url_post)\n",
    "                    \n",
    "                    # запрос на поиск инфы текста\n",
    "                    post_soup = BeautifulSoup(post.content, 'html.parser')\n",
    "                    post_ex=post_soup.find('div', {'class': 'KThj'})\n",
    "            \n",
    "                    #получаем текст поста\n",
    "                    text = post_ex.text\n",
    "                    \n",
    "                    #получаем тематику поста\n",
    "                    title = ex[0].find('a', {'class': \"IXil IXct\"}).get('title')\n",
    "                    \n",
    "                    row = {\n",
    "                        'title': title,\n",
    "                        'text': text\n",
    "                        }\n",
    "                    #доавление в список\n",
    "                    info.append(row)\n",
    "            \n",
    "                except Exception as exept:\n",
    "                    print(i,exept)\n",
    "        \n",
    "            # сообщение об успешном сохранении данных страниц\n",
    "            print(f'Checkpoint page {off} saved!')"
   ]
  },
  {
   "cell_type": "code",
   "execution_count": 5,
   "id": "52a24fc1",
   "metadata": {
    "execution": {
     "iopub.execute_input": "2024-01-13T11:22:50.217106Z",
     "iopub.status.busy": "2024-01-13T11:22:50.216783Z",
     "iopub.status.idle": "2024-01-13T11:22:50.220806Z",
     "shell.execute_reply": "2024-01-13T11:22:50.220112Z"
    },
    "papermill": {
     "duration": 0.009385,
     "end_time": "2024-01-13T11:22:50.222539",
     "exception": false,
     "start_time": "2024-01-13T11:22:50.213154",
     "status": "completed"
    },
    "tags": []
   },
   "outputs": [],
   "source": [
    "# задаем топики, по которым будем парсить\n",
    "topics = ['society']"
   ]
  },
  {
   "cell_type": "code",
   "execution_count": 6,
   "id": "ad8c167a",
   "metadata": {
    "execution": {
     "iopub.execute_input": "2024-01-13T11:22:50.229444Z",
     "iopub.status.busy": "2024-01-13T11:22:50.228920Z",
     "iopub.status.idle": "2024-01-13T11:23:48.714427Z",
     "shell.execute_reply": "2024-01-13T11:23:48.712926Z"
    },
    "papermill": {
     "duration": 58.49284,
     "end_time": "2024-01-13T11:23:48.718105",
     "exception": false,
     "start_time": "2024-01-13T11:22:50.225265",
     "status": "completed"
    },
    "tags": []
   },
   "outputs": [
    {
     "name": "stdout",
     "output_type": "stream",
     "text": [
      "society\n"
     ]
    },
    {
     "name": "stderr",
     "output_type": "stream",
     "text": [
      "  0%|          | 0/1 [00:00<?, ?it/s]"
     ]
    },
    {
     "name": "stdout",
     "output_type": "stream",
     "text": [
      "200\n",
      "https://www.fontanka.ru/cgi-bin/search.scgi?rubric=society&sortt=weight&fdate=2000-01-01&tdate=2024-01-04&offset=1&\n"
     ]
    },
    {
     "name": "stderr",
     "output_type": "stream",
     "text": [
      "\n",
      "  0%|          | 0/30 [00:00<?, ?it/s]\u001b[A\n",
      "  3%|▎         | 1/30 [00:01<00:51,  1.77s/it]\u001b[A\n",
      "  7%|▋         | 2/30 [00:03<00:51,  1.83s/it]\u001b[A\n",
      " 10%|█         | 3/30 [00:05<00:50,  1.88s/it]\u001b[A\n",
      " 13%|█▎        | 4/30 [00:07<00:49,  1.89s/it]\u001b[A\n",
      " 17%|█▋        | 5/30 [00:09<00:47,  1.89s/it]\u001b[A\n",
      " 20%|██        | 6/30 [00:11<00:47,  1.96s/it]\u001b[A\n",
      " 23%|██▎       | 7/30 [00:13<00:44,  1.95s/it]\u001b[A\n",
      " 27%|██▋       | 8/30 [00:15<00:43,  1.98s/it]\u001b[A\n",
      " 30%|███       | 9/30 [00:17<00:44,  2.14s/it]\u001b[A\n",
      " 33%|███▎      | 10/30 [00:19<00:41,  2.09s/it]\u001b[A\n",
      " 37%|███▋      | 11/30 [00:21<00:36,  1.92s/it]\u001b[A"
     ]
    },
    {
     "name": "stdout",
     "output_type": "stream",
     "text": [
      "10 'NoneType' object has no attribute 'text'\n"
     ]
    },
    {
     "name": "stderr",
     "output_type": "stream",
     "text": [
      "\n",
      " 40%|████      | 12/30 [00:23<00:34,  1.94s/it]\u001b[A\n",
      " 43%|████▎     | 13/30 [00:24<00:27,  1.64s/it]\u001b[A"
     ]
    },
    {
     "name": "stdout",
     "output_type": "stream",
     "text": [
      "12 'NoneType' object has no attribute 'text'\n"
     ]
    },
    {
     "name": "stderr",
     "output_type": "stream",
     "text": [
      "\n",
      " 47%|████▋     | 14/30 [00:26<00:26,  1.69s/it]\u001b[A\n",
      " 50%|█████     | 15/30 [00:28<00:26,  1.80s/it]\u001b[A\n",
      " 53%|█████▎    | 16/30 [00:30<00:25,  1.82s/it]\u001b[A\n",
      " 57%|█████▋    | 17/30 [00:32<00:24,  1.85s/it]\u001b[A\n",
      " 60%|██████    | 18/30 [00:34<00:24,  2.03s/it]\u001b[A\n",
      " 63%|██████▎   | 19/30 [00:36<00:21,  1.98s/it]\u001b[A\n",
      " 67%|██████▋   | 20/30 [00:38<00:19,  1.97s/it]\u001b[A\n",
      " 70%|███████   | 21/30 [00:39<00:14,  1.66s/it]\u001b[A"
     ]
    },
    {
     "name": "stdout",
     "output_type": "stream",
     "text": [
      "20 'NoneType' object has no attribute 'text'\n"
     ]
    },
    {
     "name": "stderr",
     "output_type": "stream",
     "text": [
      "\n",
      " 73%|███████▎  | 22/30 [00:41<00:14,  1.76s/it]\u001b[A\n",
      " 77%|███████▋  | 23/30 [00:43<00:12,  1.79s/it]\u001b[A\n",
      " 80%|████████  | 24/30 [00:44<00:10,  1.79s/it]\u001b[A\n",
      " 83%|████████▎ | 25/30 [00:46<00:09,  1.81s/it]\u001b[A\n",
      " 87%|████████▋ | 26/30 [00:48<00:07,  1.93s/it]\u001b[A\n",
      " 90%|█████████ | 27/30 [00:50<00:05,  1.95s/it]\u001b[A\n",
      " 93%|█████████▎| 28/30 [00:52<00:03,  1.96s/it]\u001b[A\n",
      " 97%|█████████▋| 29/30 [00:54<00:01,  1.91s/it]\u001b[A\n",
      "100%|██████████| 30/30 [00:56<00:00,  1.89s/it]\n",
      "100%|██████████| 1/1 [00:58<00:00, 58.47s/it]"
     ]
    },
    {
     "name": "stdout",
     "output_type": "stream",
     "text": [
      "Checkpoint page 1 saved!\n"
     ]
    },
    {
     "name": "stderr",
     "output_type": "stream",
     "text": [
      "\n"
     ]
    }
   ],
   "source": [
    "info=[]\n",
    "for i in topics:\n",
    "    print(i)\n",
    "    param_dict['rubric'] =i\n",
    "    obj = fontanka_parser()\n",
    "    obj.append_info(param_dict, offset=1)"
   ]
  },
  {
   "cell_type": "code",
   "execution_count": 7,
   "id": "e32db037",
   "metadata": {
    "execution": {
     "iopub.execute_input": "2024-01-13T11:23:48.739673Z",
     "iopub.status.busy": "2024-01-13T11:23:48.739265Z",
     "iopub.status.idle": "2024-01-13T11:23:48.764957Z",
     "shell.execute_reply": "2024-01-13T11:23:48.763746Z"
    },
    "papermill": {
     "duration": 0.039722,
     "end_time": "2024-01-13T11:23:48.767513",
     "exception": false,
     "start_time": "2024-01-13T11:23:48.727791",
     "status": "completed"
    },
    "tags": []
   },
   "outputs": [
    {
     "data": {
      "text/html": [
       "<div>\n",
       "<style scoped>\n",
       "    .dataframe tbody tr th:only-of-type {\n",
       "        vertical-align: middle;\n",
       "    }\n",
       "\n",
       "    .dataframe tbody tr th {\n",
       "        vertical-align: top;\n",
       "    }\n",
       "\n",
       "    .dataframe thead th {\n",
       "        text-align: right;\n",
       "    }\n",
       "</style>\n",
       "<table border=\"1\" class=\"dataframe\">\n",
       "  <thead>\n",
       "    <tr style=\"text-align: right;\">\n",
       "      <th></th>\n",
       "      <th>title</th>\n",
       "      <th>text</th>\n",
       "    </tr>\n",
       "  </thead>\n",
       "  <tbody>\n",
       "    <tr>\n",
       "      <th>22</th>\n",
       "      <td>Общество</td>\n",
       "      <td>Фото: стоп-кадр / Киноконцерн «Мосфильм» / You...</td>\n",
       "    </tr>\n",
       "    <tr>\n",
       "      <th>23</th>\n",
       "      <td>Общество</td>\n",
       "      <td>Уголовное дело об уклонении от уплаты налогов ...</td>\n",
       "    </tr>\n",
       "    <tr>\n",
       "      <th>24</th>\n",
       "      <td>Общество</td>\n",
       "      <td>Право на отсрочку от частичной мобилизации пол...</td>\n",
       "    </tr>\n",
       "    <tr>\n",
       "      <th>25</th>\n",
       "      <td>Общество</td>\n",
       "      <td>Актёр Михаил Боярский уже находится дома после...</td>\n",
       "    </tr>\n",
       "    <tr>\n",
       "      <th>26</th>\n",
       "      <td>Общество</td>\n",
       "      <td>Сборы российских кинотеатров по итогам 2023 го...</td>\n",
       "    </tr>\n",
       "  </tbody>\n",
       "</table>\n",
       "</div>"
      ],
      "text/plain": [
       "       title                                               text\n",
       "22  Общество  Фото: стоп-кадр / Киноконцерн «Мосфильм» / You...\n",
       "23  Общество  Уголовное дело об уклонении от уплаты налогов ...\n",
       "24  Общество  Право на отсрочку от частичной мобилизации пол...\n",
       "25  Общество  Актёр Михаил Боярский уже находится дома после...\n",
       "26  Общество  Сборы российских кинотеатров по итогам 2023 го..."
      ]
     },
     "execution_count": 7,
     "metadata": {},
     "output_type": "execute_result"
    }
   ],
   "source": [
    "df = pd.DataFrame(info)\n",
    "#df3 = pd.DataFrame(info3)\n",
    "df.tail()"
   ]
  }
 ],
 "metadata": {
  "kaggle": {
   "accelerator": "none",
   "dataSources": [
    {
     "databundleVersionId": 7343125,
     "sourceId": 66532,
     "sourceType": "competition"
    }
   ],
   "dockerImageVersionId": 30635,
   "isGpuEnabled": false,
   "isInternetEnabled": true,
   "language": "python",
   "sourceType": "notebook"
  },
  "kernelspec": {
   "display_name": "Python 3",
   "language": "python",
   "name": "python3"
  },
  "language_info": {
   "codemirror_mode": {
    "name": "ipython",
    "version": 3
   },
   "file_extension": ".py",
   "mimetype": "text/x-python",
   "name": "python",
   "nbconvert_exporter": "python",
   "pygments_lexer": "ipython3",
   "version": "3.10.12"
  },
  "papermill": {
   "default_parameters": {},
   "duration": 62.90667,
   "end_time": "2024-01-13T11:23:49.406542",
   "environment_variables": {},
   "exception": null,
   "input_path": "__notebook__.ipynb",
   "output_path": "__notebook__.ipynb",
   "parameters": {},
   "start_time": "2024-01-13T11:22:46.499872",
   "version": "2.4.0"
  }
 },
 "nbformat": 4,
 "nbformat_minor": 5
}
