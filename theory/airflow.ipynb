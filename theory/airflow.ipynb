{
 "cells": [
  {
   "cell_type": "markdown",
   "id": "3b3014ad-afea-4655-89a3-7b906d8037cd",
   "metadata": {},
   "source": [
    "# Мануал по airflow(дполняется)"
   ]
  },
  {
   "cell_type": "markdown",
   "id": "0481aef9-3224-4cf4-b6f3-13f445a5c7e5",
   "metadata": {},
   "source": [
    "сайт -> https://airflow.apache.org/"
   ]
  },
  {
   "cell_type": "markdown",
   "id": "32e2725c-d8ec-4704-bb0c-c4a917d0337c",
   "metadata": {},
   "source": [
    "Airflow зачем?"
   ]
  },
  {
   "cell_type": "markdown",
   "id": "e2831347-d9fb-467e-92ac-3f70945c50a8",
   "metadata": {},
   "source": [
    "- это планировщик задач . Чтобы не запускать ежедневно в ручную одно и то же."
   ]
  },
  {
   "cell_type": "markdown",
   "id": "4a5670bb-bb1a-449b-b229-ea9c04f6d8ea",
   "metadata": {},
   "source": [
    "airflow базируется на работе DAG - это направленный ацикличный граф. То есть мы декомпозируем нашу задачу на подзадачи, затем пишет граф зависимостей без цикла."
   ]
  },
  {
   "cell_type": "markdown",
   "id": "231af62c-844e-45a0-b56b-ae6245f1680f",
   "metadata": {},
   "source": [
    "airflow - это Оркестратор — это система, которая организует управление микросервисными приложениями."
   ]
  },
  {
   "cell_type": "markdown",
   "id": "bf6a3776-948f-49a7-9b79-a61c1322cd2a",
   "metadata": {},
   "source": [
    "пример кода ниже:"
   ]
  },
  {
   "cell_type": "code",
   "execution_count": null,
   "id": "128b98ca-30fb-4d84-bcb5-4f4b2f86056e",
   "metadata": {},
   "outputs": [],
   "source": [
    "\"\"\"\n",
    "Test documentation\n",
    "\"\"\"\n",
    "from datetime import datetime, timedelta\n",
    "from textwrap import dedent\n",
    "\n",
    "# Для объявления DAG нужно импортировать класс из airflow\n",
    "from airflow import DAG\n",
    "\n",
    "# Операторы - это кирпичики DAG, они являются звеньями в графе\n",
    "# Будем иногда называть операторы тасками (tasks)\n",
    "from airflow.operators.bash import BashOperator\n",
    "\n",
    "with DAG(\n",
    "    'tutorial',\n",
    "    # Параметры по умолчанию для тасок\n",
    "    default_args={\n",
    "        # Если прошлые запуски упали, надо ли ждать их успеха\n",
    "        'depends_on_past': False,\n",
    "        # Кому писать при провале\n",
    "        'email': ['airflow@example.com'],\n",
    "        # А писать ли вообще при провале?\n",
    "        'email_on_failure': False,\n",
    "        # Писать ли при автоматическом перезапуске по провалу\n",
    "        'email_on_retry': False,\n",
    "        # Сколько раз пытаться запустить, далее помечать как failed\n",
    "        'retries': 1,\n",
    "        # Сколько ждать между перезапусками\n",
    "        'retry_delay': timedelta(minutes=5),  # timedelta из пакета datetime\n",
    "    },\n",
    "    # Описание DAG (не тасок, а самого DAG)\n",
    "    description='A simple tutorial DAG',\n",
    "    # Как часто запускать DAG\n",
    "    schedule_interval=timedelta(days=1),\n",
    "    # С какой даты начать запускать DAG\n",
    "    # Каждый DAG \"видит\" свою \"дату запуска\"\n",
    "    # это когда он предположительно должен был\n",
    "    # запуститься. Не всегда совпадает с датой на вашем компьютере\n",
    "    start_date=datetime(2022, 1, 1),\n",
    "    # Запустить за старые даты относительно сегодня\n",
    "    # https://airflow.apache.org/docs/apache-airflow/stable/dag-run.html\n",
    "    catchup=False,\n",
    "    # теги, способ помечать даги\n",
    "    tags=['example'],\n",
    ") as dag:\n",
    "\n",
    "    # t1, t2, t3 - это операторы (они формируют таски, а таски формируют даг)\n",
    "    t1 = BashOperator(\n",
    "        task_id='print_date',  # id, будет отображаться в интерфейсе\n",
    "        bash_command='date',  # какую bash команду выполнить в этом таске\n",
    "    )\n",
    "\n",
    "    t2 = BashOperator(\n",
    "        task_id='sleep',\n",
    "        depends_on_past=False,  # переопределили настройку из DAG\n",
    "        bash_command='sleep 5',\n",
    "        retries=3,  # тоже переопределили retries (было 1)\n",
    "    )\n",
    "    t1.doc_md = dedent(\n",
    "        \"\"\"\\\n",
    "    #### Task Documentation\n",
    "    You can document your task using the attributes `doc_md` (markdown),\n",
    "    `doc` (plain text), `doc_rst`, `doc_json`, `doc_yaml` which gets\n",
    "    rendered in the UI's Task Instance Details page.\n",
    "    ![img](http://montcs.bloomu.edu/~bobmon/Semesters/2012-01/491/import%20soul.png)\n",
    "\n",
    "    \"\"\"\n",
    "    )  # dedent - это особенность Airflow, в него нужно оборачивать всю доку\n",
    "\n",
    "    dag.doc_md = __doc__  # Можно забрать докстрингу из начала файла вот так\n",
    "    dag.doc_md = \"\"\"\n",
    "    This is a documentation placed anywhere\n",
    "    \"\"\"  # а можно явно написать\n",
    "    # формат ds: 2021-12-25\n",
    "    templated_command = dedent(\n",
    "        \"\"\"\n",
    "    {% for i in range(5) %}\n",
    "        echo \"{{ ds }}\"\n",
    "        echo \"{{ macros.ds_add(ds, 7)}}\"\n",
    "    {% endfor %}\n",
    "    \"\"\"\n",
    "    )  # поддерживается шаблонизация через Jinja\n",
    "    # https://airflow.apache.org/docs/apache-airflow/stable/concepts/operators.html#concepts-jinja-templating\n",
    "\n",
    "    t3 = BashOperator(\n",
    "        task_id='templated',\n",
    "        depends_on_past=False,\n",
    "        bash_command=templated_command,\n",
    "    )\n",
    "\n",
    "    # А вот так в Airflow указывается последовательность задач\n",
    "    t1 >> [t2, t3]\n",
    "    # будет выглядеть вот так\n",
    "    #      -> t2\n",
    "    #  t1 | \n",
    "    #      -> t3"
   ]
  },
  {
   "cell_type": "markdown",
   "id": "0a94f5af-962c-47f2-814d-e94384257ebe",
   "metadata": {
    "jp-MarkdownHeadingCollapsed": true
   },
   "source": [
    "## Операторы (Дополняется)"
   ]
  },
  {
   "cell_type": "markdown",
   "id": "f214699b-662f-45da-ac1d-c97edc0fe470",
   "metadata": {},
   "source": [
    "Операторы - это звенья airflow , иногда называются task'ами.\n",
    "\n",
    "Существуют BashOperator, PythonOperator, PostgresOperator, SSHOperator, DummyOperator:\n",
    "\n",
    "* башопертаор для команд терминала\n",
    "* питон - для скриптов , с аргументами\n",
    "* dummy - просто опертор без всего, для красивого вида\n",
    "* postgre - Этот оператор выдает инструкцию SQL для базы данных Postgres.\n",
    "* SSHOperator- баш, но имеет встроенную поддержку подклдючения ssh"
   ]
  },
  {
   "cell_type": "markdown",
   "id": "8698021f-14b9-4a6c-9bd1-a7e3c35bd80f",
   "metadata": {},
   "source": [
    "Рассмотрим подробнее:"
   ]
  },
  {
   "cell_type": "markdown",
   "id": "87154ee8-bed1-4567-883f-51f80b099aa8",
   "metadata": {
    "jp-MarkdownHeadingCollapsed": true
   },
   "source": [
    "### bashoperator"
   ]
  },
  {
   "cell_type": "code",
   "execution_count": null,
   "id": "2ae04543-9f2b-4f68-a103-5a0e74b31647",
   "metadata": {},
   "outputs": [],
   "source": [
    "# Операторы - это кирпичики DAG, они являются звеньями в графе\n",
    "# Будем иногда называть операторы тасками (tasks)\n",
    "from airflow.operators.bash import BashOperator\n",
    "\n",
    "# вот так можно попросить Airflow подставить логическую дату\n",
    "# в формате YYYY-MM-DD\n",
    "date = \"{{ ds }}\"\n",
    "t = BashOperator(\n",
    "    \n",
    "    task_id=\"test_env\",\n",
    "    \n",
    "    bash_command=\"/tmp/test.sh \",  # обратите внимание на пробел в конце!\n",
    "    # пробел в конце нужен в случае BashOperator из-за проблем с шаблонизацией\n",
    "    # вики на проблему https://cwiki.apache.org/confluence/pages/viewpage.action?pageId=62694614\n",
    "    # и обсуждение https://github.com/apache/airflow/issues/1017\n",
    "    \n",
    "    dag=dag,  # говорим, что таска принадлежит дагу из переменной dag\n",
    "    \n",
    "    env={\"DATA_INTERVAL_START\": date},  # задает переменные окружения\n",
    ")"
   ]
  },
  {
   "cell_type": "markdown",
   "id": "e7fcfbdf-beb5-4eab-9164-36c39c57795f",
   "metadata": {},
   "source": [
    "* task_id - id для каждой таски\n",
    "* bash_command - команда выполнения\n",
    "* dag - какому dag принадлежит , если работаем не через with\n",
    "* env - переменные окружения"
   ]
  },
  {
   "cell_type": "markdown",
   "id": "d221608a-3001-4332-825c-1f4588cd7686",
   "metadata": {
    "jp-MarkdownHeadingCollapsed": true
   },
   "source": [
    "### Python operator"
   ]
  },
  {
   "cell_type": "code",
   "execution_count": null,
   "id": "d103b43f-cc35-4f36-9f65-bf4880c6809b",
   "metadata": {},
   "outputs": [],
   "source": [
    "def my_sleeping_function(random_base):\n",
    "    \"\"\"Заснуть на random_base секунд\"\"\"\n",
    "    time.sleep(random_base)\n",
    "\n",
    "# Генерируем таски в цикле - так тоже можно\n",
    "for i in range(5):\n",
    "    # Каждый таск будет спать некое количество секунд\n",
    "    task = PythonOperator(\n",
    "        task_id='sleep_for_' + str(i),  # в id можно делать все, что разрешают строки в python\n",
    "        python_callable=my_sleeping_function,\n",
    "        # передаем в аргумент с названием random_base значение float(i) / 10\n",
    "        op_kwargs={'random_base': float(i) / 10},\n",
    "    )\n",
    "    # настраиваем зависимости между задачами\n",
    "    # run_this - это некий таск, объявленный ранее (в этом примере не объявлен)\n",
    "    run_this >> task"
   ]
  },
  {
   "cell_type": "markdown",
   "id": "885ff8d1-f73e-46ab-923c-7f6668eb0319",
   "metadata": {},
   "source": [
    "Мы можем генерировать несколько таск через цикл:\n",
    "* в task_id указываем генерированные таски\n",
    "* в python_callable функцию. Важно, если функция что-то возврщает , ее return передается в XCOM.\n",
    "* op_kwargs - для передачи аргументов сначала переменную из функции, затем значение в ввиде словаря"
   ]
  },
  {
   "cell_type": "markdown",
   "id": "5f812a85-a5ef-48c5-83b5-d6d2f8f2c7c1",
   "metadata": {},
   "source": [
    "А также указываь зависимость между тасками."
   ]
  },
  {
   "cell_type": "code",
   "execution_count": null,
   "id": "20155b4f-e92f-40dd-ab42-6d1964ff740c",
   "metadata": {},
   "outputs": [],
   "source": [
    "def print_context(ds, **kwargs):\n",
    "    \"\"\"Пример PythonOperator\"\"\"\n",
    "    # Через синтаксис **kwargs можно получить словарь\n",
    "    # с настройками Airflow. Значения оттуда могут пригодиться.\n",
    "    # Пока нам не нужно\n",
    "    print(kwargs)\n",
    "    # В ds Airflow за нас подставит текущую логическую дату - строку в формате YYYY-MM-DD\n",
    "    print(ds)\n",
    "    return 'Whatever you return gets printed in the logs'\n",
    "\n",
    "run_this = PythonOperator(\n",
    "    task_id='print_the_context',  # нужен task_id, как и всем операторам\n",
    "    python_callable=print_context,  # свойственен только для PythonOperator - передаем саму функцию\n",
    ")"
   ]
  },
  {
   "cell_type": "markdown",
   "id": "1aba4d5b-dec0-4463-96ba-a7b8e254460a",
   "metadata": {},
   "source": [
    "Также хочется отметить, что ест переменные, которые уже лежат в airflow, к примеру: ds(лог. дата), **kwargs - позволяет получить словарь любых значений."
   ]
  },
  {
   "cell_type": "markdown",
   "id": "7b6f6795-ea8c-4535-b03f-1cbf946a3a16",
   "metadata": {
    "jp-MarkdownHeadingCollapsed": true
   },
   "source": [
    "### PostgresOperator "
   ]
  },
  {
   "cell_type": "code",
   "execution_count": null,
   "id": "dc3e3e74-348b-4721-8fd2-6a4c46412a27",
   "metadata": {},
   "outputs": [],
   "source": [
    "from airflow.providers.postgres.operators.postgres import PostgresOperator\n",
    "\n",
    "t3 = PostgresOperator(\n",
    "\ttask_id='PythonOperator',\n",
    "\tsql='CREATE TABLE my_table (my_column varchar(10));',\n",
    "\tpostgres_conn_id='my_postgres_connection',\n",
    "\tautocommit=False\n",
    ")"
   ]
  },
  {
   "cell_type": "markdown",
   "id": "e9625040-d25c-4e3d-8745-216ab6a9b996",
   "metadata": {},
   "source": [
    "* task_id - id для каждой таски\n",
    "* sql - запрос\n",
    "* postgres_conn_id - здесь , как я понял хуки. О них нужно больше инфы."
   ]
  },
  {
   "cell_type": "markdown",
   "id": "2223d8e0-1a75-4ada-91ab-372aef97f249",
   "metadata": {},
   "source": [
    "### другие операторы"
   ]
  },
  {
   "cell_type": "markdown",
   "id": "fa4a6d88-6547-4b63-b34e-eb8fcb898b1e",
   "metadata": {
    "jp-MarkdownHeadingCollapsed": true
   },
   "source": [
    "## Даты"
   ]
  },
  {
   "cell_type": "markdown",
   "id": "16719be0-d70c-4277-b1f4-0a01f9ee5d26",
   "metadata": {},
   "source": [
    "Даты передаются через ds - это логическая дата . Зачем она нужна?\n",
    "\n",
    "Например, если даг настроен на ежедневный запуск, то в день 2022-02-12 даг запустится с логической датой 2022-02-11 (вчера), потому что за 12-ое число данных еще может не быть."
   ]
  },
  {
   "cell_type": "markdown",
   "id": "518da989-ad7a-4f9c-8055-e5634e9da110",
   "metadata": {
    "jp-MarkdownHeadingCollapsed": true
   },
   "source": [
    "## Xcom (передача информации)"
   ]
  },
  {
   "cell_type": "markdown",
   "id": "f284f0c8-698b-467d-a22d-c540078dc5ff",
   "metadata": {},
   "source": [
    "в airflow осуществляется передача информации через xcom в формате ключ:значение"
   ]
  },
  {
   "cell_type": "code",
   "execution_count": null,
   "id": "fb6aa7ad-d6ab-4ae5-b8d9-e19ef54bf4e5",
   "metadata": {},
   "outputs": [],
   "source": [
    "from airflow import DAG\n",
    "from airflow.operators.python import PythonOperator\n",
    "from datetime import datetime, timedelta\n",
    "\n",
    "import requests\n",
    "import json\n",
    "\n",
    "url = 'https://covidtracking.com/api/v1/states/'\n",
    "state = 'wa'\n",
    "\n",
    "def get_testing_increase(state, ti):\n",
    "    \"\"\"\n",
    "    Gets totalTestResultsIncrease field from Covid API for given state and returns value\n",
    "    \"\"\"\n",
    "    res = requests.get(url + '{0}/current.json'.format(state))\n",
    "    testing_increase = json.loads(res.text)['totalTestResultsIncrease']\n",
    "    # в ti уходит task_instance, его передает Airflow под таким названием\n",
    "    # когда вызывает функцию в ходе PythonOperator\n",
    "    ti.xcom_push(\n",
    "        key='testing_increase',\n",
    "        value=testing_increase\n",
    "    )\n",
    "\n",
    "def analyze_testing_increases(state, ti):\n",
    "    \"\"\"\n",
    "    Evaluates testing increase results\n",
    "    \"\"\"\n",
    "    testing_increases = ti.xcom_pull(\n",
    "        key='testing_increase',\n",
    "        task_ids='get_testing_increase_data_{0}'.format(state)\n",
    "    )\n",
    "    print('Testing increases for {0}:'.format(state), testing_increases)\n",
    "\n",
    "# Default settings applied to all tasks\n",
    "default_args = {\n",
    "    'owner': 'airflow',\n",
    "    'depends_on_past': False,\n",
    "    'email_on_failure': False,\n",
    "    'email_on_retry': False,\n",
    "    'retries': 1,\n",
    "    'retry_delay': timedelta(minutes=5)\n",
    "}\n",
    "\n",
    "with DAG(\n",
    "    'xcom_dag',\n",
    "    start_date=datetime(2021, 1, 1),\n",
    "    max_active_runs=2,\n",
    "    schedule_interval=timedelta(minutes=30),\n",
    "    default_args=default_args,\n",
    "    catchup=False\n",
    ") as dag:\n",
    "    opr_get_covid_data = PythonOperator(\n",
    "        task_id = 'get_testing_increase_data_{0}'.format(state),\n",
    "        python_callable=get_testing_increase,\n",
    "        op_kwargs={'state':state}\n",
    "    )\n",
    "    opr_analyze_testing_data = PythonOperator(\n",
    "        task_id = 'analyze_data',\n",
    "        python_callable=analyze_testing_increases,\n",
    "        op_kwargs={'state':state}\n",
    "    )\n",
    "\n",
    "    opr_get_covid_data >> opr_analyze_testing_data"
   ]
  },
  {
   "cell_type": "markdown",
   "id": "4fb868e7-42ac-4eb2-adab-295071b384cf",
   "metadata": {},
   "source": [
    "Как внести данные?\n",
    "\n",
    "* в функции мы указываем либо **kwargs, либо ti\n",
    "* далее ti.xcom_push - ti (task instance)\n",
    "* далее указывает key и value.\n",
    "* также можно через return  (такое поведение можно убрать, если выставить в настройках {'do_xcom_push': False}).\n",
    "\n",
    "Как получить данные?\n",
    "\n",
    "* ti.xcom_pull\n",
    "* в аргументах нужен key и task_ids оператора ,где передавался ti."
   ]
  },
  {
   "cell_type": "markdown",
   "id": "9e26907b-1fe2-4069-bb7b-f65dcca08480",
   "metadata": {
    "jp-MarkdownHeadingCollapsed": true
   },
   "source": [
    "## Connections и Variables"
   ]
  },
  {
   "cell_type": "markdown",
   "id": "8c6262b1-6ece-4726-ac6a-3b3b30431ef3",
   "metadata": {},
   "source": [
    "Чтобы безопансо хранить подключения"
   ]
  },
  {
   "cell_type": "code",
   "execution_count": null,
   "id": "659f56eb-7475-4724-a6a5-aa113af499eb",
   "metadata": {},
   "outputs": [],
   "source": [
    "from airflow.hooks.base_hook import BaseHook\n",
    "\n",
    "connection = BaseHook.get_connection(\"conn_name\")\n",
    "conn_password = connection.password\n",
    "conn_login = connection.login"
   ]
  },
  {
   "cell_type": "markdown",
   "id": "afb65d00-fb94-47cd-bc1f-563e13ce3e5d",
   "metadata": {},
   "source": [
    "Динамические переменные, которые задаются в Airflow и которые можно доставать из кода:"
   ]
  },
  {
   "cell_type": "code",
   "execution_count": null,
   "id": "1f1304be-2f83-4538-8fea-2ecd0f23363f",
   "metadata": {},
   "outputs": [],
   "source": [
    "from airflow.models import Variable\n",
    "\n",
    "is_prod = Variable.get(\"is_prod\")  # необходимо передать имя, заданное при создании Variable\n",
    "# теперь в is_prod лежит значение Variable"
   ]
  },
  {
   "cell_type": "markdown",
   "id": "971daf73-2ad7-484e-be00-2b5dc018306c",
   "metadata": {
    "jp-MarkdownHeadingCollapsed": true
   },
   "source": [
    "## Важные моменты"
   ]
  },
  {
   "cell_type": "markdown",
   "id": "529b549a-6cf8-4e43-ac23-9a07779468f5",
   "metadata": {},
   "source": [
    "* идемпотентность (Несколько раз в день вызываем задачу, результат один)\n",
    "* 1 таска - 1 операция\n",
    "* Осторожнее с datetime.now() - может быть конфликт с логической датой\n",
    "* Не хранить много в XCom\n",
    "* Код в отдельном месте, затем доставялем в airflow, так как это оркестратор.\n",
    "* Тестирование airflow"
   ]
  },
  {
   "cell_type": "markdown",
   "id": "5b0effa9-2e3a-4586-a5f8-7e6ad6037e72",
   "metadata": {
    "jp-MarkdownHeadingCollapsed": true
   },
   "source": [
    "## Наработки:"
   ]
  },
  {
   "cell_type": "markdown",
   "id": "693d67a0-b6e1-46bc-b0df-3ecb484c7432",
   "metadata": {},
   "source": [
    "* airflow db init важна изначальная инициализация бд для локальной работы\n",
    "* создание пользователя:\n",
    "\n",
    "airflow users create \\\n",
    "    --username admin \\\n",
    "    --firstname YOUR_FIRST_NAME \\\n",
    "    --lastname YOUR_LAST_NAME \\\n",
    "    --role Admin \\\n",
    "    --email YOUR_EMAIL@example.com\n",
    "\n",
    "* airflow webserver --port 8080\n",
    "* в отдельном терминале запускаем sheduler\n",
    "* dag создаетс в отдельной папке dags\n",
    "* если не отображаются нужно перейтив в ls ~/airflow/, изменить в airflow.cfg папку нахождения dag's."
   ]
  },
  {
   "cell_type": "markdown",
   "id": "783f1019-dea4-4c79-8e41-59a45d936309",
   "metadata": {},
   "source": [
    "mac приколы:\n",
    "\n",
    "* чтобы заработал нужно скачивать warnings\n",
    "* sys.path.append(os.getcwd()) помогает использовать модули без проблем\n",
    "* os.environ['NO_PROXY'] = '*' для того, чтобы на mac не вхоидл в задачу ожидания"
   ]
  },
  {
   "cell_type": "markdown",
   "id": "70f3688b-2c5b-46ec-b849-7d9926626180",
   "metadata": {},
   "source": [
    "\n",
    "В случае ошибок:\n",
    "1. Смотри на warnings\n",
    "2. Обязательно запускай параллельно airflow scheduler с airflow webserver --port 8080 на локальном хосте\n",
    "3. Смотри logи\n",
    "4. Скачивай ,что предлагает терминал\n",
    "* The scheduler does not appear to be running. Last heartbeat was received 33 seconds ago. The DAGs list may not update, and new tasks will not be scheduled. Много вариаций решений - 1 из них установка недостаящих пакетов.\n",
    "* Лучше менять при импорте имена, если они как-то коррелируют\n",
    "* "
   ]
  }
 ],
 "metadata": {
  "kernelspec": {
   "display_name": "Python 3 (ipykernel)",
   "language": "python",
   "name": "python3"
  },
  "language_info": {
   "codemirror_mode": {
    "name": "ipython",
    "version": 3
   },
   "file_extension": ".py",
   "mimetype": "text/x-python",
   "name": "python",
   "nbconvert_exporter": "python",
   "pygments_lexer": "ipython3",
   "version": "3.11.5"
  }
 },
 "nbformat": 4,
 "nbformat_minor": 5
}
