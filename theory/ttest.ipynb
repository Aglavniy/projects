{
 "cells": [
  {
   "cell_type": "markdown",
   "id": "820a360d-4ad0-4f96-ab5c-35ad5b013aca",
   "metadata": {},
   "source": [
    "# ttest - это для средних "
   ]
  },
  {
   "cell_type": "markdown",
   "id": "bd1285e3-a4ea-4f77-94b0-e2dd3972a3f8",
   "metadata": {},
   "source": [
    "## Для сравнения средних двух выборок"
   ]
  },
  {
   "cell_type": "markdown",
   "id": "d059838d-9eee-4c8d-8e09-d60f860aaad8",
   "metadata": {},
   "source": [
    "st.ttest_1samp(scooters,optimal_value) "
   ]
  },
  {
   "cell_type": "markdown",
   "id": "a174bf97-d5fe-4297-a3b3-606b9ea47c07",
   "metadata": {},
   "source": [
    "После выполнения метод вернёт статистику разности между popmean и выборочным средним из array, а также двустороннее значение p-value."
   ]
  },
  {
   "cell_type": "markdown",
   "id": "cbada000-1feb-420d-9723-128b03bd99b1",
   "metadata": {},
   "source": [
    "scooters - данные\n",
    "\n",
    "optimal_value - среднее которые мы ожидаем в нулевой гипотезе."
   ]
  },
  {
   "cell_type": "markdown",
   "id": "00ae688b-ff33-46ca-857f-1be5c48a15c7",
   "metadata": {},
   "source": [
    "Односторонняя"
   ]
  },
  {
   "cell_type": "markdown",
   "id": "04312fa5-2c39-4a49-a880-1b0910eafa5f",
   "metadata": {},
   "source": [
    "Вы посетили курс известного коуча-предпринимателя. Если вы внедрите его авторскую практику осознанного подхода к бизнесу, то ваш интернет-проект начнёт приносить не менее 50000 рублей в день.\n",
    "Проверьте по приведённому датасету дневной выручки за последний месяц гипотезу, что ваш интернет-проект стал приносить не меньше 50000 рублей в день.\n",
    "Напомним: включающая знак равенства гипотеза обычно нулевая. Поэтому «всё сложится, как коуч прописал» — это ваша нулевая гипотеза, а «выручка меньше заявленного» — альтернативная.\n",
    "«Методика бизнес-коуча не сработала!» — так можно будет утверждать, только если выручка будет статистически значимо меньше заявленной суммы."
   ]
  },
  {
   "cell_type": "code",
   "execution_count": null,
   "id": "d7bca446-7576-4fb8-9935-70815896bb48",
   "metadata": {},
   "outputs": [],
   "source": [
    "from scipy import stats as st\n",
    "import numpy as np\n",
    "import pandas as pd\n",
    "\n",
    "revenue = pd.read_csv('/datasets/revenue.csv', header = None)\n",
    "revenue = revenue.loc[:, 0]\n",
    "\n",
    "interested_value = 50000# сколько обещал бизнес-коуч?\n",
    "\n",
    "alpha = .05# укажите критический уровень статистической значимости\n",
    "\n",
    "results = st.ttest_1samp(revenue,interested_value) # используйте метод st.ttest_1samp\n",
    "\n",
    "print('p-значение:', results.pvalue/2) # добавьте в аргумент p-value для одностороннего теста\n",
    "\n",
    "if (results.pvalue/2 < alpha) and (revenue.mean() < interested_value):\n",
    "    print(\"Отвергаем нулевую гипотезу: выручка значимо меньше 50 тысяч\")\n",
    "else:\n",
    "    print(\"Не получилось отвергнуть нулевую гипотезу: выручка достигает запланированных показателей\")"
   ]
  },
  {
   "cell_type": "markdown",
   "id": "263543b5-2783-450e-82fb-93c69bc02299",
   "metadata": {},
   "source": [
    "* Как видно выше, нам нужно поделить значение pvalue на 2 (так как 1-яя)\n",
    "* а также сравнить среднии в зависимости от контекста задачи! Это чтобы отвергнуть гипотезу!"
   ]
  },
  {
   "cell_type": "markdown",
   "id": "748ae74d-d590-4477-91a4-8db86fdd73cc",
   "metadata": {},
   "source": [
    "Двухсторонняя"
   ]
  },
  {
   "cell_type": "markdown",
   "id": "12bee86f-59b9-4d56-b57d-cb4e711ee978",
   "metadata": {},
   "source": [
    "У вас сеть станций проката «Самокат подвезёт»: 20 точек в центре города, на каждой — максимум 50 электросамокатов. Вы хотите проверить гипотезу, что в прошлом месяце на любой станции днём было доступно в среднем 30 самокатов. Именно о таком количестве говорили урбанисты КБ «Белка» в исследовании мобильности горожан. Если самокатов на станции меньше, то пользователи думают, что не смогут арендовать самокат, когда он понадобится. А когда их больше, горожанам кажется, что оставить самокат на парковке не получится — не будет свободных мест.\n",
    "Каждая станция ежечасно отсылала на сервер текущее количество самокатов. Вы загрузили значения с 13:00 до 16:00 за последние 30 дней. Проверьте гипотезу по этой выборке."
   ]
  },
  {
   "cell_type": "code",
   "execution_count": null,
   "id": "1ad90545-c176-4c8c-a4ad-faa717ef2eb4",
   "metadata": {},
   "outputs": [],
   "source": [
    "from scipy import stats as st\n",
    "import pandas as pd\n",
    "\n",
    "scooters = pd.Series([15, 31, 10, 21, 21, 32, 30, 25, 21,\n",
    "28, 25, 32, 38, 18, 33, 24, 26, 40, 24, 37, 20, 36, 28, 38,\n",
    "24, 35, 33, 21, 29, 26, 13, 25, 34, 38, 23, 37, 31, 28, 32,\n",
    "24, 25, 13, 38, 34, 48, 19, 20, 22, 38, 28, 31, 18, 21, 24,\n",
    "31, 21, 28, 29, 33, 40, 26, 33, 33,  6, 27, 24, 17, 28,  7,\n",
    "33, 25, 25, 29, 19, 30, 29, 22, 15, 28, 36, 25, 36, 25, 29,\n",
    "33, 19, 32, 32, 28, 26, 18, 48, 15, 27, 27, 27,  0, 28, 39,\n",
    "27, 25, 39, 28, 22, 33, 30, 35, 19, 20, 18, 31, 44, 20, 18,\n",
    "17, 28, 17, 44, 40, 33,])\n",
    "\n",
    "optimal_value = 30# введите ваш код тут\n",
    "\n",
    "alpha = 0.05# введите ваш код тут\n",
    "\n",
    "results = st.ttest_1samp(scooters,optimal_value)\n",
    "# введите ваш код тут\n",
    "\n",
    "print('p-значение:',results.pvalue)\n",
    "\n",
    "if results.pvalue < alpha:# введите ваш код тут:\n",
    "    print(\"Отвергаем нулевую гипотезу\")\n",
    "else:\n",
    "    print(\"Не получилось отвергнуть нулевую гипотезу\")"
   ]
  },
  {
   "cell_type": "markdown",
   "id": "3d161584-1b16-4ddd-b169-ce22e159b7f5",
   "metadata": {},
   "source": [
    "* В данном случае нужно только сравнивть pvalue и alpha ю"
   ]
  },
  {
   "cell_type": "markdown",
   "id": "fb6b64aa-82d4-4960-8a98-5bff157c40b1",
   "metadata": {},
   "source": [
    "## Для сравнения средних двух ГС"
   ]
  },
  {
   "cell_type": "markdown",
   "id": "dc6b48b6-2756-473f-959a-80b08d314882",
   "metadata": {},
   "source": [
    "Приведены два датасета: глубина просмотра сайта разными группами пользователей за летние и осенние месяцы. Проверьте гипотезу о равенстве глубины просмотра веб-ресурса. Возможно, летом посетители погружаются в контент ненадолго — стоит учесть при планировании рекламных кампаний в это время года.\n",
    "Установите уровень статистической значимости \n",
    "0.01\n",
    "0.01."
   ]
  },
  {
   "cell_type": "code",
   "execution_count": null,
   "id": "dd06b654-c083-447e-bee0-89dfe8249e66",
   "metadata": {},
   "outputs": [],
   "source": [
    "from scipy import stats as st\n",
    "import numpy as np\n",
    "\n",
    "pages_per_session_autumn = [7.1, 7.3, 9.8, 7.3, 6.4, 10.5, 8.7, \n",
    "                            17.5, 3.3, 15.5, 16.2, 0.4, 8.3, \n",
    "                            8.1, 3.0, 6.1, 4.4, 18.8, 14.7, 16.4, \n",
    "                            13.6, 4.4, 7.4, 12.4, 3.9, 13.6, \n",
    "                            8.8, 8.1, 13.6, 12.2]\n",
    "pages_per_session_summer = [12.1, 24.3, 6.4, 19.9, 19.7, 12.5, 17.6, \n",
    "                            5.0, 22.4, 13.5, 10.8, 23.4, 9.4, 3.7, \n",
    "                            2.5, 19.8, 4.8, 29.0, 1.7, 28.6, 16.7, \n",
    "                            14.2, 10.6, 18.2, 14.7, 23.8, 15.9, 16.2, \n",
    "                            12.1, 14.5]\n",
    "\n",
    "alpha = .01# задайте уровень стат. значимости\n",
    "\n",
    "results = st.ttest_ind(pages_per_session_autumn,pages_per_session_summer)# проведите стат. тест о равенстве глубины просмотра сайта за лето и осень\n",
    "\n",
    "# выведите на экран получившееся p-значение\n",
    "print('p-значение:', results.pvalue)\n",
    "\n",
    "if results.pvalue<alpha:\n",
    "    print('Отвергаем нулевую гипотезу')\n",
    "else:\n",
    "    print('Не получилось отвергнуть нулевую гипотезу')"
   ]
  },
  {
   "cell_type": "markdown",
   "id": "d8eefe7f-ac31-4459-821a-f95ab3a64287",
   "metadata": {},
   "source": [
    "в ttest_ind передаем две выборки из ГС( независимых!)\n",
    "также есть параметр equal_var , равенство дисперссии у выборок. По умолчанию тру."
   ]
  },
  {
   "cell_type": "markdown",
   "id": "73ef730a-cbbd-4a7f-bf03-63dcb2d12f15",
   "metadata": {},
   "source": [
    "* Для зависимых ГС средних scipy.stats.ttest_rel()"
   ]
  },
  {
   "cell_type": "markdown",
   "id": "209b4eb4-f009-4dec-999f-e7b9abfb1025",
   "metadata": {},
   "source": [
    "Приведены два датасета: время использования одними и теми же пользователями личного кабинета сайта до редизайна и после. Проверьте гипотезу, что после редизайна время использования личного кабинета на сайте изменилось (увеличилось или уменьшилось). Установите уровень статистической значимости \n",
    "0.05\n",
    "0.05."
   ]
  },
  {
   "cell_type": "code",
   "execution_count": null,
   "id": "797c4fee-7960-4d29-ab1d-8946f207f220",
   "metadata": {},
   "outputs": [],
   "source": [
    "from scipy import stats as st\n",
    "import numpy as np\n",
    "\n",
    "time_before = [1732, 1301, 1540, 2247, 1632, 1550, 754, 1946, 1889, \n",
    "          2748, 1349, 1648, 1665, 2416, 1470, 1681, 1868, 1629, \n",
    "          1271, 1633, 2131, 942, 1599, 1127, 2200, 661, 1207, \n",
    "          1737, 2410, 1486]\n",
    "\n",
    "time_after = [955, 2577, 360, 139, 1618, 990, 644, 1796, 1487, 949, 472, \n",
    "         1906, 1758, 1258, 2554, 612, 309, 1864, 1294, 1487, 1164, 1559, \n",
    "         491, 2286, 1270, 2069, 1553, 1629, 1704, 1623]\n",
    "\n",
    "alpha = .05 # задайте уровень статистической значимости\n",
    "\n",
    "results = st.ttest_rel(time_before,time_after)# проведите тест и посчитайте p-значение\n",
    "\n",
    "# выведите на экран полученное p-значение\n",
    "print('p-значение:', results.pvalue)\n",
    "\n",
    "if results.pvalue<alpha:\n",
    "    print('Отвергаем нулевую гипотезу')\n",
    "else:\n",
    "    print('Не получилось отвергнуть нулевую гипотезу')"
   ]
  },
  {
   "cell_type": "markdown",
   "id": "023d920e-6b5a-46b3-af02-4557e843d7b9",
   "metadata": {},
   "source": [
    "# a/b (first exercise)"
   ]
  },
  {
   "cell_type": "code",
   "execution_count": 7,
   "id": "fd199d05-bfc0-4526-ad0c-2dd460851287",
   "metadata": {},
   "outputs": [],
   "source": [
    "import numpy as np\n",
    "import pandas as pd\n",
    "from tqdm.notebook import tqdm"
   ]
  },
  {
   "cell_type": "markdown",
   "id": "2c2a2d50-4f35-4b00-9be1-46e73bb7357e",
   "metadata": {},
   "source": [
    "Пример заебашим, допустим у нас есть лендинг , мы изменили на нем дизайн первого блока и подсчитали конверсию:\n",
    "\n",
    "* a - до изменений\n",
    "* b после\n",
    "\n",
    "https://www.evanmiller.org/ab-testing/sample-size.html с помощью данного калькулятора нам нужно измерить выборку и провреить tpr and fpr."
   ]
  },
  {
   "cell_type": "markdown",
   "id": "93f7e3c3-30dd-415f-84e7-67624e85b97c",
   "metadata": {},
   "source": [
    "* baseline берем 10%\n",
    "* MDE 3%"
   ]
  },
  {
   "cell_type": "code",
   "execution_count": 8,
   "id": "ec0435ad-b75f-4833-846c-c651497c29f4",
   "metadata": {},
   "outputs": [
    {
     "data": {
      "text/plain": [
       "140"
      ]
     },
     "execution_count": 8,
     "metadata": {},
     "output_type": "execute_result"
    }
   ],
   "source": [
    "np.random.binomial(1629, 0.1)"
   ]
  },
  {
   "cell_type": "code",
   "execution_count": 9,
   "id": "f62aef37-0c41-4d21-a53e-955036801391",
   "metadata": {},
   "outputs": [],
   "source": [
    "#values count\n",
    "count_values = 1629\n",
    "\n",
    "a = np.random.binomial(count_values, 0.1)\n",
    "b = np.random.binomial(count_values, 0.13)"
   ]
  },
  {
   "cell_type": "code",
   "execution_count": 10,
   "id": "8794232d-0bbe-4c4a-9d8c-9341ac891a98",
   "metadata": {},
   "outputs": [
    {
     "data": {
      "text/plain": [
       "(161, 213)"
      ]
     },
     "execution_count": 10,
     "metadata": {},
     "output_type": "execute_result"
    }
   ],
   "source": [
    "a,b"
   ]
  },
  {
   "cell_type": "code",
   "execution_count": 11,
   "id": "6f8e21de-89a6-4561-8a4a-55e709832c49",
   "metadata": {},
   "outputs": [],
   "source": [
    "from statsmodels.stats.proportion import proportions_ztest"
   ]
  },
  {
   "cell_type": "code",
   "execution_count": 12,
   "id": "4e3ac4a5-4f28-4776-b855-b84e66a3cf79",
   "metadata": {},
   "outputs": [],
   "source": [
    "def test(conv_a,conv_b,size_a,size_b,significance=0.05):\n",
    "  _, p_value = proportions_ztest([conv_a, conv_b],\n",
    "                                 [size_a, size_b],\n",
    "                                 alternative='two-sided')\n",
    "  return p_value < significance"
   ]
  },
  {
   "cell_type": "code",
   "execution_count": 13,
   "id": "8e69df6b-a690-49cf-ae0b-771a7a41f94f",
   "metadata": {},
   "outputs": [
    {
     "data": {
      "text/plain": [
       "True"
      ]
     },
     "execution_count": 13,
     "metadata": {},
     "output_type": "execute_result"
    }
   ],
   "source": [
    "test(a,b,count_values,count_values)"
   ]
  },
  {
   "cell_type": "markdown",
   "id": "8854662a-37e9-4155-ac59-9da9a8b73f3a",
   "metadata": {},
   "source": [
    "То есть разница в конверсии после изменения блока незначительна"
   ]
  },
  {
   "cell_type": "markdown",
   "id": "3e8acb15-d437-48b2-8905-ac9f8defba5f",
   "metadata": {},
   "source": [
    "## TPR(sensetivity)"
   ]
  },
  {
   "cell_type": "markdown",
   "id": "0f3c0c55-8d2b-42ee-ba15-ad7f7be8a0d6",
   "metadata": {},
   "source": [
    "true_positive/ positive_real"
   ]
  },
  {
   "cell_type": "code",
   "execution_count": 14,
   "id": "93a2944c-ca80-4b67-bb25-3f53e11088bd",
   "metadata": {},
   "outputs": [],
   "source": [
    "def rate(counter=10000, basic_cr=0.1, b_cr=0.13,count_values=count_values):\n",
    "\n",
    "    # кол-во циклов\n",
    "    counter=counter\n",
    "    # куда будем записывать массив a b\n",
    "    result=[]\n",
    "    \n",
    "    for _ in tqdm(range(counter)):\n",
    "        a=np.random.binomial(count_values, basic_cr)\n",
    "        b=np.random.binomial(count_values, b_cr)\n",
    "        testab=test(a,b,count_values,count_values)\n",
    "        result.append((a,b,testab))\n",
    "    \n",
    "    df = pd.DataFrame(result, columns=['a','b','test'])\n",
    "    \n",
    "    return df"
   ]
  },
  {
   "cell_type": "code",
   "execution_count": 15,
   "id": "97334b53-5b1d-45d8-b9d2-653337175d55",
   "metadata": {},
   "outputs": [
    {
     "data": {
      "application/vnd.jupyter.widget-view+json": {
       "model_id": "93b3c99187ab4b40a5733be669ad9ef2",
       "version_major": 2,
       "version_minor": 0
      },
      "text/plain": [
       "  0%|          | 0/10000 [00:00<?, ?it/s]"
      ]
     },
     "metadata": {},
     "output_type": "display_data"
    }
   ],
   "source": [
    "tpr = rate()"
   ]
  },
  {
   "cell_type": "code",
   "execution_count": 16,
   "id": "a1fbf02c-f000-413b-be11-d838d11ebc28",
   "metadata": {},
   "outputs": [
    {
     "data": {
      "text/plain": [
       "0.7694"
      ]
     },
     "execution_count": 16,
     "metadata": {},
     "output_type": "execute_result"
    }
   ],
   "source": [
    "tpr['test'].mean()"
   ]
  },
  {
   "cell_type": "markdown",
   "id": "eb400707-c561-4837-b2ee-96a892cc03bc",
   "metadata": {},
   "source": [
    "## FPR(specificity)"
   ]
  },
  {
   "cell_type": "code",
   "execution_count": 17,
   "id": "83315184-9839-4f55-859e-c094e3c5700f",
   "metadata": {},
   "outputs": [
    {
     "data": {
      "application/vnd.jupyter.widget-view+json": {
       "model_id": "6cc77cdbae9b40bd815fdce570656dd6",
       "version_major": 2,
       "version_minor": 0
      },
      "text/plain": [
       "  0%|          | 0/10000 [00:00<?, ?it/s]"
      ]
     },
     "metadata": {},
     "output_type": "display_data"
    }
   ],
   "source": [
    "fpr = rate(counter=10000, basic_cr=0.1, b_cr=0.1,count_values=count_values)"
   ]
  },
  {
   "cell_type": "code",
   "execution_count": 18,
   "id": "71a0e460-fac4-4ee8-a5c9-79d0b2bf7969",
   "metadata": {},
   "outputs": [
    {
     "data": {
      "text/plain": [
       "0.0528"
      ]
     },
     "execution_count": 18,
     "metadata": {},
     "output_type": "execute_result"
    }
   ],
   "source": [
    "fpr['test'].mean()"
   ]
  },
  {
   "cell_type": "markdown",
   "id": "d175767c-26a5-4e0a-bf8b-e350ea7cb156",
   "metadata": {},
   "source": [
    "# a/b (second exercise)"
   ]
  },
  {
   "cell_type": "markdown",
   "id": "73c46d93-9176-4c57-b52b-550407379403",
   "metadata": {},
   "source": [
    "Задача: определить кол-во человек в выборке для обзвона , чтобы понять степень удовлетворенности клиента."
   ]
  },
  {
   "cell_type": "markdown",
   "id": "0e493a21-17bd-455b-ae0c-5790dc247204",
   "metadata": {},
   "source": [
    "H0: удовлетворенность 80%\n",
    "\n",
    "H1: удовлетворенность мнеьше 80%"
   ]
  },
  {
   "cell_type": "markdown",
   "id": "65246f70-4a94-499a-b9bf-bacb6a948d30",
   "metadata": {},
   "source": [
    "* MDE - 10%\n",
    "* POWER(TPR, 1-beta): 80%\n",
    "\n",
    "beta -веротяность ошибки вторго рода, ложный пропуск\n",
    "* (FPR)alpha, significance: 5%"
   ]
  },
  {
   "cell_type": "markdown",
   "id": "0c28c7df-8f70-4385-81ca-02fca94269ee",
   "metadata": {},
   "source": [
    "## FPR"
   ]
  },
  {
   "cell_type": "code",
   "execution_count": 19,
   "id": "0ba37bbb-5fdd-4925-8e70-556748a08b83",
   "metadata": {},
   "outputs": [],
   "source": [
    "def second_test(mde=0, sample_size = 100):\n",
    "    tests = 100000\n",
    "    result=[]\n",
    "    \n",
    "    for i in tqdm(range(tests)):\n",
    "        np.random.seed(i)\n",
    "        \n",
    "        a=np.random.binomial(sample_size, 0.8+mde)\n",
    "        result.append(a)\n",
    "        \n",
    "    df = pd.DataFrame(result, columns=['a'])\n",
    "\n",
    "    # добавляем разницу в наш дф\n",
    "\n",
    "    df['div'] = sample_size*0.8 - df['a']\n",
    "\n",
    "    return df"
   ]
  },
  {
   "cell_type": "code",
   "execution_count": 20,
   "id": "4ba01ea5-25d3-438f-9872-3e0d9bd0a4fa",
   "metadata": {
    "scrolled": true
   },
   "outputs": [
    {
     "data": {
      "application/vnd.jupyter.widget-view+json": {
       "model_id": "f0b9d81bcf25441e98975eac9c81bcdc",
       "version_major": 2,
       "version_minor": 0
      },
      "text/plain": [
       "  0%|          | 0/100000 [00:00<?, ?it/s]"
      ]
     },
     "metadata": {},
     "output_type": "display_data"
    }
   ],
   "source": [
    "fpr = second_test()"
   ]
  },
  {
   "cell_type": "code",
   "execution_count": 21,
   "id": "e7d4c016-3aaf-4ccb-bf6a-5c473ac67bc4",
   "metadata": {},
   "outputs": [
    {
     "data": {
      "text/plain": [
       "0.05639"
      ]
     },
     "execution_count": 21,
     "metadata": {},
     "output_type": "execute_result"
    }
   ],
   "source": [
    "(fpr['div'] > 6).mean()"
   ]
  },
  {
   "cell_type": "markdown",
   "id": "4f630e01-a712-474b-8db0-49379eab9faa",
   "metadata": {},
   "source": [
    "## TPR"
   ]
  },
  {
   "cell_type": "code",
   "execution_count": 22,
   "id": "80d6399f-587e-4685-b764-99e126d7c847",
   "metadata": {},
   "outputs": [
    {
     "data": {
      "application/vnd.jupyter.widget-view+json": {
       "model_id": "e846aabdecb84d60aff76409de673810",
       "version_major": 2,
       "version_minor": 0
      },
      "text/plain": [
       "  0%|          | 0/100000 [00:00<?, ?it/s]"
      ]
     },
     "metadata": {},
     "output_type": "display_data"
    }
   ],
   "source": [
    "tpr = second_test(mde=-0.1)"
   ]
  },
  {
   "cell_type": "code",
   "execution_count": 23,
   "id": "960ccbfa-849a-4299-a51c-56c49facb758",
   "metadata": {},
   "outputs": [
    {
     "data": {
      "text/plain": [
       "0.77611"
      ]
     },
     "execution_count": 23,
     "metadata": {},
     "output_type": "execute_result"
    }
   ],
   "source": [
    "(tpr['div'] > 6).mean()"
   ]
  },
  {
   "cell_type": "markdown",
   "id": "b1655b30-a7f8-41a5-a9da-3656f2e9a8ba",
   "metadata": {},
   "source": [
    "Через цикл найдем размер выборки "
   ]
  },
  {
   "cell_type": "code",
   "execution_count": 24,
   "id": "e4c37ff8-4f3f-4017-a68c-385948b1856c",
   "metadata": {
    "scrolled": true
   },
   "outputs": [
    {
     "data": {
      "application/vnd.jupyter.widget-view+json": {
       "model_id": "9035ab644ddd47459294ce332f49de19",
       "version_major": 2,
       "version_minor": 0
      },
      "text/plain": [
       "  0%|          | 0/100000 [00:00<?, ?it/s]"
      ]
     },
     "metadata": {},
     "output_type": "display_data"
    },
    {
     "data": {
      "application/vnd.jupyter.widget-view+json": {
       "model_id": "eccad8ce36a3476ba322e7207602ac0b",
       "version_major": 2,
       "version_minor": 0
      },
      "text/plain": [
       "  0%|          | 0/100000 [00:00<?, ?it/s]"
      ]
     },
     "metadata": {},
     "output_type": "display_data"
    },
    {
     "data": {
      "application/vnd.jupyter.widget-view+json": {
       "model_id": "70797b134f18482eaa8277f253927548",
       "version_major": 2,
       "version_minor": 0
      },
      "text/plain": [
       "  0%|          | 0/100000 [00:00<?, ?it/s]"
      ]
     },
     "metadata": {},
     "output_type": "display_data"
    },
    {
     "name": "stdout",
     "output_type": "stream",
     "text": [
      "трешхолд: 7, размер: 107\n"
     ]
    },
    {
     "data": {
      "application/vnd.jupyter.widget-view+json": {
       "model_id": "a805f04e88064895aebac2127beae26c",
       "version_major": 2,
       "version_minor": 0
      },
      "text/plain": [
       "  0%|          | 0/100000 [00:00<?, ?it/s]"
      ]
     },
     "metadata": {},
     "output_type": "display_data"
    },
    {
     "data": {
      "application/vnd.jupyter.widget-view+json": {
       "model_id": "83456423f8a04aedafb7e506fbc9b021",
       "version_major": 2,
       "version_minor": 0
      },
      "text/plain": [
       "  0%|          | 0/100000 [00:00<?, ?it/s]"
      ]
     },
     "metadata": {},
     "output_type": "display_data"
    },
    {
     "name": "stdout",
     "output_type": "stream",
     "text": [
      "трешхолд: 7, размер: 108\n"
     ]
    },
    {
     "data": {
      "application/vnd.jupyter.widget-view+json": {
       "model_id": "b82389d9775f494c8184011f877e765b",
       "version_major": 2,
       "version_minor": 0
      },
      "text/plain": [
       "  0%|          | 0/100000 [00:00<?, ?it/s]"
      ]
     },
     "metadata": {},
     "output_type": "display_data"
    },
    {
     "data": {
      "application/vnd.jupyter.widget-view+json": {
       "model_id": "8c33d4b818ed4831a7e76156b906aea7",
       "version_major": 2,
       "version_minor": 0
      },
      "text/plain": [
       "  0%|          | 0/100000 [00:00<?, ?it/s]"
      ]
     },
     "metadata": {},
     "output_type": "display_data"
    },
    {
     "data": {
      "application/vnd.jupyter.widget-view+json": {
       "model_id": "64ba0be167cc438e9500fda11d346e8f",
       "version_major": 2,
       "version_minor": 0
      },
      "text/plain": [
       "  0%|          | 0/100000 [00:00<?, ?it/s]"
      ]
     },
     "metadata": {},
     "output_type": "display_data"
    },
    {
     "data": {
      "application/vnd.jupyter.widget-view+json": {
       "model_id": "a6e0487b570a48cbb3599425b1c7ef63",
       "version_major": 2,
       "version_minor": 0
      },
      "text/plain": [
       "  0%|          | 0/100000 [00:00<?, ?it/s]"
      ]
     },
     "metadata": {},
     "output_type": "display_data"
    },
    {
     "name": "stdout",
     "output_type": "stream",
     "text": [
      "трешхолд: 7, размер: 111\n"
     ]
    },
    {
     "data": {
      "application/vnd.jupyter.widget-view+json": {
       "model_id": "46421e63911e4cecbcd87d7d996a3810",
       "version_major": 2,
       "version_minor": 0
      },
      "text/plain": [
       "  0%|          | 0/100000 [00:00<?, ?it/s]"
      ]
     },
     "metadata": {},
     "output_type": "display_data"
    },
    {
     "data": {
      "application/vnd.jupyter.widget-view+json": {
       "model_id": "e7ed2797e6364d36b6c4675dc235322d",
       "version_major": 2,
       "version_minor": 0
      },
      "text/plain": [
       "  0%|          | 0/100000 [00:00<?, ?it/s]"
      ]
     },
     "metadata": {},
     "output_type": "display_data"
    },
    {
     "name": "stdout",
     "output_type": "stream",
     "text": [
      "трешхолд: 7, размер: 112\n"
     ]
    },
    {
     "data": {
      "application/vnd.jupyter.widget-view+json": {
       "model_id": "cb684915395146b1b469601935f29d63",
       "version_major": 2,
       "version_minor": 0
      },
      "text/plain": [
       "  0%|          | 0/100000 [00:00<?, ?it/s]"
      ]
     },
     "metadata": {},
     "output_type": "display_data"
    },
    {
     "name": "stdout",
     "output_type": "stream",
     "text": [
      "answer\n",
      "0.05109 0.79822\n",
      "трешхолд: 7, размер: 112\n"
     ]
    },
    {
     "data": {
      "application/vnd.jupyter.widget-view+json": {
       "model_id": "38951b86ce8d4a64b549390a25b5cf50",
       "version_major": 2,
       "version_minor": 0
      },
      "text/plain": [
       "  0%|          | 0/100000 [00:00<?, ?it/s]"
      ]
     },
     "metadata": {},
     "output_type": "display_data"
    },
    {
     "data": {
      "application/vnd.jupyter.widget-view+json": {
       "model_id": "b82265b0662a40178afc12ff5e43a5d7",
       "version_major": 2,
       "version_minor": 0
      },
      "text/plain": [
       "  0%|          | 0/100000 [00:00<?, ?it/s]"
      ]
     },
     "metadata": {},
     "output_type": "display_data"
    },
    {
     "data": {
      "application/vnd.jupyter.widget-view+json": {
       "model_id": "ff68bd2d946744f1bede82029d2d15fa",
       "version_major": 2,
       "version_minor": 0
      },
      "text/plain": [
       "  0%|          | 0/100000 [00:00<?, ?it/s]"
      ]
     },
     "metadata": {},
     "output_type": "display_data"
    },
    {
     "data": {
      "application/vnd.jupyter.widget-view+json": {
       "model_id": "093a2fe1a85d4247bdc0ba8c9a8e8536",
       "version_major": 2,
       "version_minor": 0
      },
      "text/plain": [
       "  0%|          | 0/100000 [00:00<?, ?it/s]"
      ]
     },
     "metadata": {},
     "output_type": "display_data"
    },
    {
     "name": "stdout",
     "output_type": "stream",
     "text": [
      "трешхолд: 7, размер: 116\n"
     ]
    },
    {
     "data": {
      "application/vnd.jupyter.widget-view+json": {
       "model_id": "f98ec140f2e54f8cbc6ba6120e83327b",
       "version_major": 2,
       "version_minor": 0
      },
      "text/plain": [
       "  0%|          | 0/100000 [00:00<?, ?it/s]"
      ]
     },
     "metadata": {},
     "output_type": "display_data"
    },
    {
     "data": {
      "application/vnd.jupyter.widget-view+json": {
       "model_id": "11869529a3054ef7996f10860cf4655c",
       "version_major": 2,
       "version_minor": 0
      },
      "text/plain": [
       "  0%|          | 0/100000 [00:00<?, ?it/s]"
      ]
     },
     "metadata": {},
     "output_type": "display_data"
    },
    {
     "name": "stdout",
     "output_type": "stream",
     "text": [
      "трешхолд: 7, размер: 117\n"
     ]
    },
    {
     "data": {
      "application/vnd.jupyter.widget-view+json": {
       "model_id": "4a61c295cb734607a8b71507cd90259a",
       "version_major": 2,
       "version_minor": 0
      },
      "text/plain": [
       "  0%|          | 0/100000 [00:00<?, ?it/s]"
      ]
     },
     "metadata": {},
     "output_type": "display_data"
    },
    {
     "data": {
      "application/vnd.jupyter.widget-view+json": {
       "model_id": "0f25d3336c874550b42019bc3957608e",
       "version_major": 2,
       "version_minor": 0
      },
      "text/plain": [
       "  0%|          | 0/100000 [00:00<?, ?it/s]"
      ]
     },
     "metadata": {},
     "output_type": "display_data"
    },
    {
     "data": {
      "application/vnd.jupyter.widget-view+json": {
       "model_id": "87ff3094f5754ba0a26562251153b9a1",
       "version_major": 2,
       "version_minor": 0
      },
      "text/plain": [
       "  0%|          | 0/100000 [00:00<?, ?it/s]"
      ]
     },
     "metadata": {},
     "output_type": "display_data"
    },
    {
     "data": {
      "application/vnd.jupyter.widget-view+json": {
       "model_id": "5a59f0c4bef8497ba984461ec0de8711",
       "version_major": 2,
       "version_minor": 0
      },
      "text/plain": [
       "  0%|          | 0/100000 [00:00<?, ?it/s]"
      ]
     },
     "metadata": {},
     "output_type": "display_data"
    },
    {
     "name": "stdout",
     "output_type": "stream",
     "text": [
      "трешхолд: 7, размер: 120\n"
     ]
    },
    {
     "data": {
      "application/vnd.jupyter.widget-view+json": {
       "model_id": "75021b2236a5467ca67a8290b7a56f59",
       "version_major": 2,
       "version_minor": 0
      },
      "text/plain": [
       "  0%|          | 0/100000 [00:00<?, ?it/s]"
      ]
     },
     "metadata": {},
     "output_type": "display_data"
    },
    {
     "data": {
      "application/vnd.jupyter.widget-view+json": {
       "model_id": "fd69df86944e4ffe96e34f47df7b8544",
       "version_major": 2,
       "version_minor": 0
      },
      "text/plain": [
       "  0%|          | 0/100000 [00:00<?, ?it/s]"
      ]
     },
     "metadata": {},
     "output_type": "display_data"
    },
    {
     "name": "stdout",
     "output_type": "stream",
     "text": [
      "трешхолд: 7, размер: 121\n"
     ]
    },
    {
     "data": {
      "application/vnd.jupyter.widget-view+json": {
       "model_id": "08547e3184674c518d4a565bc43e2185",
       "version_major": 2,
       "version_minor": 0
      },
      "text/plain": [
       "  0%|          | 0/100000 [00:00<?, ?it/s]"
      ]
     },
     "metadata": {},
     "output_type": "display_data"
    },
    {
     "data": {
      "application/vnd.jupyter.widget-view+json": {
       "model_id": "43914c0d84e542d5b908390a252c4fb0",
       "version_major": 2,
       "version_minor": 0
      },
      "text/plain": [
       "  0%|          | 0/100000 [00:00<?, ?it/s]"
      ]
     },
     "metadata": {},
     "output_type": "display_data"
    },
    {
     "data": {
      "application/vnd.jupyter.widget-view+json": {
       "model_id": "737cd2550e0d42b6881820cf384a4ebc",
       "version_major": 2,
       "version_minor": 0
      },
      "text/plain": [
       "  0%|          | 0/100000 [00:00<?, ?it/s]"
      ]
     },
     "metadata": {},
     "output_type": "display_data"
    },
    {
     "data": {
      "application/vnd.jupyter.widget-view+json": {
       "model_id": "e414d0e831af4b9c82cc2a58200ed52c",
       "version_major": 2,
       "version_minor": 0
      },
      "text/plain": [
       "  0%|          | 0/100000 [00:00<?, ?it/s]"
      ]
     },
     "metadata": {},
     "output_type": "display_data"
    },
    {
     "name": "stdout",
     "output_type": "stream",
     "text": [
      "трешхолд: 8, размер: 124\n"
     ]
    },
    {
     "data": {
      "application/vnd.jupyter.widget-view+json": {
       "model_id": "e2ed6ee5d99f45c787045ff8ece263a3",
       "version_major": 2,
       "version_minor": 0
      },
      "text/plain": [
       "  0%|          | 0/100000 [00:00<?, ?it/s]"
      ]
     },
     "metadata": {},
     "output_type": "display_data"
    }
   ],
   "source": [
    "# задаем размер предполагаемой выборки\n",
    "size = 105\n",
    "\n",
    "# задаем размер итерации по трешхолду\n",
    "size_thrash = 10\n",
    "\n",
    "\n",
    "for _ in range(20):\n",
    "\n",
    "    # получаем fpr\n",
    "    fpr = second_test(sample_size=size)\n",
    "    \n",
    "    for threshhold in range(size_thrash):\n",
    "\n",
    "        # только если round(alpha) == 0.05\n",
    "        if round((fpr['div'] > threshhold).mean(),2) == 0.05:\n",
    "            \n",
    "            print(f'трешхолд: {threshhold}, размер: {size}')\n",
    "\n",
    "            # получаем tpr\n",
    "            tpr = second_test(mde=-0.1, sample_size=size)\n",
    "\n",
    "            if round((tpr['div'] > threshhold).mean(),2) == 0.80:\n",
    "                print('answer')\n",
    "                print((fpr['div'] > threshhold).mean(), (tpr['div'] > threshhold).mean())\n",
    "                print(f'трешхолд: {threshhold}, размер: {size}')\n",
    "\n",
    "    size +=1\n",
    "    size_thrash +=1"
   ]
  },
  {
   "cell_type": "markdown",
   "id": "b9f89fbd-cd6a-4a7c-8594-7d94d5b99a84",
   "metadata": {},
   "source": [
    "answer\n",
    "\n",
    "0.05109 0.79822\n",
    "\n",
    "трешхолд: 7, размер: 112"
   ]
  },
  {
   "cell_type": "markdown",
   "id": "4e46a625-53c6-45a7-a119-772f7884dbf5",
   "metadata": {},
   "source": [
    "## P values"
   ]
  },
  {
   "cell_type": "code",
   "execution_count": 41,
   "id": "df7e58f4-0525-4fe3-9d80-bfc06c9f5eb6",
   "metadata": {},
   "outputs": [
    {
     "data": {
      "application/vnd.jupyter.widget-view+json": {
       "model_id": "4f939923955b40f2aed5d36640f75851",
       "version_major": 2,
       "version_minor": 0
      },
      "text/plain": [
       "  0%|          | 0/100000 [00:00<?, ?it/s]"
      ]
     },
     "metadata": {},
     "output_type": "display_data"
    }
   ],
   "source": [
    "# в задании было указано 115\n",
    "df = second_test(sample_size=115)"
   ]
  },
  {
   "cell_type": "code",
   "execution_count": 42,
   "id": "f6ef02f6-e0ed-4c02-9436-adde1876081d",
   "metadata": {},
   "outputs": [
    {
     "data": {
      "text/plain": [
       "21.0"
      ]
     },
     "execution_count": 42,
     "metadata": {},
     "output_type": "execute_result"
    }
   ],
   "source": [
    "df['div'].max()"
   ]
  },
  {
   "cell_type": "code",
   "execution_count": 43,
   "id": "517a37a7-0e9d-4132-8357-156b7b2bd35c",
   "metadata": {},
   "outputs": [],
   "source": [
    "threshholds = np.arange(1,int(df['div'].max()+1))"
   ]
  },
  {
   "cell_type": "code",
   "execution_count": 49,
   "id": "9fd23a5a-042a-4866-8d5f-5c3769a8c48e",
   "metadata": {},
   "outputs": [],
   "source": [
    "result=[]\n",
    "for threshold in threshholds:\n",
    "    pval = (df['div']>=threshold).mean()\n",
    "    result.append((threshold, pval))"
   ]
  },
  {
   "cell_type": "code",
   "execution_count": 52,
   "id": "f5429205-0bd2-4dde-9e7a-8a42c6bac7bf",
   "metadata": {},
   "outputs": [],
   "source": [
    "df_answer = pd.DataFrame(result, columns=['people', 'pvalue'])"
   ]
  },
  {
   "cell_type": "code",
   "execution_count": 55,
   "id": "16ad4899-5c3f-45f6-ae70-8b969fff9a33",
   "metadata": {},
   "outputs": [],
   "source": [
    "import matplotlib.pyplot as plt"
   ]
  },
  {
   "cell_type": "code",
   "execution_count": 56,
   "id": "89e8dd2f-92bc-4215-b831-43e2bc8c9681",
   "metadata": {},
   "outputs": [
    {
     "data": {
      "image/png": "[encoded data removed]",
      "text/plain": [
       "<Figure size 640x480 with 1 Axes>"
      ]
     },
     "metadata": {},
     "output_type": "display_data"
    }
   ],
   "source": [
    "df_answer.set_index('people').plot()\n",
    "plt.show()"
   ]
  },
  {
   "cell_type": "code",
   "execution_count": null,
   "id": "52680159-6790-4be9-b218-d319fb87e17e",
   "metadata": {},
   "outputs": [],
   "source": []
  }
 ],
 "metadata": {
  "kernelspec": {
   "display_name": "Python 3 (ipykernel)",
   "language": "python",
   "name": "python3"
  },
  "language_info": {
   "codemirror_mode": {
    "name": "ipython",
    "version": 3
   },
   "file_extension": ".py",
   "mimetype": "text/x-python",
   "name": "python",
   "nbconvert_exporter": "python",
   "pygments_lexer": "ipython3",
   "version": "3.11.5"
  }
 },
 "nbformat": 4,
 "nbformat_minor": 5
}
