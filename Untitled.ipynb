{
 "cells": [
  {
   "cell_type": "code",
   "execution_count": 8,
   "id": "d2e00ac3-be00-4d57-86b0-cd67973163a1",
   "metadata": {},
   "outputs": [],
   "source": [
    "import pandas as pd\n",
    "import numpy as np\n",
    "import random"
   ]
  },
  {
   "cell_type": "code",
   "execution_count": 144,
   "id": "1551534b-6221-4e8d-b933-f9b79fabe5f7",
   "metadata": {},
   "outputs": [],
   "source": [
    "id=np.arange(1,101,1).astype('int')"
   ]
  },
  {
   "cell_type": "code",
   "execution_count": 145,
   "id": "61aafdce-c427-4a3f-86a8-812495f0c8b5",
   "metadata": {},
   "outputs": [],
   "source": [
    "second=np.random.choice([1, 0], size=100)"
   ]
  },
  {
   "cell_type": "code",
   "execution_count": 146,
   "id": "4abfb09e-a456-465b-a15c-dd87e7979456",
   "metadata": {},
   "outputs": [],
   "source": [
    "third=np.random.randint(1, 4, size=100).astype('str')"
   ]
  },
  {
   "cell_type": "code",
   "execution_count": 147,
   "id": "481d975d-ebdc-4436-a5df-807bf91cb35e",
   "metadata": {},
   "outputs": [],
   "source": [
    "qlick =np.random.randint(1, 11, size=100)"
   ]
  },
  {
   "cell_type": "code",
   "execution_count": 148,
   "id": "30ad3d52-53dc-4003-a330-b8e24b9abd51",
   "metadata": {},
   "outputs": [],
   "source": [
    "data = pd.DataFrame(np.column_stack((id,third,second,qlick)), columns=['Profile', 'Initiator', 'Result', 'TapCount'])"
   ]
  },
  {
   "cell_type": "code",
   "execution_count": 149,
   "id": "c06d36fe-d52c-4c3f-92c6-91b1e74a4088",
   "metadata": {},
   "outputs": [],
   "source": [
    "data['TapCount']=data['TapCount'].astype('int')\n",
    "data['Result']=data['Result'].astype('int')\n",
    "data['Result']=data['Result'].astype('bool')"
   ]
  },
  {
   "cell_type": "code",
   "execution_count": 150,
   "id": "20082e61-ee75-49f6-9b86-2a75f81c7c29",
   "metadata": {},
   "outputs": [
    {
     "name": "stdout",
     "output_type": "stream",
     "text": [
      "<class 'pandas.core.frame.DataFrame'>\n",
      "RangeIndex: 100 entries, 0 to 99\n",
      "Data columns (total 4 columns):\n",
      " #   Column     Non-Null Count  Dtype \n",
      "---  ------     --------------  ----- \n",
      " 0   Profile    100 non-null    object\n",
      " 1   Initiator  100 non-null    object\n",
      " 2   Result     100 non-null    bool  \n",
      " 3   TapCount   100 non-null    int64 \n",
      "dtypes: bool(1), int64(1), object(2)\n",
      "memory usage: 2.6+ KB\n"
     ]
    }
   ],
   "source": [
    "data.info()"
   ]
  },
  {
   "cell_type": "code",
   "execution_count": 151,
   "id": "cc8ea669-497e-43f8-913d-2f45b5d13b4b",
   "metadata": {},
   "outputs": [
    {
     "data": {
      "text/html": [
       "<div>\n",
       "<style scoped>\n",
       "    .dataframe tbody tr th:only-of-type {\n",
       "        vertical-align: middle;\n",
       "    }\n",
       "\n",
       "    .dataframe tbody tr th {\n",
       "        vertical-align: top;\n",
       "    }\n",
       "\n",
       "    .dataframe thead th {\n",
       "        text-align: right;\n",
       "    }\n",
       "</style>\n",
       "<table border=\"1\" class=\"dataframe\">\n",
       "  <thead>\n",
       "    <tr style=\"text-align: right;\">\n",
       "      <th></th>\n",
       "      <th>Profile</th>\n",
       "    </tr>\n",
       "    <tr>\n",
       "      <th>Initiator</th>\n",
       "      <th></th>\n",
       "    </tr>\n",
       "  </thead>\n",
       "  <tbody>\n",
       "    <tr>\n",
       "      <th>1</th>\n",
       "      <td>39</td>\n",
       "    </tr>\n",
       "    <tr>\n",
       "      <th>2</th>\n",
       "      <td>38</td>\n",
       "    </tr>\n",
       "    <tr>\n",
       "      <th>3</th>\n",
       "      <td>23</td>\n",
       "    </tr>\n",
       "  </tbody>\n",
       "</table>\n",
       "</div>"
      ],
      "text/plain": [
       "           Profile\n",
       "Initiator         \n",
       "1               39\n",
       "2               38\n",
       "3               23"
      ]
     },
     "execution_count": 151,
     "metadata": {},
     "output_type": "execute_result"
    }
   ],
   "source": [
    "data.groupby('Initiator').agg({'Profile':'nunique'})"
   ]
  },
  {
   "cell_type": "markdown",
   "id": "db93a8db-4ea1-4db6-a1f7-3c094b8ee1d3",
   "metadata": {},
   "source": [
    "Как вывести долю в % успешных и неуспешных показов для каждого рекламного источника?"
   ]
  },
  {
   "cell_type": "code",
   "execution_count": 176,
   "id": "1f068a63-a4ad-4408-b281-fe7f5b5b1218",
   "metadata": {},
   "outputs": [
    {
     "data": {
      "text/html": [
       "<div>\n",
       "<style scoped>\n",
       "    .dataframe tbody tr th:only-of-type {\n",
       "        vertical-align: middle;\n",
       "    }\n",
       "\n",
       "    .dataframe tbody tr th {\n",
       "        vertical-align: top;\n",
       "    }\n",
       "\n",
       "    .dataframe thead th {\n",
       "        text-align: right;\n",
       "    }\n",
       "</style>\n",
       "<table border=\"1\" class=\"dataframe\">\n",
       "  <thead>\n",
       "    <tr style=\"text-align: right;\">\n",
       "      <th></th>\n",
       "      <th>Initiator</th>\n",
       "      <th>Result_sum</th>\n",
       "      <th>Result_count</th>\n",
       "      <th>success</th>\n",
       "      <th>unsuccess</th>\n",
       "    </tr>\n",
       "  </thead>\n",
       "  <tbody>\n",
       "    <tr>\n",
       "      <th>0</th>\n",
       "      <td>source1</td>\n",
       "      <td>2</td>\n",
       "      <td>3</td>\n",
       "      <td>66.67</td>\n",
       "      <td>33.33</td>\n",
       "    </tr>\n",
       "    <tr>\n",
       "      <th>1</th>\n",
       "      <td>source2</td>\n",
       "      <td>1</td>\n",
       "      <td>2</td>\n",
       "      <td>50.00</td>\n",
       "      <td>50.00</td>\n",
       "    </tr>\n",
       "  </tbody>\n",
       "</table>\n",
       "</div>"
      ],
      "text/plain": [
       "  Initiator  Result_sum  Result_count  success  unsuccess\n",
       "0   source1           2             3    66.67      33.33\n",
       "1   source2           1             2    50.00      50.00"
      ]
     },
     "execution_count": 176,
     "metadata": {},
     "output_type": "execute_result"
    }
   ],
   "source": [
    "answer = data.groupby('Initiator').agg({'Result':['sum','count']})\n",
    "\n",
    "# Убираем мультиндекс и переименовываем столбцы\n",
    "answer.columns = ['_'.join(col).strip() for col in answer.columns.values]\n",
    "answer = answer.reset_index()\n",
    "\n",
    "# считаем долю в % для каждого рекл источника\n",
    "answer['success'] = round((answer['Result_sum'] / answer['Result_count']) *100,2)\n",
    "answer['unsuccess'] = round(((answer['Result_count']-answer['Result_sum']) / answer['Result_count']) *100,2)\n",
    "\n",
    "answer"
   ]
  },
  {
   "cell_type": "code",
   "execution_count": 172,
   "id": "748b8d64-9abf-4018-b19c-0ac995237a5b",
   "metadata": {},
   "outputs": [],
   "source": []
  },
  {
   "cell_type": "code",
   "execution_count": 175,
   "id": "b7554d22-915f-48ef-a90d-73cd3ac23e6f",
   "metadata": {},
   "outputs": [
    {
     "name": "stdout",
     "output_type": "stream",
     "text": [
      "  Initiator  TotalViewsCount  SuccessfulViewsCount  UnsuccessfulViewsCount  \\\n",
      "0   source1                3                     2                       1   \n",
      "1   source2                2                     1                       1   \n",
      "\n",
      "   SuccessfulPercentage  UnsuccessfulPercentage  UniqueUsersCount  \n",
      "0             66.666667               33.333333                 2  \n",
      "1             50.000000               50.000000                 2  \n"
     ]
    }
   ],
   "source": [
    "import pandas as pd\n",
    "\n",
    "# Пример данных\n",
    "data = pd.DataFrame({\n",
    "    'Profile': ['user1', 'user2', 'user3', 'user1', 'user4'],\n",
    "    'Initiator': ['source1', 'source1', 'source2', 'source1', 'source2'],\n",
    "    'Result': [1, 0, 1, 1, 0],\n",
    "    'TapCount': [5, 3, 2, 4, 1]\n",
    "})\n",
    "\n",
    "# Количество уникальных пользователей для каждого рекламного источника\n",
    "unique_users_count = data.groupby('Initiator')['Profile'].nunique().reset_index()\n",
    "unique_users_count.rename(columns={'Profile': 'UniqueUsersCount'}, inplace=True)\n",
    "\n",
    "# Считаем общее количество показов и успешные/неуспешные показы\n",
    "result_stats = data.groupby('Initiator').agg(\n",
    "    TotalViews=('Result', 'size'),\n",
    "    SuccessfulViews=('Result', 'sum'),\n",
    "    UnsuccessfulViews=('Result', lambda x: (x == 0).sum())\n",
    ").reset_index()\n",
    "\n",
    "# Вычисляем долю успешных и неуспешных показов в %\n",
    "result_stats['SuccessfulPercentage'] = (result_stats['SuccessfulViews'] / result_stats['TotalViews']) * 100\n",
    "result_stats['UnsuccessfulPercentage'] = (result_stats['UnsuccessfulViews'] / result_stats['TotalViews']) * 100\n",
    "\n",
    "# Переименуйте столбцы для ясности\n",
    "result_stats.rename(columns={\n",
    "    'TotalViews': 'TotalViewsCount',\n",
    "    'SuccessfulViews': 'SuccessfulViewsCount',\n",
    "    'UnsuccessfulViews': 'UnsuccessfulViewsCount'\n",
    "}, inplace=True)\n",
    "\n",
    "# Объединяем результаты\n",
    "final_result = pd.merge(result_stats, unique_users_count, on='Initiator')\n",
    "\n",
    "print(final_result)"
   ]
  },
  {
   "cell_type": "code",
   "execution_count": null,
   "id": "ed506c59-e328-45c2-8567-7adea97e0f60",
   "metadata": {},
   "outputs": [],
   "source": []
  }
 ],
 "metadata": {
  "kernelspec": {
   "display_name": "Python 3 (ipykernel)",
   "language": "python",
   "name": "python3"
  },
  "language_info": {
   "codemirror_mode": {
    "name": "ipython",
    "version": 3
   },
   "file_extension": ".py",
   "mimetype": "text/x-python",
   "name": "python",
   "nbconvert_exporter": "python",
   "pygments_lexer": "ipython3",
   "version": "3.11.5"
  }
 },
 "nbformat": 4,
 "nbformat_minor": 5
}
