{
 "cells": [
  {
   "cell_type": "markdown",
   "metadata": {
    "jp-MarkdownHeadingCollapsed": true
   },
   "source": [
    "### Полуесов Андрей, aspoluesov@edu.hse.ru - первую часть проходил с этой почты."
   ]
  },
  {
   "cell_type": "markdown",
   "metadata": {
    "id": "Kr8O7js8QdFD"
   },
   "source": [
    "### Задача 1. Декоратор. (15)\n",
    "\n",
    "Напишите декоратор, который будет выполнять функцию трижды, делая между выполнениями перерыв в 2 секунды. После каждого выполнения декоратор должен выводить на экран аргументы функции и результат работы (возвращаемое значение)"
   ]
  },
  {
   "cell_type": "code",
   "execution_count": 15,
   "metadata": {
    "id": "8rnqhsSGQfPR"
   },
   "outputs": [
    {
     "name": "stdout",
     "output_type": "stream",
     "text": [
      "fuck\n",
      "аргументы: ([1, 2, 3], {'1': 1, '2': 2}, 1, 2)\n",
      "именованные аргументы: {'val': 'sadasd', 'val2': 'sdad'}\n",
      "fuck\n",
      "аргументы: ([1, 2, 3], {'1': 1, '2': 2}, 1, 2)\n",
      "именованные аргументы: {'val': 'sadasd', 'val2': 'sdad'}\n",
      "fuck\n",
      "аргументы: ([1, 2, 3], {'1': 1, '2': 2}, 1, 2)\n",
      "именованные аргументы: {'val': 'sadasd', 'val2': 'sdad'}\n"
     ]
    }
   ],
   "source": [
    "import time\n",
    "\n",
    "def repeat_third(func):\n",
    "    \"\"\"\n",
    "    Изменяет функцию :\n",
    "    выводи три раза аргументы и \n",
    "    именованные аргументы с\n",
    "    перерывом 2 сек.\n",
    "    \"\"\"\n",
    "    def wrapper(*args, **kwargs):\n",
    "        for _ in range(3):\n",
    "            print(func(*args, **kwargs))\n",
    "            print('аргументы:', args)\n",
    "            print('именованные аргументы:', kwargs)\n",
    "            time.sleep(2)\n",
    "    return wrapper\n",
    "\n",
    "\n",
    "@repeat_third\n",
    "def funct(*args, **kwargs):\n",
    "    return 'fuck'\n",
    "\n",
    "\n",
    "funct([1, 2, 3], {'1':1,'2':2},1,2, val=\"sadasd\", val2=\"sdad\")"
   ]
  },
  {
   "cell_type": "markdown",
   "metadata": {
    "id": "MqYm6QvUSko4"
   },
   "source": [
    "### Задача 2. Генератор. (20)\n",
    "\n",
    "Напишите генератор, который принимает коллекцию с вложенными итерируемыми объектами, а возвращает каждый элемент последовательно.Если \"распаковать\" все получаемые значения в list, получится \"сплющенный\" список. Например:\n",
    "\n",
    "[[1, 2, 3], [4, [5, 6, [7, 8]]]] -> [1, 2, 3, 4, 5, 6, 7, 8]"
   ]
  },
  {
   "cell_type": "code",
   "execution_count": 9,
   "metadata": {
    "id": "0jam99w5WHA2"
   },
   "outputs": [
    {
     "name": "stdout",
     "output_type": "stream",
     "text": [
      "1.4\n",
      "2\n",
      "a\n",
      "b\n",
      "c\n",
      "2\n",
      "4\n",
      "k\n",
      "e\n",
      "y\n",
      "1\n",
      "2\n",
      "3\n",
      "f\n",
      "u\n",
      "c\n",
      "k\n",
      "1\n",
      "2\n",
      "3\n",
      "4\n"
     ]
    },
    {
     "ename": "StopIteration",
     "evalue": "",
     "output_type": "error",
     "traceback": [
      "\u001b[0;31m---------------------------------------------------------------------------\u001b[0m",
      "\u001b[0;31mStopIteration\u001b[0m                             Traceback (most recent call last)",
      "Cell \u001b[0;32mIn[9], line 32\u001b[0m\n\u001b[1;32m     30\u001b[0m answer \u001b[38;5;241m=\u001b[39m gener(a)\n\u001b[1;32m     31\u001b[0m \u001b[38;5;28;01mwhile\u001b[39;00m \u001b[38;5;28;01mTrue\u001b[39;00m:\n\u001b[0;32m---> 32\u001b[0m     \u001b[38;5;28mprint\u001b[39m(\u001b[38;5;28mnext\u001b[39m(answer))\n",
      "\u001b[0;31mStopIteration\u001b[0m: "
     ]
    }
   ],
   "source": [
    "# перебор сделал через while построчно, раскрывает и выводит значения посимвольно и последовательно .\n",
    "\n",
    "def gener(spisok):\n",
    "    \"\"\"\n",
    "    генератор списка с рекурсией\n",
    "    \"\"\"\n",
    "    for value in spisok:\n",
    "\n",
    "        # перебираем значения списка\n",
    "        if (not isinstance(value, int)) and (not isinstance(value, str)) and (not isinstance(value, float)):\n",
    "            # print(value)\n",
    "            # если тип данных не циферки и букавки\n",
    "            # то делаем рекурсию с перебором\n",
    "            for nums in gener(value):\n",
    "\n",
    "                yield nums\n",
    "        else:\n",
    "            # если строка то итерируемся, для чисел выводим\n",
    "            if isinstance(value, str):\n",
    "                for letter in value:\n",
    "                    yield letter\n",
    "            else:\n",
    "                yield value\n",
    "\n",
    "\n",
    "# exampler\n",
    "#a = [[1, 2, 3], [4, [5, 6, [7, 8]]]]\n",
    "a = [[1.4, 2, 'abc', [2, 4], {'key' : 'value'}], [[[[(1,2,3)]]]], {'fuck',1,2,3,4}]\n",
    "\n",
    "answer = gener(a)\n",
    "while True:\n",
    "    print(next(answer))"
   ]
  },
  {
   "cell_type": "code",
   "execution_count": 10,
   "metadata": {},
   "outputs": [
    {
     "name": "stdout",
     "output_type": "stream",
     "text": [
      "1\n",
      "2\n",
      "3\n",
      "4\n",
      "5\n",
      "6\n",
      "7\n",
      "8\n"
     ]
    },
    {
     "ename": "StopIteration",
     "evalue": "",
     "output_type": "error",
     "traceback": [
      "\u001b[0;31m---------------------------------------------------------------------------\u001b[0m",
      "\u001b[0;31mStopIteration\u001b[0m                             Traceback (most recent call last)",
      "Cell \u001b[0;32mIn[10], line 4\u001b[0m\n\u001b[1;32m      2\u001b[0m answer \u001b[38;5;241m=\u001b[39m gener(a)\n\u001b[1;32m      3\u001b[0m \u001b[38;5;28;01mwhile\u001b[39;00m \u001b[38;5;28;01mTrue\u001b[39;00m:\n\u001b[0;32m----> 4\u001b[0m     \u001b[38;5;28mprint\u001b[39m(\u001b[38;5;28mnext\u001b[39m(answer))\n",
      "\u001b[0;31mStopIteration\u001b[0m: "
     ]
    }
   ],
   "source": [
    "a = [[1, 2, 3], [4, [5, 6, [7, 8]]]]\n",
    "answer = gener(a)\n",
    "while True:\n",
    "    print(next(answer))"
   ]
  },
  {
   "cell_type": "markdown",
   "metadata": {
    "id": "oMq97028UDAG"
   },
   "source": [
    "### Задача 3. itertools (15)\n",
    "\n",
    "Модуль itertools представляет много инструментов для работы с итераторами.\n",
    "\n",
    "Ознакомиться с ними можно здесь: https://docs.python.org/3/library/itertools.html\n",
    "\n",
    "Вводится числа через пробел с одной строке. Затем вводится число n.\n",
    "\n",
    "Напишите программу, которая находит все уникальные пары чисел из списка, где сумма каждой пары равна числу n. Можете использовать itertools.\n",
    "\n",
    "Например, списка [1, 2, 3, 4, 5, 6] и n=7 программа должна вывести пары чисел, которые в сумме дают 7: [(1, 6), (2, 5), (3, 4)]."
   ]
  },
  {
   "cell_type": "code",
   "execution_count": 11,
   "metadata": {
    "id": "VN20gozgWHiy"
   },
   "outputs": [
    {
     "name": "stdin",
     "output_type": "stream",
     "text": [
      " 0 1 2 3 4 5 6 7\n",
      " 7\n"
     ]
    },
    {
     "name": "stdout",
     "output_type": "stream",
     "text": [
      "[('0', '7'), ('1', '6'), ('2', '5'), ('3', '4')]\n"
     ]
    }
   ],
   "source": [
    "import itertools\n",
    "\n",
    "# получаем список, ВАЖНО вводим цифры через пробел!\n",
    "spisok = input().split(' ')\n",
    "# получакм число\n",
    "sum_of_number = int(input())\n",
    "# выводим за счет фильтра те знаечния, которые равны числу\n",
    "print(list(filter(lambda number:\n",
    "                  int(number[0])+int(number[1]) == sum_of_number,\n",
    "                  list(itertools.combinations(spisok, 2)))))"
   ]
  },
  {
   "cell_type": "code",
   "execution_count": 46,
   "metadata": {},
   "outputs": [
    {
     "name": "stdin",
     "output_type": "stream",
     "text": [
      " 0 1 2 2 3 4 5 6 7 8\n",
      " 6\n"
     ]
    },
    {
     "name": "stdout",
     "output_type": "stream",
     "text": [
      "[('0', '6'), ('1', '5'), ('2', '4'), ('2', '4')]\n"
     ]
    }
   ],
   "source": [
    "# получаем список, ВАЖНО вводим цифры через пробел!\n",
    "spisok = input().split(' ')\n",
    "# получакм число\n",
    "sum_of_number = int(input())\n",
    "# выводим за счет фильтра те знаечния, которые равны числу\n",
    "print(list(filter(lambda number:\n",
    "                  int(number[0])+int(number[1]) == sum_of_number,\n",
    "                  list(itertools.combinations(spisok, 2)))))"
   ]
  },
  {
   "cell_type": "markdown",
   "metadata": {
    "id": "_jSc7xl-VCCq"
   },
   "source": [
    "## Задача 4.1 Очень функциональное программирование (2).\n",
    "\n",
    "Вводятся числа в одной строке через пробел.\n",
    "\n",
    "Например, '4 2 5 2 5 1'\n",
    "\n",
    "Необходимо найти наименьшее нечетное число. Например, для примера выше это 1.\n",
    "\n",
    "Решение должно занимать ровно одну строку любой длины.\n",
    "\n",
    "Запрещено использовать циклы, условные операторы и list comprehension.\n"
   ]
  },
  {
   "cell_type": "code",
   "execution_count": 12,
   "metadata": {},
   "outputs": [
    {
     "name": "stdin",
     "output_type": "stream",
     "text": [
      " 8 9 10 12312 232 48 234 11 12 13 7\n"
     ]
    },
    {
     "name": "stdout",
     "output_type": "stream",
     "text": [
      "7\n"
     ]
    }
   ],
   "source": [
    "# сначала фильтруем по нечетности, меняем тип значений на int. затем сотритруем и выводим\n",
    "print(sorted(list(map(lambda x:int(x) ,filter(lambda x: int(x) % 2 != 0, input().split(' ')))))[0])"
   ]
  },
  {
   "cell_type": "code",
   "execution_count": 41,
   "metadata": {},
   "outputs": [
    {
     "name": "stdin",
     "output_type": "stream",
     "text": [
      " 4 2 5 2 5 1\n"
     ]
    },
    {
     "name": "stdout",
     "output_type": "stream",
     "text": [
      "1\n"
     ]
    }
   ],
   "source": [
    "print(sorted(list(map(lambda x:int(x) ,filter(lambda x: int(x) % 2 != 0, input().split(' ')))))[0])"
   ]
  },
  {
   "cell_type": "markdown",
   "metadata": {
    "id": "i-CiF6O9WS2q"
   },
   "source": [
    "## Задача 4.2 itertools и очень функциональное программирование (3)."
   ]
  },
  {
   "cell_type": "markdown",
   "metadata": {
    "id": "qs75u_OVWjd2"
   },
   "source": [
    "Вводится одно число n.\n",
    "\n",
    "Используя модуль itertools, выведите в одной строке через запятую и пробел факториалы чисел от 0 до n.\n",
    "\n",
    "\n",
    "Запрещено использовать циклы, условные операторы и list comprehension.\n",
    "\n",
    "Например, для n = 7 на экран надо вывести:\n",
    "\n",
    "1, 1, 2, 6, 24, 120, 720, 5040"
   ]
  },
  {
   "cell_type": "code",
   "execution_count": 42,
   "metadata": {
    "id": "q1dFCXhOW8ah"
   },
   "outputs": [],
   "source": [
    "import itertools"
   ]
  },
  {
   "cell_type": "code",
   "execution_count": 43,
   "metadata": {},
   "outputs": [
    {
     "name": "stdin",
     "output_type": "stream",
     "text": [
      " 7\n"
     ]
    },
    {
     "name": "stdout",
     "output_type": "stream",
     "text": [
      "1 1 2 6 24 120 720 5040\n"
     ]
    }
   ],
   "source": [
    "print(*list(itertools.accumulate([1]+list(range(1, int(input())+1)), lambda a, b: a*b)))"
   ]
  },
  {
   "cell_type": "code",
   "execution_count": 44,
   "metadata": {},
   "outputs": [
    {
     "name": "stdin",
     "output_type": "stream",
     "text": [
      " 10\n"
     ]
    },
    {
     "name": "stdout",
     "output_type": "stream",
     "text": [
      "1 1 2 6 24 120 720 5040 40320 362880 3628800\n"
     ]
    }
   ],
   "source": [
    "print(*list(itertools.accumulate([1]+list(range(1, int(input())+1)), lambda a, b: a*b)))"
   ]
  },
  {
   "cell_type": "code",
   "execution_count": 45,
   "metadata": {},
   "outputs": [
    {
     "name": "stdin",
     "output_type": "stream",
     "text": [
      " 22\n"
     ]
    },
    {
     "name": "stdout",
     "output_type": "stream",
     "text": [
      "1 1 2 6 24 120 720 5040 40320 362880 3628800 39916800 479001600 6227020800 87178291200 1307674368000 20922789888000 355687428096000 6402373705728000 121645100408832000 2432902008176640000 51090942171709440000 1124000727777607680000\n"
     ]
    }
   ],
   "source": [
    "print(*list(itertools.accumulate([1]+list(range(1, int(input())+1)), lambda a, b: a*b)))"
   ]
  }
 ],
 "metadata": {
  "colab": {
   "provenance": []
  },
  "kernelspec": {
   "display_name": "Python 3 (ipykernel)",
   "language": "python",
   "name": "python3"
  },
  "language_info": {
   "codemirror_mode": {
    "name": "ipython",
    "version": 3
   },
   "file_extension": ".py",
   "mimetype": "text/x-python",
   "name": "python",
   "nbconvert_exporter": "python",
   "pygments_lexer": "ipython3",
   "version": "3.11.5"
  }
 },
 "nbformat": 4,
 "nbformat_minor": 4
}
